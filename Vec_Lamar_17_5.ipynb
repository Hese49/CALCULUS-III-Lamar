{
 "cells": [
  {
   "cell_type": "markdown",
   "id": "c837f387",
   "metadata": {},
   "source": [
    " ===================================================================================================================\n",
    " \n",
    " ## Stokes' Theorem ##\n",
    " \n",
    " **With Python SymPy**\n",
    " \n",
    "The next Examples and Practice Problems and their images come from **Paul Dawkins** excellent lecture notes: http://tutorial.math.lamar.edu/index.aspx, where you can the find the underlying theory of calculations and the detailed 'paper and pen' solutions. To use this material you must read *'Terms of Use'* from https://tutorial.math.lamar.edu/Terms.aspx.\n",
    "\n",
    "====================================================================================================================\n",
    "\n",
    "\n",
    "**Stoke’s Theorem.** Let *S* be an oriented smooth surface that is bounded by a simple, closed, smooth boundary curve *C* with positive orientation. Also let $\\vec{F}$ be a vector field then,  \n",
    "             \n",
    "$$ \\begin{array}{l}\\oint _{C} \\vec{F} \\cdot \\vec{dr} = \\iint_{S}(\\bigtriangledown \\times \\vec{F}) \\cdot \\vec{dS}\\end{array}$$\n",
    "\n",
    "(Watch the YouTube: Dr. Trefor Bazett, Stokes' Theorem) \n",
    "\n",
    "===================================================================================================================="
   ]
  },
  {
   "cell_type": "code",
   "execution_count": 1,
   "id": "20716991",
   "metadata": {},
   "outputs": [],
   "source": [
    "import sympy as sp\n",
    "from sympy import sin, cos, exp, pi, symbols\n",
    "from sympy.vector import CoordSys3D, ParametricRegion, gradient, curl, vector_integrate\n",
    "from sympy.abc import r, x, y, z, t, theta, phi\n",
    "C = CoordSys3D('C')"
   ]
  },
  {
   "cell_type": "markdown",
   "id": "da562c03",
   "metadata": {},
   "source": [
    "**Example.1 Verifying Stoke’s**    *[SymPy 1.12 doc]*"
   ]
  },
  {
   "cell_type": "code",
   "execution_count": 2,
   "id": "59bbfebd",
   "metadata": {},
   "outputs": [
    {
     "name": "stdout",
     "output_type": "stream",
     "text": [
      "Line integral  is   -pi/4\n",
      "Surface integral is -pi/4\n"
     ]
    }
   ],
   "source": [
    "# Vector field\n",
    "F = C.y*C.i + C.z*C.k + C.x*C.k\n",
    "\n",
    "# Closed Curve  C: a quarter of a circle closed by coordinate axes\n",
    "curve = ParametricRegion((cos(theta), sin(theta)), (theta, 0, pi/2))                      # One parameter -> curve\n",
    "\n",
    "# Surface S bounded by the curve C\n",
    "surface = ParametricRegion((r*cos(theta), r*sin(theta)), (r, 0, 1), (theta, 0, pi/2))     # Two parameters -> surface\n",
    "\n",
    "# LEFT SIDE:  Line integral along the closed curve C (traversed in the positive direction)\n",
    "print('Line integral  is  ', vector_integrate(F, curve))\n",
    "\n",
    "# RIGHT SIDE: Surface integral across the surface S\n",
    "print('Surface integral is',  vector_integrate(curl(F), surface))"
   ]
  },
  {
   "cell_type": "markdown",
   "id": "61f34f9a",
   "metadata": {},
   "source": [
    "================================================================================================\n",
    "\n",
    "**Verifying Stoke’s Exmple.2**   *[SymPy 1.12 doc]*"
   ]
  },
  {
   "cell_type": "code",
   "execution_count": 3,
   "id": "712b2403",
   "metadata": {},
   "outputs": [
    {
     "name": "stdout",
     "output_type": "stream",
     "text": [
      "Line integral is    pi/2\n",
      "Surface integral is pi/2\n"
     ]
    }
   ],
   "source": [
    "# Vectorfield\n",
    "F = (-C.y**3/3 + sin(C.x))*C.i + (C.x**3/3 + cos(C.y))*C.j + C.x*C.y*C.z*C.k\n",
    "\n",
    "# Closed curve C: The circle of radius 1, z=1.\n",
    "# ParametricRegion((x,y,z), (interval of integration));      Cylindrical Coordinates\n",
    "circle = ParametricRegion((cos(theta), sin(theta), 1), (theta, 0, 2*pi))          \n",
    "\n",
    "# Surface S: a cone bounded by the curve C (traversed in the positive direction)\n",
    "cone = ParametricRegion((r*cos(theta), r*sin(theta), r), (r, 0, 1), (theta, 0, 2*pi))\n",
    "# ParametricRegion((x,y,z), (interval for r), (interval for theta));    Cylindrical Coordinates\n",
    "\n",
    "# LEFT SIDE of Stoke's:  Line integral along the closed curve C (traversed in the positive direction)\n",
    "print('Line integral is   ', vector_integrate(F, circle))\n",
    "\n",
    "# RIGHT SIDE of Stoke's:  Surface integral over the surface\n",
    "print('Surface integral is',  vector_integrate(curl(F), cone))"
   ]
  },
  {
   "cell_type": "markdown",
   "id": "9d60cb73",
   "metadata": {},
   "source": [
    "======================================================================================================================\n",
    "\n",
    "**Example 1.** Use Stokes’ Theorem to evaluate &nbsp; &nbsp;\n",
    "$ \\iint_{S}(\\bigtriangledown \\times \\vec{F}) \\cdot \\vec{dS} $, where \n",
    "$ \\vec{F} = z^2\\vec{i} -3xy\\vec{j} +x^3y^3\\vec{k} $ and *S* is the part of\n",
    "$z = 5 -x^2 -y^2$ above the plane z = 1. Assume that *S* is oriented upwards. \n",
    "\n",
    "\n",
    "**Solution.**  Using Stokes’ Theorem we can write the surface integral as the line integral &nbsp;  $ \\oint _{C} \\vec{F} \\cdot \\vec{dr}.  $  &nbsp;\n",
    "When placing z = 1 in the equation $z = 5 -x^2 -y^2$ it becomes $  x^2 + y^2 = 4$. So the curve *C* will be the circle of radius 2 that is in the plane z = 1."
   ]
  },
  {
   "attachments": {
    "im_5f_prbl1.png": {
     "image/png": "[encoded data removed]"
    }
   },
   "cell_type": "markdown",
   "id": "6ef039f2",
   "metadata": {},
   "source": [
    "![im_5f_prbl1.png](attachment:im_5f_prbl1.png)\n",
    "\n",
    "$~~~~~~~~~~~~~~~~~~~~~~~~~~~~~~~~~~~~~~~~~~~~~~~~~~~~~~~~~~~~~~~~~~~~~~~~~~~~~~~~~~~~~~~~~~$  Image from Paul Dawkins lecture notes"
   ]
  },
  {
   "cell_type": "markdown",
   "id": "3b518315",
   "metadata": {},
   "source": [
    "**Ex1 solution 1 using ParametricRegion()**"
   ]
  },
  {
   "cell_type": "code",
   "execution_count": 4,
   "id": "7c4d7e06",
   "metadata": {},
   "outputs": [
    {
     "name": "stdout",
     "output_type": "stream",
     "text": [
      "The line integral and thus the original surface integral is 0\n"
     ]
    }
   ],
   "source": [
    "# Vectorfield  \n",
    "F = z**2*C.i - 3*x*y*C.j + x**3*y**3*C.k\n",
    "\n",
    "# Closed curve C: the circle of radius 2, z=1\n",
    "circle = ParametricRegion((2*cos(theta), 2*sin(theta), 1), (theta, 0, 2*pi)) \n",
    "                      # ParametricRegion((x,y,z), (interval of integration));  Cylindrical Coordinates\n",
    "\n",
    "# Line integral along the closed curve C (traversed in the positive direction)\n",
    "I1 = vector_integrate(F, circle)\n",
    "\n",
    "print('The line integral and thus the original surface integral is', I1)"
   ]
  },
  {
   "cell_type": "markdown",
   "id": "4e4b32dd",
   "metadata": {},
   "source": [
    "===================================\n",
    "\n",
    "**Ex1. solution 2 using matrices**\n"
   ]
  },
  {
   "cell_type": "code",
   "execution_count": 5,
   "id": "f99ab002",
   "metadata": {},
   "outputs": [
    {
     "name": "stdout",
     "output_type": "stream",
     "text": [
      "The line integral and thus the original surface integral is 0\n"
     ]
    }
   ],
   "source": [
    "t = sp.symbols('t', real=True)\n",
    "x, y, z, F1, F2, F3 = sp.symbols('x y z F_1, F_2, F_3', cls=sp.Function, real=True)\n",
    "\n",
    "# Coordinates are parameterized:\n",
    "x = x(t)\n",
    "y = y(t)\n",
    "z = z(t)\n",
    "\n",
    "#Vectorfield:\n",
    "F1 = F1(x,y,z)\n",
    "F2 = F2(x,y,z)\n",
    "F3 = F3(x,y,z)\n",
    "\n",
    "r = sp.Matrix([x, y, z])                                                    # Path as matrix\n",
    "F = sp.Matrix([F1, F2, F3])                                                 # Vector field as matrix\n",
    "\n",
    "# General form for the integrand is obtained according to the definition\n",
    "integrand = F.dot(sp.diff(r,t))                                             # Inner product of the vectorfield F with dr/dt\n",
    "                                   \n",
    "# Place the vector field F and the path r to be integrated\n",
    "integrand1 = integrand.subs([(F1, z**2),\n",
    "                             (F2, -3*x*y),\n",
    "                             (F3, x**3*y**3),\n",
    "                             (x, 2*cos(t)),\n",
    "                             (y, 2*sin(t)),\n",
    "                             (z, 1)]).doit().simplify()\n",
    "\n",
    "I2 = sp.integrate(integrand1, (t, 0, 2*pi))\n",
    "print('The line integral and thus the original surface integral is', I2 )"
   ]
  },
  {
   "cell_type": "markdown",
   "id": "357f50dd",
   "metadata": {},
   "source": [
    "=============================\n",
    "\n",
    "**Ex1. solution 3. Using vector formalism**\n",
    "\n",
    "The vector field is $ \\vec{F} = z^2\\vec{i} -3xy\\vec{j} +x^3y^3\\vec{k} $ and the curve is &nbsp; \n",
    "$\\vec r\\left( t \\right) = 2\\cos t\\,\\vec i + 2\\sin t\\,\\vec j + \\vec k,\\,\\,\\,\\,0 \\le t \\le 2\\pi$\n",
    "\n",
    "Using Stokes’ Theorem we can write the surface integral as the following line integral.\n",
    "$$\\iint\\limits_{S}{{{\\mathop{\\rm curl}\\nolimits} \\vec F\\,\\centerdot \\,d\\vec S}} = \\int\\limits_{C}{{\\vec F\\,\\centerdot \\,d\\,\\vec r}} = \\int_{{\\,0}}^{{\\,2\\pi }}{{\\vec F\\left( {\\vec r\\left( t \\right)} \\right)\\,\\centerdot \\,\\vec r'\\left( t \\right)\\,dt}}$$"
   ]
  },
  {
   "cell_type": "code",
   "execution_count": 6,
   "id": "91e5700a",
   "metadata": {},
   "outputs": [
    {
     "name": "stdout",
     "output_type": "stream",
     "text": [
      "The line integral and thus the original surface integral is 0\n"
     ]
    }
   ],
   "source": [
    "# In the in coordinate system C we have\n",
    "F = z**2*C.i - 3*x*y*C.j + x**3*y**3*C.k                                      # Vector field\n",
    "F = F.subs([(x, 2*cos(t)), (y, 2*sin(t)), (z, 1)]).doit().simplify()          # Parameterization\n",
    "\n",
    "r = 2*cos(t)*C.i + 2*sin(t)*C.j + 1*C.k                                       # Position vector r(t) of the curve (circle)\n",
    "drdt = sp.diff(r)                                                             # r'(t)     \n",
    "\n",
    "integrand = F.dot(drdt)                                                       # The dot product F(t).r'(t)\n",
    "I3 = sp.integrate(integrand, (t, 0, 2*pi))                                    # Integration of F(t).r'(t)\n",
    "print('The line integral and thus the original surface integral is', I3)\n"
   ]
  },
  {
   "cell_type": "markdown",
   "id": "e677e0cb",
   "metadata": {},
   "source": [
    "=================\n",
    "\n",
    "The above results means that vector field $\\vec{F}$  is **consrvative**. It means that $curl\\vec{F}  = 0$ and that there is such a **scalar potential P**  that $\\vec{F} = \\nabla$*P*.  Let's confirm these points for vector field $\\vec{F}$ ."
   ]
  },
  {
   "cell_type": "code",
   "execution_count": 7,
   "id": "8476bce9",
   "metadata": {},
   "outputs": [
    {
     "name": "stdout",
     "output_type": "stream",
     "text": [
      "Vector field F is consrvative: True\n",
      "CurlF =  0\n",
      "The scalar potential P = C.x*z(t)**2 - 3*C.y*x(t)*y(t) + C.z*x(t)**3*y(t)**3\n",
      "gradP = F: True\n"
     ]
    }
   ],
   "source": [
    "from sympy.vector import CoordSys3D, Del, is_conservative, scalar_potential\n",
    "\n",
    "F = z**2*C.i - 3*x*y*C.j + x**3*y**3*C.k\n",
    "print('Vector field F is consrvative:', is_conservative(F))                    # Is it true that F is consrvative\n",
    "print('CurlF = ', Del().cross(F).doit())                                       # CurlF\n",
    "P = scalar_potential(F, C)\n",
    "print('The scalar potential P =', P)\n",
    "print('gradP = F:', gradient(P) == F)"
   ]
  },
  {
   "cell_type": "markdown",
   "id": "25dc4f7a",
   "metadata": {},
   "source": [
    "=======================================================================================================================\n",
    "\n",
    "**Example 2.**  Use Stokes’ Theorem to evaluate  &nbsp; \n",
    "$ \\displaystyle \\int\\limits_{C}{{\\vec F\\,\\centerdot \\,d\\,\\vec r}} $ &nbsp; where &nbsp;\n",
    "$ \\vec F = {z^2}\\,\\vec i + {y^2}\\,\\vec j + x\\,\\vec k $  and  *C*  is the triangle with vertices \n",
    "(1,0,0), (0,1,0), (0,0,1)."
   ]
  },
  {
   "attachments": {
    "im_5f_prbl2.png": {
     "image/png": "[encoded data removed]"
    }
   },
   "cell_type": "markdown",
   "id": "1ee70324",
   "metadata": {},
   "source": [
    "![im_5f_prbl2.png](attachment:im_5f_prbl2.png)"
   ]
  },
  {
   "cell_type": "markdown",
   "id": "f8e5a9b7",
   "metadata": {},
   "source": [
    "**Ex2. solution 1.**  Using Stoke's Theorem and integrating over the projection of *S* in the xy plane we'll have\n",
    "\n",
    "\\begin{align*}\\int\\limits_{C}{{\\vec F\\,\\centerdot \\,d\\,\\vec r}} & = \\iint\\limits_{S}{{{\\mathop{\\rm curl}\\nolimits} \\vec F\\,\\centerdot \\,d\\vec S}}\\\\ &  = \\iint\\limits_{D}{{{\\mathop{\\rm curl}\\nolimits} \\vec F\\, \\centerdot \\frac{{\\nabla f}}{{\\left\\| {\\nabla f} \\right\\|}}\\,\\,\\left\\| {\\nabla f} \\right\\|\\,dA}} \\\\ &  = \\iint\\limits_{D}{{{\\mathop{\\rm curl}\\nolimits} \\vec F\\, \\centerdot {\\nabla f} \\,\\,dA}} &  \\end{align*}\n",
    "\n",
    "First we need to calculate  $curl \\vec{F}$. Then we need the function *f* defining the surface *S* and its gradient. For integration, we still need the expression of z as a function of x and y and the projection of the surface *S* in the xy plane (region *D*). We get z from the equation f = 0."
   ]
  },
  {
   "cell_type": "code",
   "execution_count": 8,
   "id": "df19616a",
   "metadata": {},
   "outputs": [],
   "source": [
    "# INIT\n",
    "from sympy.abc import  x, y, z\n",
    "from sympy.vector import gradient\n",
    "from sympy.vector import CoordSys3D, Del\n",
    "C = CoordSys3D('C')"
   ]
  },
  {
   "cell_type": "code",
   "execution_count": 9,
   "id": "2bccbe06",
   "metadata": {},
   "outputs": [
    {
     "data": {
      "text/latex": [
       "$\\displaystyle \\left(2 \\mathbf{{z}_{C}} - 1\\right)\\mathbf{\\hat{j}_{C}}$"
      ],
      "text/plain": [
       "(2*C.z - 1)*C.j"
      ]
     },
     "execution_count": 9,
     "metadata": {},
     "output_type": "execute_result"
    }
   ],
   "source": [
    "# CURLF\n",
    "F = C.z**2*C.i + C.y**2*C.j + C.x*C.k                           # Vector field\n",
    "delxF = Del().cross(F).doit()                                   # Curl(F)\n",
    "delxF"
   ]
  },
  {
   "cell_type": "code",
   "execution_count": 10,
   "id": "2c489b53",
   "metadata": {},
   "outputs": [
    {
     "name": "stdout",
     "output_type": "stream",
     "text": [
      "Function for the surface S: f = C.x + C.y + C.z - 1\n",
      "grad_f = C.i + C.j + C.k\n",
      "The equation of the plane:\n"
     ]
    },
    {
     "data": {
      "text/latex": [
       "$\\displaystyle \\mathbf{{x}_{C}} + \\mathbf{{y}_{C}} + \\mathbf{{z}_{C}} - 1 = 0$"
      ],
      "text/plain": [
       "Eq(C.x + C.y + C.z - 1, 0)"
      ]
     },
     "execution_count": 10,
     "metadata": {},
     "output_type": "execute_result"
    }
   ],
   "source": [
    "# THE PLAIN S\n",
    "P  = C.x*C.i + C.y*C.j + C.z*C.k                                # Position vector to the points of the plane\n",
    "n = (C.j-C.i).cross(C.k-C.j)                                    # Normal to the plane\n",
    "f = (P-C.i).dot(n)                                              # Function f defines the surface S with the equation f = 0.\n",
    "eq = sp.Eq(f, 0)                                                # Equation for the surface S\n",
    "grad_f = gradient(f)\n",
    "\n",
    "print('Function for the surface S: f =', f)\n",
    "print('grad_f =', grad_f )\n",
    "print('The equation of the plane:')\n",
    "eq"
   ]
  },
  {
   "cell_type": "code",
   "execution_count": 11,
   "id": "4357fef6",
   "metadata": {},
   "outputs": [
    {
     "name": "stdout",
     "output_type": "stream",
     "text": [
      "C.z = -C.x - C.y + 1\n"
     ]
    }
   ],
   "source": [
    "# Z(X,Y)\n",
    "# When we solve C.z = Cz(C.x, C.y) from the plane equation eq, we can perform the surface..\n",
    "# integration dS (vector) as a regular double integration dA in the xy plane over the projection\n",
    "# A of surface S.\n",
    "zeta = sp.solve(eq, C.z)[0]                         # C.z solved  from the surface equation (first member of the list)\n",
    "print('C.z =', zeta)                              "
   ]
  },
  {
   "cell_type": "code",
   "execution_count": 12,
   "id": "aaca207a",
   "metadata": {},
   "outputs": [
    {
     "name": "stdout",
     "output_type": "stream",
     "text": [
      "-2*C.x - 2*C.y + 1\n"
     ]
    }
   ],
   "source": [
    "# THE INTEGRAND\n",
    "integrand = delxF.dot(grad_f)\n",
    "integrand = integrand.subs([(C.z, zeta)]).doit().simplify()\n",
    "\n",
    "print(integrand)"
   ]
  },
  {
   "cell_type": "markdown",
   "id": "a5fc211b",
   "metadata": {},
   "source": [
    "**The limits of integration for region D in the xy plane.**\n",
    "We get the equation of the line for the projection *D* in the xy plain by plugging in *z = 0* into the equation of the surface *S*. So based on this the ranges that define *D* in the xy plane the integration limits we'll be\n",
    "0  ≤ x  ≤1,  &nbsp;   0 ≤ y  ≤ - x + 1. The upper limit of integration of y can also be given to SymPy to calculate:\n"
   ]
  },
  {
   "cell_type": "code",
   "execution_count": 13,
   "id": "70e3a5aa",
   "metadata": {},
   "outputs": [
    {
     "data": {
      "text/latex": [
       "$\\displaystyle 1 - \\mathbf{{x}_{C}}$"
      ],
      "text/plain": [
       "1 - C.x"
      ]
     },
     "execution_count": 13,
     "metadata": {},
     "output_type": "execute_result"
    }
   ],
   "source": [
    "eq2 = f.subs([(C.z, 0)])                                       # Equation for projection D in the xy plane\n",
    "y_lim = sp.solve(eq2, C.y)[0]                                  # The upper integration limit for the variable y\n",
    "y_lim"
   ]
  },
  {
   "cell_type": "code",
   "execution_count": 14,
   "id": "1e5a50c5",
   "metadata": {},
   "outputs": [
    {
     "data": {
      "text/latex": [
       "$\\displaystyle - \\frac{1}{6}$"
      ],
      "text/plain": [
       "-1/6"
      ]
     },
     "execution_count": 14,
     "metadata": {},
     "output_type": "execute_result"
    }
   ],
   "source": [
    "I = sp.integrate(integrand, (C.y, 0, y_lim), (C.x, 0, 1)) \n",
    "I"
   ]
  },
  {
   "cell_type": "markdown",
   "id": "4458a434",
   "metadata": {},
   "source": [
    "===========================\n",
    "\n",
    "**Ex2. solution 2.** SymPy's geometry module gives us an easy way to calculate this line integral directly as the sum of the line integrals of the three segments."
   ]
  },
  {
   "cell_type": "code",
   "execution_count": 15,
   "id": "ee7cbb5b",
   "metadata": {},
   "outputs": [
    {
     "data": {
      "text/latex": [
       "$\\displaystyle - \\frac{1}{6}$"
      ],
      "text/plain": [
       "-1/6"
      ]
     },
     "execution_count": 15,
     "metadata": {},
     "output_type": "execute_result"
    }
   ],
   "source": [
    "from sympy.geometry import Segment \n",
    "\n",
    "F = C.z**2*C.i + C.y**2*C.j + C.x*C.k                          # Vector field\n",
    "\n",
    "s1 = Segment((1,0,0), (0,1,0))                                 # Line segment\n",
    "s2 = Segment((0,1,0), (0,0,1))\n",
    "s3 = Segment((0,0,1), (1,0,0))\n",
    "\n",
    "I1 = vector_integrate(F, s1)                                   # Line integral \n",
    "I2 = vector_integrate(F, s2)\n",
    "I3 = vector_integrate(F, s3)\n",
    "I = I1 + I2 + I3                                               # Circulation\n",
    "I"
   ]
  },
  {
   "cell_type": "markdown",
   "id": "50fcc327",
   "metadata": {},
   "source": [
    "========================================================================================================================\n",
    "### Practice Problems ###\n",
    "\n",
    "**Problem 1.** Use Stokes’ Theorem to evaluate  $\\displaystyle \\iint\\limits_{S}{{{\\mathop{\\rm curl}\\nolimits} \\vec F\\centerdot d\\vec S}}$ where $\\vec F = y\\,\\vec i - x\\,\\vec j + y{x^3}\\,\\vec k $ and $S$ is the portion of the sphere of radius 4 with $z \\ge 0$ and the upwards orientation. "
   ]
  },
  {
   "attachments": {
    "im_5f_prbl3.png": {
     "image/png": "[encoded data removed]"
    }
   },
   "cell_type": "markdown",
   "id": "b714a8c9",
   "metadata": {},
   "source": [
    "![im_5f_prbl3.png](attachment:im_5f_prbl3.png)"
   ]
  },
  {
   "cell_type": "markdown",
   "id": "fef3b09b",
   "metadata": {},
   "source": [
    "**Solution.** To calculate the integral   $\\begin{array}{l}\\oint _{C} \\vec{F} \\cdot \\vec{dr} \\end{array}$ in SymPy we only need to write down the vectorfield $\\vec{F} $, define the curve $C$ (the circle in polar coordinates with limits) and then perform the integration."
   ]
  },
  {
   "cell_type": "code",
   "execution_count": 16,
   "id": "cd53e6e5",
   "metadata": {},
   "outputs": [
    {
     "data": {
      "text/latex": [
       "$\\displaystyle - 32 \\pi$"
      ],
      "text/plain": [
       "-32*pi"
      ]
     },
     "execution_count": 16,
     "metadata": {},
     "output_type": "execute_result"
    }
   ],
   "source": [
    "F = C.y*C.i -C.x*C.j + C.y*C.x**3*C.k                                            # Vector field\n",
    "\n",
    "# Closed curve C: the circle of radius 4, z=0 in polar coordinates.\n",
    "# ParametricRegion((x,y,z), (interval of integration))                           # One parameter  -> curve\n",
    "curve = ParametricRegion((4*cos(theta), 4*sin(theta), 0), (theta, 0, 2*pi)) \n",
    "                          \n",
    "# Line integral along the closed curve C  (circle traversed in the positive direction)\n",
    "I = vector_integrate(F, curve)\n",
    "I"
   ]
  },
  {
   "cell_type": "markdown",
   "id": "783c172b",
   "metadata": {},
   "source": [
    "========================================================================================================================\n",
    "\n",
    "**Problem 2.** Use Stokes' Theorem to evaluate  $\\vec{F} = (z^2 -1) \\vec{i} + (z + xy^3)\\vec{j} + 6 \\vec{k} $    and  $S$ is the portion of  where\n",
    "$x = 6 - 4y^2 -4 z^2$   in front of $x = -2$   with orientation in the negative *x*-axis direction."
   ]
  },
  {
   "attachments": {
    "im_5f_prbl4.png": {
     "image/png": "[encoded data removed]"
    }
   },
   "cell_type": "markdown",
   "id": "b660cf5a",
   "metadata": {},
   "source": [
    "![im_5f_prbl4.png](attachment:im_5f_prbl4.png)"
   ]
  },
  {
   "cell_type": "code",
   "execution_count": 17,
   "id": "16531cb6",
   "metadata": {},
   "outputs": [
    {
     "data": {
      "text/latex": [
       "$\\displaystyle 2 \\pi$"
      ],
      "text/plain": [
       "2*pi"
      ]
     },
     "execution_count": 17,
     "metadata": {},
     "output_type": "execute_result"
    }
   ],
   "source": [
    "# SOLUTION\n",
    "\n",
    "F = (C.z**2 -1)*C.i + (C.z + C.x*C.y**3)*C.j + 6*C.k                      # Vector field\n",
    "\n",
    "# Closed curve C: the circle of radius sqrt(2) in the yz plane (x=0) in polar coordinates.\n",
    "# ParametricRegion((x,y,z), (interval of integration))                    # One parameter  -> curve       \n",
    "curve = ParametricRegion((-2, sp.sqrt(2)*sin(theta), sp.sqrt(2)*cos(theta)), (theta, 0, 2*pi)) \n",
    "                          \n",
    "# Line integral along the closed curve C  (circle traversed in the positive direction)\n",
    "I = vector_integrate(F, curve)\n",
    "I\n"
   ]
  },
  {
   "cell_type": "markdown",
   "id": "569e1062",
   "metadata": {},
   "source": [
    "**Problem 3.** Use Stokes' Theorem to evaluate $\\int\\limits_{C}{{\\vec F\\,\\centerdot \\,d\\,\\vec r}} \\, $  where\n",
    "$ \\,\\vec{F} = -yz\\vec{i} + (4y + 1)\\vec{j} + xy\\vec{k}  \\,$  and $C$  is the circle of radius 3 at $y = 4$ and perpendicular to the $y$-axis. $C$ has a clockwise rotation if you are looking down the $y$-axis from the positive $y$-axis to the negative $y$-axis. See the figure below for a sketch of the curve.\n",
    "\n"
   ]
  },
  {
   "attachments": {
    "im_5f_prbl5.png": {
     "image/png": "[encoded data removed]"
    }
   },
   "cell_type": "markdown",
   "id": "47c0b935",
   "metadata": {},
   "source": [
    "![im_5f_prbl5.png](attachment:im_5f_prbl5.png)"
   ]
  },
  {
   "cell_type": "markdown",
   "id": "99482c33",
   "metadata": {},
   "source": [
    "**Solution**. Here we don't need Stokes' because we can easily get the result in three lines of code. It doesn't involve and doesn't teach much math, but it gives the result.\n"
   ]
  },
  {
   "cell_type": "code",
   "execution_count": 18,
   "id": "ee6f7fff",
   "metadata": {},
   "outputs": [
    {
     "data": {
      "text/latex": [
       "$\\displaystyle 72 \\pi$"
      ],
      "text/plain": [
       "72*pi"
      ]
     },
     "execution_count": 18,
     "metadata": {},
     "output_type": "execute_result"
    }
   ],
   "source": [
    "F = -C.y*C.z*C.i + (4*C.y + 1)*C.j + C.x*C.y*C.k\n",
    "curve = ParametricRegion((3*cos(theta), 4, 3*sin(theta)), (theta, 0, 2*pi))\n",
    "vector_integrate(F, curve)\n"
   ]
  },
  {
   "cell_type": "markdown",
   "id": "7f2f96a0",
   "metadata": {},
   "source": [
    "**Problem 3.** Use Stokes' Theorem to evaluate the line integral $\\int\\limits_{C}{{\\vec F\\,\\centerdot \\,d\\,\\vec r}} \\, $  where\n",
    "$ \\,\\vec F = \\left( {3y{x^2} + {z^3}} \\right)\\,\\vec i + {y^2}\\,\\vec j + 4y{x^2}\\,\\vec k  \\,$  and $C$ is triangle with vertices  (0,0,3), (0,2,0), (4,0,0). $C$ has a counter clockwise rotation if you are above the triangle and looking down towards the xy-plane. See the figure below."
   ]
  },
  {
   "attachments": {
    "image.png": {
     "image/png": "[encoded data removed]"
    }
   },
   "cell_type": "markdown",
   "id": "770fa556",
   "metadata": {},
   "source": [
    "![image.png](attachment:image.png)"
   ]
  },
  {
   "cell_type": "markdown",
   "id": "9d9001c5",
   "metadata": {},
   "source": [
    "Here the calculation of line integral direct is very easy and short with *Segment* module of *sympy.geometry*. So with SymPy there's there is no point in using the right side of Stoke's theorem here (forming the plane equation, normal, cross and dot products and integration limits; see the Lamar solution).  "
   ]
  },
  {
   "cell_type": "code",
   "execution_count": 19,
   "id": "fa66f943",
   "metadata": {},
   "outputs": [
    {
     "data": {
      "text/latex": [
       "$\\displaystyle -5$"
      ],
      "text/plain": [
       "-5"
      ]
     },
     "execution_count": 19,
     "metadata": {},
     "output_type": "execute_result"
    }
   ],
   "source": [
    "from sympy.geometry import Segment \n",
    "\n",
    "F = (3*C.y*C.x**2 +C.z**3)*C.i +C.y**2*C.j + 4*C.y*C.x**2*C.k         # Vector field\n",
    "\n",
    "s1 = Segment((0,0,3), (4,0,0))                                        # Line segment\n",
    "s2 = Segment((4,0,0), (0,2,0))\n",
    "s3 = Segment((0,2,0), (0,0,3))\n",
    "\n",
    "I1 = vector_integrate(F, s1)                                          # Line integral \n",
    "I2 = vector_integrate(F, s2)\n",
    "I3 = vector_integrate(F, s3)\n",
    "I = I1 + I2 + I3                                                      # Circulation\n",
    "I"
   ]
  },
  {
   "cell_type": "markdown",
   "id": "9aaf040a",
   "metadata": {},
   "source": [
    "============================\n",
    "\n",
    "Codes: Heikki Miettinen 2024"
   ]
  },
  {
   "cell_type": "code",
   "execution_count": null,
   "id": "9cbc4557",
   "metadata": {},
   "outputs": [],
   "source": []
  }
 ],
 "metadata": {
  "kernelspec": {
   "display_name": "Python 3 (ipykernel)",
   "language": "python",
   "name": "python3"
  },
  "language_info": {
   "codemirror_mode": {
    "name": "ipython",
    "version": 3
   },
   "file_extension": ".py",
   "mimetype": "text/x-python",
   "name": "python",
   "nbconvert_exporter": "python",
   "pygments_lexer": "ipython3",
   "version": "3.11.5"
  }
 },
 "nbformat": 4,
 "nbformat_minor": 5
}
