{
 "cells": [
  {
   "cell_type": "markdown",
   "id": "29452380",
   "metadata": {},
   "source": [
    "=============================================================================================================\n",
    " \n",
    " ## Line Integrals - Part II ##\n",
    " \n",
    " **With Python SymPy**\n",
    " \n",
    "The next Examples and Practice Problems and their images come from **Paul Dawkins** excellent lecture notes: http://tutorial.math.lamar.edu/index.aspx, where you can the find the underlying theory of calculations and the detailed 'paper and pen' solutions. To use this material you must read *'Terms of Use'* from https://tutorial.math.lamar.edu/Terms.aspx.\n"
   ]
  },
  {
   "cell_type": "markdown",
   "id": "4fc93f54",
   "metadata": {},
   "source": [
    "=========================================================================================================================\n",
    "\n",
    "Given a 2D curve *C*:  $\\vec{r}(t) = \\left< x(t), y(t) \\right>$\n",
    " the **line integral of a scalar field $f(x,y) $\n",
    " along the curve with respect to x** is $$\\int_C f(x,y)\\, dx = \\int_a^b f(x(t), y(t)) \\,x'(t) \\,dt \\label{eq1}\\tag{1}$$\n",
    " and respectively\n",
    " $$\\int_C f(x,y)\\, dy = \\int_a^b f(x(t), y(t)) \\,y'(t) \\,dt. \\label{eq2}\\tag{2} $$\n",
    " \n",
    " We have the shorthand  notation\n",
    " $$\\int\\limits_{C}{{F1dx\\, + F2\\,dy}} = \\int\\limits_{C}{{F1\\left( {x,y} \\right)dx}} + \\int\\limits_{C}{{F2\\left( {x,y} \\right)\\,dy}}.  \\label{eq3}\\tag{3}$$\n",
    " \n",
    "\n",
    " We can also write this as a **line integral of a vectorfield**\n",
    " $ \\vec{F}(x,y) $\n",
    " along the curve $C$  \n",
    " $$ \\int_C \\vec{F}(x,y) \\cdot d\\vec{r} = \\int_C (F_1dx + F_2dy) = \n",
    " \\int_a^b\\vec{F}(x(t), y(t)) \\cdot \\frac{d\\vec{r}}{dt} dt, \\label{eq4}\\tag{4}$$\n",
    " \n",
    " \n",
    " =======================================================================================================================\n"
   ]
  },
  {
   "cell_type": "code",
   "execution_count": 1,
   "id": "6d996fe6",
   "metadata": {},
   "outputs": [],
   "source": [
    "import numpy as np\n",
    "import sympy as sp\n",
    "from sympy.vector import *\n",
    "from sympy import sin, cos, pi, sqrt\n",
    "from sympy.vector import CoordSys3D, vector_integrate\n",
    "from sympy.geometry import Segment \n",
    "C = CoordSys3D('C')\n",
    "x, y, z = sp.symbols('x y z')"
   ]
  },
  {
   "cell_type": "markdown",
   "id": "501458c4",
   "metadata": {},
   "source": [
    "First we define the GENERAL FRAMEWORK for the use of the equation ([4](#mjx-eqn-eq1)) above. The coordinate variables  x, y, z are defined as  functions of the parameter t. The vector field components F1, F2, F3 are defined as functions of x(t), y(t), z(t) and then the expression for the integrable in the general form is formed. \n",
    "\n",
    "When solving a problem, this framework is used by substituting the field components and the parameterized coordinate functions of the curve in the integrand. The framework is set to be 3D. For 2D fields and curves just set F3=0 and z(t)=0."
   ]
  },
  {
   "cell_type": "code",
   "execution_count": 2,
   "id": "dce29ce9",
   "metadata": {},
   "outputs": [
    {
     "data": {
      "text/latex": [
       "$\\displaystyle \\left[\\begin{matrix}x{\\left(t \\right)}\\\\y{\\left(t \\right)}\\\\z{\\left(t \\right)}\\end{matrix}\\right]$"
      ],
      "text/plain": [
       "Matrix([\n",
       "[x(t)],\n",
       "[y(t)],\n",
       "[z(t)]])"
      ]
     },
     "execution_count": 2,
     "metadata": {},
     "output_type": "execute_result"
    }
   ],
   "source": [
    "# GENERAL FRAMEWORK\n",
    "t = sp.symbols('t', real=True)                                                # The parameter (variable)\n",
    "x, y, z, F1, F2, F3 = sp.symbols('x y z F_1, F_2,  F_3', cls=sp.Function, real=True)\n",
    "x = x(t)                                                                      # Parameterized x-coordinate for the curve\n",
    "y = y(t)                                                                      \n",
    "z = z(t)                                                                      \n",
    "F1 = F1(x,y,z)                                                                # Vector field i-component                   \n",
    "F2 = F2(x,y,z)                                                                # Vector field j-component \n",
    "F3 = F3(x,y,z)                                                                # Vector field k-component \n",
    "r = sp.Matrix([x, y, z])                                                      # Position vector for the path C\n",
    "F = sp.Matrix([F1, F2, F3])                                                   # Vector field F1(x,y)i + F2(x,y)j + F3(x,y)k\n",
    "r"
   ]
  },
  {
   "cell_type": "code",
   "execution_count": 3,
   "id": "2b02ad91",
   "metadata": {},
   "outputs": [
    {
     "data": {
      "text/latex": [
       "$\\displaystyle \\left[\\begin{matrix}F_{1}{\\left(x{\\left(t \\right)},y{\\left(t \\right)},z{\\left(t \\right)} \\right)}\\\\F_{2}{\\left(x{\\left(t \\right)},y{\\left(t \\right)},z{\\left(t \\right)} \\right)}\\\\F_{3}{\\left(x{\\left(t \\right)},y{\\left(t \\right)},z{\\left(t \\right)} \\right)}\\end{matrix}\\right]$"
      ],
      "text/plain": [
       "Matrix([\n",
       "[F_1(x(t), y(t), z(t))],\n",
       "[F_2(x(t), y(t), z(t))],\n",
       "[F_3(x(t), y(t), z(t))]])"
      ]
     },
     "execution_count": 3,
     "metadata": {},
     "output_type": "execute_result"
    }
   ],
   "source": [
    "F                                     "
   ]
  },
  {
   "cell_type": "code",
   "execution_count": 4,
   "id": "0b41ea70",
   "metadata": {},
   "outputs": [
    {
     "data": {
      "text/latex": [
       "$\\displaystyle F_{1}{\\left(x{\\left(t \\right)},y{\\left(t \\right)},z{\\left(t \\right)} \\right)} \\frac{d}{d t} x{\\left(t \\right)} + F_{2}{\\left(x{\\left(t \\right)},y{\\left(t \\right)},z{\\left(t \\right)} \\right)} \\frac{d}{d t} y{\\left(t \\right)} + F_{3}{\\left(x{\\left(t \\right)},y{\\left(t \\right)},z{\\left(t \\right)} \\right)} \\frac{d}{d t} z{\\left(t \\right)}$"
      ],
      "text/plain": [
       "F_1(x(t), y(t), z(t))*Derivative(x(t), t) + F_2(x(t), y(t), z(t))*Derivative(y(t), t) + F_3(x(t), y(t), z(t))*Derivative(z(t), t)"
      ]
     },
     "execution_count": 4,
     "metadata": {},
     "output_type": "execute_result"
    }
   ],
   "source": [
    "# The general form of the integrand is formed according to the equation (4)\n",
    "integrand = F.dot(sp.diff(r,t))                                        # Inner product of the vectorfield F with dr/dt     \n",
    "'This integrand is used in several examples by placing a vector field and a path in it.'\n",
    "integrand   "
   ]
  },
  {
   "cell_type": "markdown",
   "id": "0239b7d0",
   "metadata": {},
   "source": [
    "=======================================================================================================================\n",
    "\n",
    "**Example 1.** Evaluate  $ \\displaystyle \\int\\limits_{C}{{\\sin \\left( {\\pi y} \\right)\\,dy\\, + \\,y{x^2}\\,dx}} $ where $C$ is the the line segment from $(0, 2)$ to $(1, 4).$\n",
    "\n",
    "**Solution 1.** Parameterization of the line segment $C$: \n",
    "$$\\begin{align}\n",
    "\\,\\,\\,\\vec r\\left( t \\right) &= \\left\\langle {0,2} \\right\\rangle  + t(\\left\\langle {1,4} \\right\\rangle  - \\left\\langle {0,2} \\right\\rangle) \\\\\n",
    "&=\\left( {1 - t} \\right)\\left\\langle {0,2} \\right\\rangle  + t\\left\\langle {1,4} \\right\\rangle \\\\\n",
    "&= \\left\\langle {t,2 + 2t} \\right\\rangle \\,\\hspace{0.50in}  0 \\le t \\le 1\n",
    "\\end{align}$$"
   ]
  },
  {
   "cell_type": "code",
   "execution_count": 5,
   "id": "c17ac3bb",
   "metadata": {},
   "outputs": [
    {
     "data": {
      "text/latex": [
       "$\\displaystyle \\frac{7}{6}$"
      ],
      "text/plain": [
       "7/6"
      ]
     },
     "execution_count": 5,
     "metadata": {},
     "output_type": "execute_result"
    }
   ],
   "source": [
    "# Place the vector field <F1(x,y,z), F2(x,y,z), F3(x,y,z)> and the parameterized path <x(t), y(t), z(t)>\n",
    "# in the general integrand above. z = 0 because of the 2D curve.\n",
    "integrand1 = integrand.subs([(F1, y*x**2),\n",
    "                             (F2, sin(y*pi)),\n",
    "                             (F3, 0),\n",
    "                             (x, t),\n",
    "                             (y, 2 + 2*t),\n",
    "                             (z, 0)]).doit().simplify()\n",
    "\n",
    "sp.integrate(integrand1, (t, 0, 1))                      "
   ]
  },
  {
   "cell_type": "code",
   "execution_count": 6,
   "id": "83fa6bc5",
   "metadata": {},
   "outputs": [
    {
     "data": {
      "text/latex": [
       "$\\displaystyle \\frac{7}{6}$"
      ],
      "text/plain": [
       "7/6"
      ]
     },
     "execution_count": 6,
     "metadata": {},
     "output_type": "execute_result"
    }
   ],
   "source": [
    "# Solution 2.\n",
    "# The line intgegral for a line segment can easily be calculated with 'sympy.geometry Segment'\n",
    "# No need for 'GENERAL FRAMEWORK'\n",
    "F = C.x**2*C.y*C.i + sin(C.y*pi)*C.j                                                 # Vector field in CoordSys3D('C')\n",
    "s1 = Segment((0,2,0), (1, 4, 0))                                                     # 2D line segment\n",
    "vector_integrate(F, s1)        #.doit().simplify()                                   # Line integral of a vector field"
   ]
  },
  {
   "cell_type": "markdown",
   "id": "21839767",
   "metadata": {},
   "source": [
    "=======================================================================================================================\n",
    "\n",
    "**Example 2.** The same example as above, but with the opposite direction of the curve."
   ]
  },
  {
   "cell_type": "code",
   "execution_count": 7,
   "id": "c5f0ed25",
   "metadata": {},
   "outputs": [
    {
     "data": {
      "text/latex": [
       "$\\displaystyle - \\frac{7}{6}$"
      ],
      "text/plain": [
       "-7/6"
      ]
     },
     "execution_count": 7,
     "metadata": {},
     "output_type": "execute_result"
    }
   ],
   "source": [
    "# With 'sympy.geometry Segment'  as a Line integral of a vector field\n",
    "F = C.x**2*C.y*C.i + sin(C.y*pi)*C.j                                             # Vector field in CoordSys3D('C')\n",
    "s2 = Segment( (1, 4, 0), (0,2,0))                                                # 2D line segment, the opposite direction\n",
    "vector_integrate(F, s2)        #.doit().simplify()                               # Line integral of a vector field"
   ]
  },
  {
   "cell_type": "markdown",
   "id": "3861a300",
   "metadata": {},
   "source": [
    "=======================================================================================================================\n",
    "\n",
    "**Example 3.** Evaluate $\\displaystyle \\int\\limits_{C}{{y\\,dx + x\\,dy + z\\,dz}}$ where $C$ is given by $x = \\cos t$, $y = \\sin t,$ $z = t^2, \\,\\,\\,0 \\le t \\le 2\\pi $."
   ]
  },
  {
   "cell_type": "code",
   "execution_count": 8,
   "id": "44fe608b",
   "metadata": {},
   "outputs": [],
   "source": [
    "# GENERAL FRAMEWORK\n",
    "t = sp.symbols('t', real=True)                                                # The parameter (variable)\n",
    "x, y, z, F1, F2, F3 = sp.symbols('x y z F_1, F_2,  F_3', cls=sp.Function, real=True)\n",
    "x = x(t)                                                                      # Parameterized x-coordinate for the curve\n",
    "y = y(t)                                                                      # Parameterized y-coordinate for the curve\n",
    "z = z(t)                                                                      # Parameterized z-coordinate for the curve\n",
    "F1 = F1(x,y,z)                                                                # Vector field i-component                   \n",
    "F2 = F2(x,y,z)                                                                # Vector field j-component \n",
    "F3 = F3(x,y,z)                                                                # Vector field k-component \n",
    "r = sp.Matrix([x, y, z])                                                      # Position vector for the path C\n",
    "F = sp.Matrix([F1, F2, F3])                                                   # Vector field F1(x,y)i + F2(x,y)j + F3(x,y)k"
   ]
  },
  {
   "cell_type": "code",
   "execution_count": 9,
   "id": "58eeaf96",
   "metadata": {},
   "outputs": [
    {
     "data": {
      "text/latex": [
       "$\\displaystyle 8 \\pi^{4}$"
      ],
      "text/plain": [
       "8*pi**4"
      ]
     },
     "execution_count": 9,
     "metadata": {},
     "output_type": "execute_result"
    }
   ],
   "source": [
    "# Place the vector field <F1(x,y,z), F2(x,y,z), F3(x,y,z)> and the parameterized path <x(t), y(t), z(t)> in the integrand\n",
    "integrand3 = integrand.subs([(F1, x),\n",
    "                             (F2, y),\n",
    "                             (F3, z),\n",
    "                             (x, cos(t)),\n",
    "                             (y, sin(t)),\n",
    "                             (z, t**2)]).doit().simplify()\n",
    "\n",
    "sp.integrate(integrand3, (t, 0, 2*pi))                      "
   ]
  },
  {
   "cell_type": "markdown",
   "id": "3e948262",
   "metadata": {},
   "source": [
    "=========================================================================================================================\n",
    "\n",
    "**Problem 1.** Evaluate $\\displaystyle \\int\\limits_{C}{{\\sqrt {1 + y} \\,dy}}\\,\\,$ where $C$ is the  portion of $y = {{\\bf{e}}^{2x}}$  &nbsp; from  $ x = 0$ to $x = 2$."
   ]
  },
  {
   "attachments": {
    "image.png": {
     "image/png": "[encoded data removed]"
    }
   },
   "cell_type": "markdown",
   "id": "434875f8",
   "metadata": {},
   "source": [
    "![image.png](attachment:image.png)\n",
    "\n",
    "Parameterization of the curve:\n",
    "$\\vec r\\left( t \\right) = \\left\\langle {t,{{\\bf{e}}^{2t}}} \\right\\rangle \\hspace{0.25in}0 \\le t \\le 2$"
   ]
  },
  {
   "cell_type": "code",
   "execution_count": 10,
   "id": "6880e389",
   "metadata": {},
   "outputs": [
    {
     "data": {
      "text/latex": [
       "$\\displaystyle 274.4897$"
      ],
      "text/plain": [
       "274.4897"
      ]
     },
     "execution_count": 10,
     "metadata": {},
     "output_type": "execute_result"
    }
   ],
   "source": [
    "# Place the vector field <F1(x,y,z), F2(x,y,z), F3(x,y,z)> and the parameterized path <x(t), y(t), z(t)> to be integrated \n",
    "integrand1 = integrand.subs([(F1, 0),\n",
    "                             (F2, sqrt(1 + y)),\n",
    "                             (F3, 0),\n",
    "                             (x, t),\n",
    "                             (y, sp.exp(2*t)),\n",
    "                             (z, 0)]).doit().simplify()\n",
    "\n",
    "I = sp.integrate(integrand1, (t, 0, 2)) \n",
    "I = sp.N(I, 7)\n",
    "I"
   ]
  },
  {
   "cell_type": "markdown",
   "id": "93c80a50",
   "metadata": {},
   "source": [
    "=========================================================================================================================\n",
    "\n",
    "**Problem 2.** Evaluate $\\displaystyle \\int\\limits_{C}{{2y\\,dx + \\left( {1 - x} \\right)\\,dy}}$  where $C$ is portion of $y = 1 - {x^3}$   from  $x = -1$   to  $x = 2$"
   ]
  },
  {
   "attachments": {
    "image.png": {
     "image/png": "[encoded data removed]"
    }
   },
   "cell_type": "markdown",
   "id": "a5cbfec8",
   "metadata": {},
   "source": [
    "![image.png](attachment:image.png)\n",
    "\n",
    "Parameterization of the curve: $\\, \\vec r\\left( t \\right) = \\left\\langle {t,1 - {t^3}} \\right\\rangle \\hspace{0.25in} - 1 \\le t \\le 2$  "
   ]
  },
  {
   "cell_type": "code",
   "execution_count": 11,
   "id": "732c2971",
   "metadata": {},
   "outputs": [],
   "source": [
    "# GENERAL FRAMEWORK\n",
    "t = sp.symbols('t', real=True)                                                # The parameter (variable)\n",
    "x, y, z, F1, F2, F3 = sp.symbols('x y z F_1, F_2,  F_3', cls=sp.Function, real=True)\n",
    "x = x(t)                                                                      # Parameterized x-coordinate for the curve\n",
    "y = y(t)                                                                      # Parameterized y-coordinate for the curve\n",
    "z = z(t)                                                                      # Parameterized z-coordinate for the curve\n",
    "F1 = F1(x,y,z)                                                                # Vector field i-component                   \n",
    "F2 = F2(x,y,z)                                                                # Vector field j-component \n",
    "F3 = F3(x,y,z)                                                                # Vector field k-component \n",
    "r = sp.Matrix([x, y, z])                                                      # Position vector for the path C\n",
    "F = sp.Matrix([F1, F2, F3])                                                   # Vector field F1(x,y)i + F2(x,y)j + F3(x,y)\n",
    "integrand = F.dot(sp.diff(r,t))                                               # According to the definition (last row)"
   ]
  },
  {
   "cell_type": "code",
   "execution_count": 12,
   "id": "66d3640c",
   "metadata": {},
   "outputs": [
    {
     "data": {
      "text/latex": [
       "$\\displaystyle \\frac{3}{4}$"
      ],
      "text/plain": [
       "3/4"
      ]
     },
     "execution_count": 12,
     "metadata": {},
     "output_type": "execute_result"
    }
   ],
   "source": [
    "# Place the vector field <F1(x,y,z), F2(x,y,z), F3(x,y,z)> and the parameterized path <x(t), y(t), z(t)> to be integrated \n",
    "integrand2 = integrand.subs([(F1, 2*y),\n",
    "                             (F2, 1 - x),\n",
    "                             (F3, 0),\n",
    "                             (x, t),\n",
    "                             (y, 1 - t**3),\n",
    "                             (z, 0)]).doit().simplify()\n",
    "\n",
    "sp.integrate(integrand2, (t, -1, 2)) \n"
   ]
  },
  {
   "cell_type": "markdown",
   "id": "fd6d1182",
   "metadata": {},
   "source": [
    "=======================================================================================================================\n",
    "\n",
    "**Problem 3.** Evaluate  $ \\displaystyle \\int\\limits_{C}{{{x^2}\\,dy - yz\\,dz}} $ where $C$ is the the line segment from $(4, -1, 2)$ to $(1,7, -1).$\n"
   ]
  },
  {
   "attachments": {
    "image.png": {
     "image/png": "[encoded data removed]"
    }
   },
   "cell_type": "markdown",
   "id": "e3026534",
   "metadata": {},
   "source": [
    "![image.png](attachment:image.png)"
   ]
  },
  {
   "cell_type": "code",
   "execution_count": 13,
   "id": "75137b25",
   "metadata": {},
   "outputs": [
    {
     "data": {
      "text/latex": [
       "$\\displaystyle \\frac{109}{2}$"
      ],
      "text/plain": [
       "109/2"
      ]
     },
     "execution_count": 13,
     "metadata": {},
     "output_type": "execute_result"
    }
   ],
   "source": [
    "# With 'sympy.geometry Segment' (no need for 'GENERAL FRAMEWORK') as a Line integral of a vector field\n",
    "F = C.x**2*C.j - C.y*C.z*C.k                                                        # Vector field in CoordSys3D('C')\n",
    "s3 = Segment((4,-1,2), (1,7,-1))                                                    # 3D line segment\n",
    "vector_integrate(F, s3)        #.doit().simplify()                                  # Line integral of a vector field"
   ]
  },
  {
   "cell_type": "markdown",
   "id": "2d0487b7",
   "metadata": {},
   "source": [
    "=======================================================================================================================\n",
    "\n",
    "**Problem 4.** Evaluate  $\\displaystyle \\int\\limits_{C}{{1 + {x^3}\\,dx}}$ where $C$ is the right half of the circle of radius 2 with counter clockwise rotation followed by the line segment from $(0, 2)$ to $(-3, -4)$."
   ]
  },
  {
   "attachments": {
    "image.png": {
     "image/png": "[encoded data removed]"
    }
   },
   "cell_type": "markdown",
   "id": "629ef7a2",
   "metadata": {},
   "source": [
    "![image.png](attachment:image.png)\n",
    "\n",
    "\n",
    "Parameterization of the curve:\n",
    "\n",
    "${C_1}:\\,\\,\\vec r\\left( t \\right) = \\left\\langle {2\\cos \\left( t \\right),2\\sin \\left( t \\right)} \\right\\rangle \\hspace{0.25in} - \\frac{1}{2}\\pi  \\le t \\le \\frac{1}{2}\\pi$\n",
    "\n",
    "$ {C_2}:\\,\\,$ We use 'sympy.geometry Segment' and we do not need parameterization there."
   ]
  },
  {
   "cell_type": "code",
   "execution_count": 14,
   "id": "950ca44c",
   "metadata": {},
   "outputs": [],
   "source": [
    "# GENERAL FRAMEWORK (using the last row of the definition of the line integral)\n",
    "t = sp.symbols('t', real=True)                                                # The parameter (variable)\n",
    "x, y, z, F1, F2, F3 = sp.symbols('x y z F_1, F_2,  F_3', cls=sp.Function, real=True)\n",
    "x = x(t)                                                                      # Parameterized x-coordinate for the curve\n",
    "y = y(t)                                                                      # Parameterized y-coordinate for the curve\n",
    "z = z(t)                                                                      # Parameterized z-coordinate for the curve\n",
    "F1 = F1(x,y,z)                                                                # Vector field i-component                   \n",
    "F2 = F2(x,y,z)                                                                # Vector field j-component \n",
    "F3 = F3(x,y,z)                                                                # Vector field k-component \n",
    "r = sp.Matrix([x, y, z])                                                      # Position vector for the path C\n",
    "F = sp.Matrix([F1, F2, F3])                                                   # Vector field F1(x,y)i + F2(x,y)j + F3(x,y)\n",
    "integrand = F.dot(sp.diff(r,t))                                               # According to the definition (last row)"
   ]
  },
  {
   "cell_type": "code",
   "execution_count": 15,
   "id": "17d817a6",
   "metadata": {},
   "outputs": [
    {
     "data": {
      "text/latex": [
       "$\\displaystyle - 2 \\cdot \\left(8 \\cos^{3}{\\left(t \\right)} + 1\\right) \\sin{\\left(t \\right)}$"
      ],
      "text/plain": [
       "-2*(8*cos(t)**3 + 1)*sin(t)"
      ]
     },
     "execution_count": 15,
     "metadata": {},
     "output_type": "execute_result"
    }
   ],
   "source": [
    "# Place the vector field <F1(x,y,z), F2(x,y,z), F3(x,y,z)> and the parameterized path <x(t), y(t), z(t)> to be integrated \n",
    "integrand4 = integrand.subs([(F1, 1 + (2*cos(t))**3 ),\n",
    "                             (F2, 0),\n",
    "                             (F3, 0),\n",
    "                             (x, 2*cos(t)),\n",
    "                             (y, 2*sin(t)),\n",
    "                             (z, 0)]).doit().simplify()\n",
    "\n",
    "integrand4"
   ]
  },
  {
   "cell_type": "markdown",
   "id": "b6e80ae0",
   "metadata": {},
   "source": [
    "The same integrand can be obtained using the definition $\\,\\,\\int_C f(x,y)\\, dx = \\int_a^b f(x(t), y(t)) \\,x'(t) \\,dt :$ "
   ]
  },
  {
   "cell_type": "code",
   "execution_count": 16,
   "id": "fbb5f76b",
   "metadata": {},
   "outputs": [
    {
     "data": {
      "text/latex": [
       "$\\displaystyle - 2 \\cdot \\left(8 \\cos^{3}{\\left(t \\right)} + 1\\right) \\sin{\\left(t \\right)}$"
      ],
      "text/plain": [
       "-2*(8*cos(t)**3 + 1)*sin(t)"
      ]
     },
     "execution_count": 16,
     "metadata": {},
     "output_type": "execute_result"
    }
   ],
   "source": [
    "x = 2*cos(t)\n",
    "Intgr4 = (1 + x**3)*sp.diff(x, t) \n",
    "Intgr4"
   ]
  },
  {
   "cell_type": "code",
   "execution_count": 17,
   "id": "36a38c9e",
   "metadata": {},
   "outputs": [
    {
     "data": {
      "text/latex": [
       "$\\displaystyle 0$"
      ],
      "text/plain": [
       "0"
      ]
     },
     "execution_count": 17,
     "metadata": {},
     "output_type": "execute_result"
    }
   ],
   "source": [
    "I1 = sp.integrate(integrand4, (t, -pi/2, pi/2)) \n",
    "I1"
   ]
  },
  {
   "cell_type": "code",
   "execution_count": 18,
   "id": "56c520a6",
   "metadata": {},
   "outputs": [
    {
     "data": {
      "text/latex": [
       "$\\displaystyle \\frac{69}{4}$"
      ],
      "text/plain": [
       "69/4"
      ]
     },
     "execution_count": 18,
     "metadata": {},
     "output_type": "execute_result"
    }
   ],
   "source": [
    "# With 'sympy.geometry Segment' (no need for 'GENERAL FRAMEWORK') as a Line integral of a vector field\n",
    "F = (1 + C.x**3)*C.i                                                                 # Vector field in CoordSys3D('C')\n",
    "s4 = Segment((0, 2), (-3, -4))                                                       # 2D line segment\n",
    "I2 = vector_integrate(F, s4)        #.doit().simplify()                              # Line integral of a vector field\n",
    "I2"
   ]
  },
  {
   "cell_type": "code",
   "execution_count": 19,
   "id": "792c309b",
   "metadata": {},
   "outputs": [
    {
     "data": {
      "text/latex": [
       "$\\displaystyle \\frac{69}{4}$"
      ],
      "text/plain": [
       "69/4"
      ]
     },
     "execution_count": 19,
     "metadata": {},
     "output_type": "execute_result"
    }
   ],
   "source": [
    "I = I1 + I2\n",
    "I"
   ]
  },
  {
   "cell_type": "markdown",
   "id": "36638e68",
   "metadata": {},
   "source": [
    "=========================================================================================================================\n",
    "\n",
    "**Problem 5.** Evaluate $ \\displaystyle \\int\\limits_{C}{{2{x^2}\\,dy - xy\\,dx}} \\,\\,$ where $C$ is the line segment from $(  1, -5)$ to $(-2, -3)$  followed by the portion of $y = 1 -x^2$  from $ x = -2$  to  $ x = 2$\n",
    " which in turn is followed by the line segment from $(2, -3)$ to $(4, -3)$."
   ]
  },
  {
   "attachments": {
    "image.png": {
     "image/png": "[encoded data removed]"
    }
   },
   "cell_type": "markdown",
   "id": "019e96a3",
   "metadata": {},
   "source": [
    "![image.png](attachment:image.png)\n",
    "\n",
    "Parameterization of the curve:\n",
    "\n",
    "${C_1}:\\,\\,$   'Sympy.geometry Segment' here, no need for parameterization.\n",
    "\n",
    "${C_2}:\\,\\,\\vec r\\left( t \\right) = \\left\\langle {t,1 - {t^2}} \\right\\rangle \\hspace{0.25in} - 2 \\le t \\le 2$\n",
    "\n",
    "$ {C_2}:\\,\\,$  'Sympy.geometry Segment' here, no need for parameterization.\n",
    "\n"
   ]
  },
  {
   "cell_type": "code",
   "execution_count": 20,
   "id": "81e2ffa6",
   "metadata": {},
   "outputs": [
    {
     "data": {
      "text/latex": [
       "$\\displaystyle \\frac{17}{2}$"
      ],
      "text/plain": [
       "17/2"
      ]
     },
     "execution_count": 20,
     "metadata": {},
     "output_type": "execute_result"
    }
   ],
   "source": [
    "# C1: With 'sympy.geometry Segment' \n",
    "F = -C.x*C.y*C.i + 2*C.x**2*C.j                                                         # Vector field in CoordSys3D('C')\n",
    "s1 = Segment((1, -5), (-2, -3))                                                         # 2D line segment\n",
    "I1 = vector_integrate(F, s1)        #.doit().simplify()                                 # Line integral of a vector field\n",
    "I1\n"
   ]
  },
  {
   "cell_type": "code",
   "execution_count": 21,
   "id": "89fd9bb3",
   "metadata": {},
   "outputs": [],
   "source": [
    "#C2: GENERAL FRAMEWORK (using the last row of the definition of the line integral)\n",
    "t = sp.symbols('t', real=True)                                                # The parameter (variable)\n",
    "x, y, z, F1, F2, F3 = sp.symbols('x y z F_1, F_2,  F_3', cls=sp.Function, real=True)\n",
    "x = x(t)                                                                      # Parameterized x-coordinate for the curve\n",
    "y = y(t)                                                                      # Parameterized y-coordinate for the curve\n",
    "z = z(t)                                                                      # Parameterized z-coordinate for the curve\n",
    "F1 = F1(x,y,z)                                                                # Vector field i-component                   \n",
    "F2 = F2(x,y,z)                                                                # Vector field j-component \n",
    "F3 = F3(x,y,z)                                                                # Vector field k-component \n",
    "r = sp.Matrix([x, y, z])                                                      # Position vector for the path C\n",
    "F = sp.Matrix([F1, F2, F3])                                                   # Vector field F1(x,y)i + F2(x,y)j + F3(x,y)\n",
    "integrand = F.dot(sp.diff(r,t))                                               # According to the definition (last row)"
   ]
  },
  {
   "cell_type": "code",
   "execution_count": 22,
   "id": "f5a8cfa7",
   "metadata": {},
   "outputs": [
    {
     "data": {
      "text/latex": [
       "$\\displaystyle - 3 t^{3} - t$"
      ],
      "text/plain": [
       "-3*t**3 - t"
      ]
     },
     "execution_count": 22,
     "metadata": {},
     "output_type": "execute_result"
    }
   ],
   "source": [
    "#C2:Place the vector field <F1(x,y,z), F2(x,y,z), F3(x,y,z)> and the parameterized path <x(t), y(t), z(t)> to be integrated \n",
    "integrand5 = integrand.subs([(F1, -x*y ),\n",
    "                             (F2, 2*x**2),\n",
    "                             (F3, 0),\n",
    "                             (x, t),\n",
    "                             (y, 1 - t**2),\n",
    "                             (z, 0)]).doit().simplify()\n",
    "\n",
    "integrand5"
   ]
  },
  {
   "cell_type": "code",
   "execution_count": 23,
   "id": "c7fc3580",
   "metadata": {},
   "outputs": [
    {
     "data": {
      "text/latex": [
       "$\\displaystyle 0$"
      ],
      "text/plain": [
       "0"
      ]
     },
     "execution_count": 23,
     "metadata": {},
     "output_type": "execute_result"
    }
   ],
   "source": [
    "I2 = sp.integrate(integrand5, (t, -2, 2)) \n",
    "I2"
   ]
  },
  {
   "cell_type": "code",
   "execution_count": 24,
   "id": "97547939",
   "metadata": {},
   "outputs": [
    {
     "data": {
      "text/latex": [
       "$\\displaystyle 18$"
      ],
      "text/plain": [
       "18"
      ]
     },
     "execution_count": 24,
     "metadata": {},
     "output_type": "execute_result"
    }
   ],
   "source": [
    "# C3: With 'sympy.geometry Segment' \n",
    "F = -C.x*C.y*C.i + 2*C.x**2*C.j                                                         # Vector field in CoordSys3D('C')\n",
    "s3 = Segment((2, -3), (4, -3))                                                          # 2D line segment\n",
    "I3 = vector_integrate(F, s3)        #.doit().simplify()                                 # Line integral of a vector field\n",
    "I3"
   ]
  },
  {
   "cell_type": "code",
   "execution_count": 25,
   "id": "16e1b446",
   "metadata": {},
   "outputs": [
    {
     "data": {
      "text/latex": [
       "$\\displaystyle \\frac{53}{2}$"
      ],
      "text/plain": [
       "53/2"
      ]
     },
     "execution_count": 25,
     "metadata": {},
     "output_type": "execute_result"
    }
   ],
   "source": [
    "I = I1+I2+I3\n",
    "I"
   ]
  },
  {
   "cell_type": "markdown",
   "id": "e27e8478",
   "metadata": {},
   "source": [
    "=========================================================================================================================\n",
    "\n",
    "**Problem 6.** Evaluate $ \\displaystyle \\int\\limits_{C}{{\\left( {x - y} \\right)\\,dx - y{x^2}\\,dy}}$ for each of the following two curves."
   ]
  },
  {
   "attachments": {
    "image.png": {
     "image/png": "[encoded data removed]"
    }
   },
   "cell_type": "markdown",
   "id": "8bda7880",
   "metadata": {},
   "source": [
    "**(a)**\n",
    "\n",
    "![image.png](attachment:image.png)\n",
    "\n",
    "Parameterization  for the curve:\n",
    "\n",
    "C:$\\,\\,\\,\\,\\vec r\\left( t \\right) = \\left\\langle {6\\cos \\left( t \\right), - 6\\sin \\left( t \\right)} \\right\\rangle \\hspace{0.25in} \\frac{1}{2}\\pi  \\le t \\le 2\\pi$"
   ]
  },
  {
   "cell_type": "code",
   "execution_count": 26,
   "id": "674d6b2c",
   "metadata": {},
   "outputs": [],
   "source": [
    "#(a) GENERAL FRAMEWORK (using the last row of the definition of the line integral)\n",
    "t = sp.symbols('t', real=True)                                                # The parameter (variable)\n",
    "x, y, z, F1, F2, F3 = sp.symbols('x y z F_1, F_2,  F_3', cls=sp.Function, real=True)\n",
    "x = x(t)                                                                      # Parameterized x-coordinate for the curve\n",
    "y = y(t)                                                                      # Parameterized y-coordinate for the curve\n",
    "z = z(t)                                                                      # Parameterized z-coordinate for the curve\n",
    "F1 = F1(x,y,z)                                                                # Vector field i-component                   \n",
    "F2 = F2(x,y,z)                                                                # Vector field j-component \n",
    "F3 = F3(x,y,z)                                                                # Vector field k-component \n",
    "r = sp.Matrix([x, y, z])                                                      # Position vector for the path C\n",
    "F = sp.Matrix([F1, F2, F3])                                                   # Vector field F1(x,y)i + F2(x,y)j + F3(x,y)\n",
    "integrand = F.dot(sp.diff(r,t))                                               # According to the definition (last row)"
   ]
  },
  {
   "cell_type": "code",
   "execution_count": 27,
   "id": "4e55f251",
   "metadata": {},
   "outputs": [
    {
     "name": "stdout",
     "output_type": "stream",
     "text": [
      "257.1770\n"
     ]
    },
    {
     "data": {
      "text/latex": [
       "$\\displaystyle 342 - 27 \\pi$"
      ],
      "text/plain": [
       "342 - 27*pi"
      ]
     },
     "execution_count": 27,
     "metadata": {},
     "output_type": "execute_result"
    }
   ],
   "source": [
    "#(a) Place the vector field <F1(x,y,z), F2(x,y,z), F3(x,y,z)> and the parameterized path <x(t), y(t), z(t)> to be integrated \n",
    "integrand6 = integrand.subs([(F1, x - y ),\n",
    "                             (F2, -y*x**2),\n",
    "                             (F3, 0),\n",
    "                             (x, 6*cos(t)),\n",
    "                             (y, -6*sin(t)),\n",
    "                             (z, 0)]).doit().simplify()\n",
    "\n",
    "Ia = sp.integrate(integrand6, (t, pi/2, 2*pi)) \n",
    "print(sp.N(Ia, 7))\n",
    "Ia"
   ]
  },
  {
   "attachments": {
    "image.png": {
     "image/png": "[encoded data removed]"
    }
   },
   "cell_type": "markdown",
   "id": "f784c7ff",
   "metadata": {},
   "source": [
    "**(b)**\n",
    "\n",
    "![image.png](attachment:image.png)"
   ]
  },
  {
   "cell_type": "code",
   "execution_count": 28,
   "id": "5ac70749",
   "metadata": {},
   "outputs": [
    {
     "data": {
      "text/latex": [
       "$\\displaystyle 144$"
      ],
      "text/plain": [
       "144"
      ]
     },
     "execution_count": 28,
     "metadata": {},
     "output_type": "execute_result"
    }
   ],
   "source": [
    "# (b): With 'sympy.geometry Segment' (no need for 'GENERAL FRAMEWORK') as a Line integral of a vector field\n",
    "F = (C.x - C.y)*C.i - C.y*C.x**2*C.j                                                  # Vector field in CoordSys3D('C')\n",
    "sb = Segment((0, -6), (6, 0))                                                         # 2D line segment\n",
    "Ib = vector_integrate(F, sb)        #.doit().simplify()                               # Line integral of the vector field F\n",
    "Ib"
   ]
  },
  {
   "cell_type": "markdown",
   "id": "6e7494a3",
   "metadata": {},
   "source": [
    "=========================================================================================================================\n",
    "\n",
    "**Problem 7.** Evaluate $  \\displaystyle \\int\\limits_{C}{{{x^3}\\,dy - \\left( {y + 1} \\right)\\,dx}}$ for each of the following two curves.\n",
    "\n",
    "**(a)** $\\,\\,\\, C$ is the line segment from $(1, 7)$ to $(-2, 4).$"
   ]
  },
  {
   "cell_type": "code",
   "execution_count": 29,
   "id": "d4382ad4",
   "metadata": {},
   "outputs": [
    {
     "data": {
      "text/latex": [
       "$\\displaystyle \\frac{93}{4}$"
      ],
      "text/plain": [
       "93/4"
      ]
     },
     "execution_count": 29,
     "metadata": {},
     "output_type": "execute_result"
    }
   ],
   "source": [
    "# (a): With 'sympy.geometry Segment' (no need for 'GENERAL FRAMEWORK') as a Line integral of a vector field\n",
    "F = -(C.y + 1)*C.i + C.x**3*C.j                                                       # Vector field in CoordSys3D('C')\n",
    "sa = Segment((1, 7), (-2, 4))                                                         # 2D line segment\n",
    "Ia = vector_integrate(F, sa)        #.doit().simplify()                               # Line integral of the vector field F\n",
    "Ia"
   ]
  },
  {
   "cell_type": "markdown",
   "id": "65c0b2be",
   "metadata": {},
   "source": [
    "**(b)** $\\,\\,\\, C$ is the line segment from $(1, 7)$ to $(-2, 4)\\,$ (with opposite direction to part (a))."
   ]
  },
  {
   "cell_type": "code",
   "execution_count": 30,
   "id": "513ee0d7",
   "metadata": {},
   "outputs": [
    {
     "data": {
      "text/latex": [
       "$\\displaystyle - \\frac{93}{4}$"
      ],
      "text/plain": [
       "-93/4"
      ]
     },
     "execution_count": 30,
     "metadata": {},
     "output_type": "execute_result"
    }
   ],
   "source": [
    "# (b): With 'sympy.geometry Segment' (no need for 'GENERAL FRAMEWORK') as a Line integral of a vector field\n",
    "F = -(C.y + 1)*C.i + C.x**3*C.j                                                       # Vector field in CoordSys3D('C')\n",
    "sb = Segment((-2, 4), (1, 7))                                                         # 2D line segment\n",
    "Ib = vector_integrate(F, sb)        #.doit().simplify()                               # Line integral of the vector field F\n",
    "Ib"
   ]
  },
  {
   "cell_type": "markdown",
   "id": "3631e2e4",
   "metadata": {},
   "source": [
    "=================================\n",
    "\n",
    "Codes: Heikki Miettinen 2024\n"
   ]
  },
  {
   "cell_type": "code",
   "execution_count": null,
   "id": "8421d544",
   "metadata": {},
   "outputs": [],
   "source": []
  }
 ],
 "metadata": {
  "kernelspec": {
   "display_name": "Python 3 (ipykernel)",
   "language": "python",
   "name": "python3"
  },
  "language_info": {
   "codemirror_mode": {
    "name": "ipython",
    "version": 3
   },
   "file_extension": ".py",
   "mimetype": "text/x-python",
   "name": "python",
   "nbconvert_exporter": "python",
   "pygments_lexer": "ipython3",
   "version": "3.11.5"
  }
 },
 "nbformat": 4,
 "nbformat_minor": 5
}
