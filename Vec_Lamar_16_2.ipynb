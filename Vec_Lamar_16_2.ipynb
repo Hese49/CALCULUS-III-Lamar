{
 "cells": [
  {
   "cell_type": "markdown",
   "id": "0fec9597",
   "metadata": {},
   "source": [
    "=============================================================================================================\n",
    " \n",
    " ## Line Integrals - Part I ##\n",
    " \n",
    " **With Python SymPy**\n",
    " \n",
    "The next Examples and Practice Problems and their images come from **Paul Dawkins** excellent lecture notes: http://tutorial.math.lamar.edu/index.aspx, where you can the find the underlying theory of calculations and the detailed 'paper and pen' solutions. To use this material you must read *'Terms of Use'* from https://tutorial.math.lamar.edu/Terms.aspx.\n"
   ]
  },
  {
   "cell_type": "markdown",
   "id": "245ad7ea",
   "metadata": {},
   "source": [
    "=========================================================================================================================\n",
    "\n",
    "Given a curve *C*:  $\\vec{r}(t) = \\left< x(t), y(t), z(t) \\right>$\n",
    " the **line integral of a scalar field $f(x,y,z) $\n",
    " along the curve** is $$\\int_C f(x,y,z) ds = \\int_a^b f(x(t), y(t), z(t))|d\\vec{r}/dt|dt $$.\n",
    " \n",
    " =======================================================================================================================\n"
   ]
  },
  {
   "cell_type": "markdown",
   "id": "5fda07f3",
   "metadata": {},
   "source": [
    "To calculate the line integrals we use three different methods.\n",
    "\n",
    "\n",
    "1. The coordinate variables  x, y, z are defined as  functions of the parameter t. The vector field components F1, F2, F3 are defined to be functions of x(t), y(t), z(t). Then the expression for the integrable in the general form without the problem specifics is formed. When solving a problem this framework is used by substituting the field and the parameterized coordinate functions of the curve in the integrand. The framework is set to be 3D, for 2D fields and curves just set F3 = 0 and z(t) = 0. This method represents more math than the next two. \n",
    "\n",
    "2.  SymPy has a function 'Curve()', which offers an easy automated way to calculate line integrals. There you pass the parameterization  of the curve as argument to the function. Then you 'vector_integrate' the field along this path.\n",
    "\n",
    "3.  If the path is a line segment, you can use the 'Segment()' function for the path by just giving the end points of the segment as arguments. Here you have to give the scalar field in CoordSys3D('C'). Use 'vector_integrate'\n"
   ]
  },
  {
   "cell_type": "code",
   "execution_count": 1,
   "id": "f3e1941d",
   "metadata": {},
   "outputs": [],
   "source": [
    "import numpy as np\n",
    "import sympy as sp\n",
    "from sympy.vector import *\n",
    "from sympy import sin, cos, pi, sqrt, Curve\n",
    "from sympy.vector import CoordSys3D, vector_integrate\n",
    "C = CoordSys3D('C')\n",
    "from sympy.geometry import Segment \n",
    "x, y, z = sp.symbols('x y z')"
   ]
  },
  {
   "cell_type": "code",
   "execution_count": 2,
   "id": "dfce98ef",
   "metadata": {},
   "outputs": [
    {
     "data": {
      "text/latex": [
       "$\\displaystyle \\sqrt{\\left|{\\frac{d}{d t} x{\\left(t \\right)}}\\right|^{2} + \\left|{\\frac{d}{d t} y{\\left(t \\right)}}\\right|^{2} + \\left|{\\frac{d}{d t} z{\\left(t \\right)}}\\right|^{2}} f{\\left(x{\\left(t \\right)},y{\\left(t \\right)},z{\\left(t \\right)} \\right)}$"
      ],
      "text/plain": [
       "sqrt(Abs(Derivative(x(t), t))**2 + Abs(Derivative(y(t), t))**2 + Abs(Derivative(z(t), t))**2)*f(x(t), y(t), z(t))"
      ]
     },
     "execution_count": 2,
     "metadata": {},
     "output_type": "execute_result"
    }
   ],
   "source": [
    "# GENERAL FRAMEWORK     \n",
    "\n",
    "t = sp.symbols('t', real=True)                                                # # The parameter (variable)\n",
    "x, y, z, f = sp.symbols('x y z f', cls=sp.Function, real=True)\n",
    "x = x(t)                                                                      # x coordinate as a function of parameter t\n",
    "y = y(t)                                                         \n",
    "z = z(t)\n",
    "r = sp.Matrix([x, y, z])                                                      # Position vector to the points on the curve\n",
    "f = f(x,y,z)                                                                  # Scalar field\n",
    "integrand = f*sp.diff(r,t).norm()                                             # From the definition above\n",
    "\n",
    "'Notes:'\n",
    "'This integrand is used in several examples by placing a scalar field f(x,y,z) and a path <x(t), y(t), z(t)) in it.'\n",
    "'The field f may be in parameter form or not'\n",
    "'The GENERAL FRAMEWORK is needed again after using \"sympy Curve\"  or  \"sympy.geometry Segment\" '\n",
    "integrand   "
   ]
  },
  {
   "cell_type": "markdown",
   "id": "a8c318d5",
   "metadata": {},
   "source": [
    "**Example 1.** Evaluate  $ \\displaystyle \\int\\limits_{C}{{x{y^4}\\,ds}} $ where $C$ is the right half of the circle ${x^2} + {y^2} = 16$ traced out in a counter clockwise direction.\n"
   ]
  },
  {
   "cell_type": "code",
   "execution_count": 3,
   "id": "80f9e54c",
   "metadata": {},
   "outputs": [
    {
     "name": "stdout",
     "output_type": "stream",
     "text": [
      "The line integral of the function f along the path C1  ≈ 1638.4\n"
     ]
    },
    {
     "data": {
      "text/latex": [
       "$\\displaystyle \\frac{8192}{5}$"
      ],
      "text/plain": [
       "8192/5"
      ]
     },
     "execution_count": 3,
     "metadata": {},
     "output_type": "execute_result"
    }
   ],
   "source": [
    "# The scalar field f and the path  C in parameter form are placed in the integrand\n",
    "integrand1 = integrand.subs([(f, x*y**4),\n",
    "                             (x, 4*sp.cos(t)),\n",
    "                             (y, 4*sp.sin(t)),\n",
    "                             (z, 0)]).doit().simplify()\n",
    "I1 = sp.integrate(integrand1, (t, -sp.pi/2, sp.pi/2))                                # Integration with SymPy\n",
    "print('The line integral of the function f along the path C1  ≈', sp.N(I1, 5))       # 5 digit approximation\n",
    "I1                                                                                   # The exact result\n",
    " "
   ]
  },
  {
   "cell_type": "markdown",
   "id": "3a5addd7",
   "metadata": {},
   "source": [
    "=======================================================================================================================\n",
    "\n",
    "**Example 2.** Evaluate $\\displaystyle \\int\\limits_{C}{{4{x^3}\\,ds}}$ where $C$ is the curve shown below."
   ]
  },
  {
   "attachments": {
    "image.png": {
     "image/png": "[encoded data removed]"
    }
   },
   "cell_type": "markdown",
   "id": "02c70836",
   "metadata": {},
   "source": [
    "![image.png](attachment:image.png)"
   ]
  },
  {
   "cell_type": "markdown",
   "id": "4f7b3830",
   "metadata": {},
   "source": [
    " Parameterize each of the curves:\n",
    " $$\\begin{align*}& {C_1}\\,\\,\\,:\\,\\,\\,\\,x = t,\\,\\,y =  - 1\\,,\\,\\,\\,\\,\\,\\,\\,\\,\\,\\,\\,\\, - 2 \\le t \\le 0\\\\ & {C_2}\\,\\,:\\,\\,\\,\\,\\,x = t,\\,\\,y = {t^3} - 1,\\,\\,\\,\\,\\,\\,\\,\\,\\,\\,0 \\le t \\le 1\\\\ & {C_3}\\,\\,:\\,\\,\\,\\,\\,x = 1,\\,\\,\\,y = t,\\,\\,\\,\\,\\,\\,\\,\\,\\,\\,\\,\\,\\,\\,\\,\\,\\,\\,\\,0 \\le t \\le 2  \\end{align*} $$\n",
    " \n",
    "We integrate separate over each of these curves and then sum up the integrals.\n",
    " "
   ]
  },
  {
   "cell_type": "code",
   "execution_count": 4,
   "id": "f50ced46",
   "metadata": {},
   "outputs": [
    {
     "name": "stdout",
     "output_type": "stream",
     "text": [
      "The line integral of the function f along the path C1  ≈ -16.000\n"
     ]
    }
   ],
   "source": [
    "#C1: The scalar field f and the path  C1 in parameter form are placed in the integrand\n",
    "integrand1 = integrand.subs([(f, 4*x**3),\n",
    "                             (x, t),\n",
    "                             (y, -1),\n",
    "                             (z, 0)]).doit().simplify()\n",
    "I1 = sp.integrate(integrand1, (t, -2, 0))                                                      # Integration with SymPy\n",
    "print('The line integral of the function f along the path C1  ≈', sp.N(I1, 5))                 # 5 digit approximation "
   ]
  },
  {
   "cell_type": "code",
   "execution_count": 5,
   "id": "74dfd015",
   "metadata": {},
   "outputs": [],
   "source": [
    "#C2: GENERAL FRAMEWORK\n",
    "t = sp.symbols('t', real=True)                                                 # The parameter (variable)\n",
    "x, y, z, f = sp.symbols('x y z f', cls=sp.Function, real=True)\n",
    "x = x(t)                                                                       # x coordinate as a function of parameter t\n",
    "y = y(t)                                                         \n",
    "z = z(t)\n",
    "r = sp.Matrix([x, y, z])                                                       # Position vector to the points on the curve\n",
    "f = f(x,y,z)                                                                   # Scalar field\n",
    "integrand = f*sp.diff(r,t).norm()                                              # From the definition above\n"
   ]
  },
  {
   "cell_type": "code",
   "execution_count": 6,
   "id": "70393507",
   "metadata": {},
   "outputs": [
    {
     "name": "stdout",
     "output_type": "stream",
     "text": [
      "The line integral of the function f along the path C2  ≈ 2.2684\n"
     ]
    }
   ],
   "source": [
    "#C2: The scalar field f and the path C2 in parameter form are placed in the integrand\n",
    "integrand2 = integrand.subs([(f, 4*x**3),\n",
    "                             (x, t),\n",
    "                             (y, t**3 - 1),\n",
    "                             (z, 0)]).doit().simplify()\n",
    "I2 = sp.integrate(integrand2, (t, 0, 1))                                                       # Integration with SymPy\n",
    "print('The line integral of the function f along the path C2  ≈', sp.N(I2, 5))                 # 5 digit approximation    "
   ]
  },
  {
   "cell_type": "code",
   "execution_count": 7,
   "id": "38656b99",
   "metadata": {},
   "outputs": [
    {
     "name": "stdout",
     "output_type": "stream",
     "text": [
      "2.2684\n"
     ]
    }
   ],
   "source": [
    "#C2: This can also be integrated using \"SymPy Curve\" (without using 'GENERAL FRAMEWORK')\n",
    "f  = 4*t**3                                                                                    # Parameterized scalar field\n",
    "C2 = Curve((t, t**3), (t, 0, 1))                                                               # Parameterized 2D curve\n",
    "I2 = vector_integrate(f, C2 )         #.doit().simplify()\n",
    "print(sp.N(I2, 5)) "
   ]
  },
  {
   "cell_type": "code",
   "execution_count": 8,
   "id": "19de6bcf",
   "metadata": {},
   "outputs": [],
   "source": [
    "#C3: GENERAL FRAMEWORK             (This is needed after using \"SymPy Curve\" or 'sympy.geometry Segment')\n",
    "t = sp.symbols('t', real=True)                                                 # The parameter (variable)\n",
    "x, y, z, f = sp.symbols('x y z f', cls=sp.Function, real=True)\n",
    "x = x(t)                                                                       # x coordinate as a function of parameter t\n",
    "y = y(t)                                                         \n",
    "z = z(t)\n",
    "r = sp.Matrix([x, y, z])                                                       # Position vector to the points on the curve\n",
    "f = f(x,y,z)                                                                   # Scalar field\n",
    "integrand = f*sp.diff(r,t).norm()                                              # From the definition above\n"
   ]
  },
  {
   "cell_type": "code",
   "execution_count": 9,
   "id": "d0568e7f",
   "metadata": {},
   "outputs": [
    {
     "name": "stdout",
     "output_type": "stream",
     "text": [
      "The line integral of the function f along the path C3  ≈ 8.0000\n"
     ]
    }
   ],
   "source": [
    "#C3: The scalar field f and the path C3 in parameter form are placed in the integrand\n",
    "integrand3 = integrand.subs([(f, 4*x**3),\n",
    "                             (x, 1),\n",
    "                             (y, t),\n",
    "                             (z, 0)]).doit().simplify()\n",
    "I3 = sp.integrate(integrand3, (t, 0, 2))                                           \n",
    "print('The line integral of the function f along the path C3  ≈', sp.N(I3, 5))           # 5 digit approximation "
   ]
  },
  {
   "cell_type": "code",
   "execution_count": 10,
   "id": "747f6121",
   "metadata": {},
   "outputs": [
    {
     "name": "stdout",
     "output_type": "stream",
     "text": [
      "I3 ≈ 8.0000\n"
     ]
    }
   ],
   "source": [
    "# This can also be easily calculated with 'sympy.geometry Segment'  (no need for 'GENERAL FRAMEWORK')\n",
    "f = 4*C.x**3                                                                             # Scalar field in CoordSys3D('C')\n",
    "s3 = Segment((1, 0), (1, 2))                                                             # 2D line segment\n",
    "I3 = vector_integrate(f, s3)   #.doit().simplify()                                       # Line integral \n",
    "print('I3 ≈', sp.N(I3, 5))        # 5 digit approximation   \n"
   ]
  },
  {
   "cell_type": "code",
   "execution_count": 11,
   "id": "55050f17",
   "metadata": {},
   "outputs": [
    {
     "data": {
      "text/latex": [
       "$\\displaystyle -5.732$"
      ],
      "text/plain": [
       "-5.732"
      ]
     },
     "execution_count": 11,
     "metadata": {},
     "output_type": "execute_result"
    }
   ],
   "source": [
    "# The sum of the separate line integrals in 4-digit approximation\n",
    "I = sp.N((I1 + I2 + I3), 4)\n",
    "I"
   ]
  },
  {
   "cell_type": "markdown",
   "id": "92f1e852",
   "metadata": {},
   "source": [
    "=========================================================================================================================\n",
    "\n",
    "**Examples 3 and 4.** Evaluate $\\displaystyle \\int\\limits_{C}{{4{x^3}\\,ds}}$ where $C$ is the  the line segment  **a)** &nbsp; from  $\\left( { - 2, - 1} \\right)$ to $\\left( { 1, 2} \\right)$ &nbsp; &nbsp; **b)** &nbsp;  from $\\left( {1, 2} \\right)$ to $\\left( { - 2, - 1} \\right)$\n"
   ]
  },
  {
   "cell_type": "code",
   "execution_count": 12,
   "id": "cd0b97ad",
   "metadata": {},
   "outputs": [
    {
     "name": "stdout",
     "output_type": "stream",
     "text": [
      "The line integral of the function f along line segment a) ≈ -21.213\n",
      "The line integral of the function f along the line segment b) ≈ -21.213\n"
     ]
    }
   ],
   "source": [
    "# This can be easily calculated with 'sympy.geometry Segment'  (no need for 'GENERAL FRAMEWORK')\n",
    "# (a)\n",
    "f = 4*C.x**3                                                                             # Scalar field in CoordSys3D('C')\n",
    "sa = Segment((-2, -1), (1, 2))                                                           # 2D line segment\n",
    "Ia = vector_integrate(f, sa)   #.doit().simplify()                                       # Line integral \n",
    "print('The line integral of the function f along line segment a) ≈', sp.N(Ia, 5))        # 5 digit approximation   \n",
    "\n",
    "# (b)\n",
    "sb = Segment((1, 2), (-2, -1))                                                           # 2D line segment\n",
    "Ib = vector_integrate(f, sb)   #.doit().simplify()                                       # Line integral \n",
    "print('The line integral of the function f along the line segment b) ≈', sp.N(Ib, 5))    # 5 digit approximation   \n"
   ]
  },
  {
   "cell_type": "markdown",
   "id": "af4cd67b",
   "metadata": {},
   "source": [
    "======================================================================================================================\n",
    "\n",
    "**Example 5.** Evaluate $\\displaystyle \\int\\limits_{C}{{4{x^3}\\,ds}}$ for each of the following curves.\n",
    "\n",
    "$a) \\,\\, C1: \\,\\,{C_1}:y = {x^2},\\,\\,\\, - 1 \\le x \\le 1$\n",
    "\n",
    "$b) \\,\\, C2:$  &nbsp; The line segment from  &nbsp; $\\left( { - 1,1} \\right) $ to $ \\left( {  1,1} \\right)$\n",
    "\n",
    "$c) \\,\\, C3:$  &nbsp; The line segment from &nbsp; $\\left( { 1,1} \\right) $ to $ \\left( { - 1,1} \\right)$\n"
   ]
  },
  {
   "attachments": {
    "image.png": {
     "image/png": "[encoded data removed]"
    }
   },
   "cell_type": "markdown",
   "id": "e58dd4f9",
   "metadata": {},
   "source": [
    "![image.png](attachment:image.png)"
   ]
  },
  {
   "cell_type": "code",
   "execution_count": 13,
   "id": "85f87ee1",
   "metadata": {},
   "outputs": [
    {
     "data": {
      "text/latex": [
       "$\\displaystyle \\sqrt{\\left|{\\frac{d}{d t} x{\\left(t \\right)}}\\right|^{2} + \\left|{\\frac{d}{d t} y{\\left(t \\right)}}\\right|^{2} + \\left|{\\frac{d}{d t} z{\\left(t \\right)}}\\right|^{2}} f{\\left(x{\\left(t \\right)},y{\\left(t \\right)},z{\\left(t \\right)} \\right)}$"
      ],
      "text/plain": [
       "sqrt(Abs(Derivative(x(t), t))**2 + Abs(Derivative(y(t), t))**2 + Abs(Derivative(z(t), t))**2)*f(x(t), y(t), z(t))"
      ]
     },
     "execution_count": 13,
     "metadata": {},
     "output_type": "execute_result"
    }
   ],
   "source": [
    "# THE GENERAL FRAMEWORK           (This is needed after using \"SymPy Curve\" or 'sympy.geometry Segment')\n",
    "t = sp.symbols('t', real=True)                                                 # Parameter variable\n",
    "x, y, z, f = sp.symbols('x y z f', cls=sp.Function, real=True)\n",
    "x = x(t)                                                                       # x coordinate as a function of parameter t\n",
    "y = y(t)\n",
    "z = z(t)\n",
    "r = sp.Matrix([x, y, z])                                                       # Position vector to the points on the curve\n",
    "f = f(x,y,z)                                                                   # Scalar field\n",
    "integrand = f*sp.diff(r,t).norm()                                              # From the definition of the line integral\n",
    "integrand"
   ]
  },
  {
   "cell_type": "code",
   "execution_count": 14,
   "id": "b17eb4ea",
   "metadata": {},
   "outputs": [
    {
     "name": "stdout",
     "output_type": "stream",
     "text": [
      "The line integral of the function f along the path C1  ≈ 0\n"
     ]
    }
   ],
   "source": [
    "#C1: The scalar field f and the path C1 in parameter form are placed in the integrand\n",
    "integrand_C1 = integrand.subs([(f, x),\n",
    "                              (x, t),\n",
    "                              (y, t**2),\n",
    "                              (z, 0)]).doit().simplify()\n",
    "Ia = sp.integrate(integrand_C1, (t, -1, 1))                                         # Integration with SymPy\n",
    "print('The line integral of the function f along the path C1  ≈', sp.N(Ia, 5))      # 5 digit approximation "
   ]
  },
  {
   "cell_type": "code",
   "execution_count": 15,
   "id": "7de47bed",
   "metadata": {},
   "outputs": [
    {
     "name": "stdout",
     "output_type": "stream",
     "text": [
      "The line integral of the function f along the line segment b) = 0\n",
      "The line integral of the function f along the line segment c) = 0\n"
     ]
    }
   ],
   "source": [
    "# The parts b) and c) can be easily calculated with 'sympy.geometry Segment'    (no need for 'GENERAL FRAMEWORK')\n",
    "f = C.x                                                                             # Scalar field in CoordSys3D('C')\n",
    "sb = Segment((-1, 1), (1, 1))                                                       # 2D line segment C2\n",
    "sc = Segment((1, 1), (-1, 1))                                                       # 2D line segment C3\n",
    "Ib = vector_integrate(f, sb)   #.doit().simplify()                                  # Line integral \n",
    "Ic = vector_integrate(f, sc)   #.doit().simplify()  \n",
    "print('The line integral of the function f along the line segment b) =', sp.N(Ib, 5))       # 5 digit approximation   \n",
    "print('The line integral of the function f along the line segment c) =', sp.N(Ic, 5))         "
   ]
  },
  {
   "cell_type": "markdown",
   "id": "7d804041",
   "metadata": {},
   "source": [
    "=======================================================================================================================\n",
    "\n",
    "**Example 6.** Evaluate $\\displaystyle \\int\\limits_{C}{{xyz}\\,ds}$ where $C$ is the helix given by  $\\,\\,\\vec r\\left( t \\right) = \\left\\langle {\\cos \\left( t \\right),\\, \\sin \\left( t \\right), \\,3t} \\right\\rangle, \\, \\,  \\, 0 \\le t \\le 4\\pi$ "
   ]
  },
  {
   "attachments": {
    "image.png": {
     "image/png": "[encoded data removed]"
    }
   },
   "cell_type": "markdown",
   "id": "7b1cc636",
   "metadata": {},
   "source": [
    "![image.png](attachment:image.png)"
   ]
  },
  {
   "cell_type": "code",
   "execution_count": 16,
   "id": "53873dde",
   "metadata": {},
   "outputs": [
    {
     "data": {
      "text/latex": [
       "$\\displaystyle \\sqrt{\\left|{\\frac{d}{d t} x{\\left(t \\right)}}\\right|^{2} + \\left|{\\frac{d}{d t} y{\\left(t \\right)}}\\right|^{2} + \\left|{\\frac{d}{d t} z{\\left(t \\right)}}\\right|^{2}} f{\\left(x{\\left(t \\right)},y{\\left(t \\right)},z{\\left(t \\right)} \\right)}$"
      ],
      "text/plain": [
       "sqrt(Abs(Derivative(x(t), t))**2 + Abs(Derivative(y(t), t))**2 + Abs(Derivative(z(t), t))**2)*f(x(t), y(t), z(t))"
      ]
     },
     "execution_count": 16,
     "metadata": {},
     "output_type": "execute_result"
    }
   ],
   "source": [
    "# THE GENERAL FRAMEWORK\n",
    "t = sp.symbols('t', real=True)                                                 # Parameter variable\n",
    "x, y, z, f = sp.symbols('x y z f', cls=sp.Function, real=True)\n",
    "x = x(t)\n",
    "y = y(t)\n",
    "z = z(t)\n",
    "r = sp.Matrix([x, y, z])                                                       # Position vector to the points on the curve \n",
    "f = f(x,y,z)                                                                   # Scalar field\n",
    "integrand = f*sp.diff(r,t).norm()                                              # From the definition\n",
    "integrand\n"
   ]
  },
  {
   "cell_type": "code",
   "execution_count": 17,
   "id": "aa413ecd",
   "metadata": {},
   "outputs": [
    {
     "name": "stdout",
     "output_type": "stream",
     "text": [
      "The line integral of the function f along the path C  ≈ -29.804\n"
     ]
    },
    {
     "data": {
      "text/latex": [
       "$\\displaystyle - 3 \\sqrt{10} \\pi$"
      ],
      "text/plain": [
       "-3*sqrt(10)*pi"
      ]
     },
     "execution_count": 17,
     "metadata": {},
     "output_type": "execute_result"
    }
   ],
   "source": [
    "# The scalar field f and the path C in parameter form are placed in the integrand of the general framework\n",
    "integrand6= integrand.subs([(f, x*y*z), \n",
    "                            (x, cos(t)),\n",
    "                            (y, sin(t)),\n",
    "                            (z, 3*t)]).doit().simplify()\n",
    "I = sp.integrate(integrand6, (t, 0, 4*pi))                                             # Integration with SymPy\n",
    "\n",
    "print('The line integral of the function f along the path C  ≈', sp.N(I, 5))           # 5 digit approximation \n",
    "I"
   ]
  },
  {
   "cell_type": "markdown",
   "id": "09ec66ac",
   "metadata": {},
   "source": [
    "=========================================================================================================================\n",
    "\n",
    "**Problem 1.** Evaluate $\\displaystyle \\int\\limits_{C}({{3{x^2} - 2y)\\,ds}}\\,\\,$ where $C$ is the line segment  from  &nbsp; $\\left( { 3, 6} \\right)$ to $\\left( { 1, -1} \\right)$."
   ]
  },
  {
   "cell_type": "code",
   "execution_count": 18,
   "id": "f8746d02",
   "metadata": {},
   "outputs": [
    {
     "data": {
      "text/latex": [
       "$\\displaystyle 8 \\sqrt{53}$"
      ],
      "text/plain": [
       "8*sqrt(53)"
      ]
     },
     "execution_count": 18,
     "metadata": {},
     "output_type": "execute_result"
    }
   ],
   "source": [
    "# With 'sympy.geometry Segment' \n",
    "f = 3*C.x**2 - 2*C.y                                                                   # Scalar field in CoordSys3D('C')\n",
    "sa = Segment((3, 6), (1, -1))                                                          # 2D line segment\n",
    "vector_integrate(f, sa)   #.doit().simplify()                                          # Line integral "
   ]
  },
  {
   "cell_type": "markdown",
   "id": "e93b25d7",
   "metadata": {},
   "source": [
    " =========================================================================================================================\n",
    "\n",
    "**Problem 2.** Evaluate $\\displaystyle \\int\\limits_{C}({{2y{x^2} - 4x)\\,ds}}\\,\\,$ where $C$ is the lower half of the circle centered at the origin of radius 3 with clockwise rotation.\n"
   ]
  },
  {
   "attachments": {
    "image.png": {
     "image/png": "[encoded data removed]"
    }
   },
   "cell_type": "markdown",
   "id": "7526934c",
   "metadata": {},
   "source": [
    "![image.png](attachment:image.png)"
   ]
  },
  {
   "cell_type": "code",
   "execution_count": 19,
   "id": "62fd50cf",
   "metadata": {},
   "outputs": [
    {
     "data": {
      "text/latex": [
       "$\\displaystyle \\sqrt{\\left|{\\frac{d}{d t} x{\\left(t \\right)}}\\right|^{2} + \\left|{\\frac{d}{d t} y{\\left(t \\right)}}\\right|^{2} + \\left|{\\frac{d}{d t} z{\\left(t \\right)}}\\right|^{2}} f{\\left(x{\\left(t \\right)},y{\\left(t \\right)},z{\\left(t \\right)} \\right)}$"
      ],
      "text/plain": [
       "sqrt(Abs(Derivative(x(t), t))**2 + Abs(Derivative(y(t), t))**2 + Abs(Derivative(z(t), t))**2)*f(x(t), y(t), z(t))"
      ]
     },
     "execution_count": 19,
     "metadata": {},
     "output_type": "execute_result"
    }
   ],
   "source": [
    "# THE GENERAL FRAMEWORK              (Needed after using \"SymPy Curve\" or 'sympy.geometry Segment')\n",
    "t = sp.symbols('t', real=True)                                                 # Parameter variable\n",
    "x, y, z, f = sp.symbols('x y z f', cls=sp.Function, real=True)\n",
    "x = x(t)\n",
    "y = y(t)\n",
    "z = z(t)\n",
    "r = sp.Matrix([x, y, z])                                                       # Position vector to the points on the curve \n",
    "f = f(x,y,z)                                                                   # Scalar field\n",
    "integrand = f*sp.diff(r,t).norm()                                              # From the definition\n",
    "integrand"
   ]
  },
  {
   "cell_type": "code",
   "execution_count": 20,
   "id": "459535fa",
   "metadata": {},
   "outputs": [
    {
     "data": {
      "text/latex": [
       "$\\displaystyle -108$"
      ],
      "text/plain": [
       "-108"
      ]
     },
     "execution_count": 20,
     "metadata": {},
     "output_type": "execute_result"
    }
   ],
   "source": [
    "# The scalar field f and the path C in parameter form are placed in the integrand of \n",
    "integrand2= integrand.subs([(f, 2*y*x**2 - 4*x),\n",
    "                            (x, 3*cos(t)),\n",
    "                            (y, -3*sin(t)),\n",
    "                            (z, 0)]).doit().simplify()                      # Note the clockwise tracing y -> -3sin(t)\n",
    "sp.integrate(integrand2, (t, 0, pi))                                    "
   ]
  },
  {
   "cell_type": "markdown",
   "id": "8cdabbc5",
   "metadata": {},
   "source": [
    " =========================================================================================================================\n",
    "\n",
    "**Problem 3.** Evaluate $\\displaystyle \\int\\limits_{C}{{6x\\,ds}}\\,\\,$ where $C$ is the portion of $y = {x^2}$ &nbsp; from  &nbsp; ${x = -1 } $  to  $ {x = 2} $. The direction of $C$ is in the direction of increasing $x$."
   ]
  },
  {
   "attachments": {
    "image.png": {
     "image/png": "[encoded data removed]"
    }
   },
   "cell_type": "markdown",
   "id": "10deae03",
   "metadata": {},
   "source": [
    "![image.png](attachment:image.png)"
   ]
  },
  {
   "cell_type": "code",
   "execution_count": 21,
   "id": "c543847f",
   "metadata": {},
   "outputs": [
    {
     "data": {
      "text/latex": [
       "$\\displaystyle - \\frac{5 \\sqrt{5}}{2} + \\frac{17 \\sqrt{17}}{2}$"
      ],
      "text/plain": [
       "-5*sqrt(5)/2 + 17*sqrt(17)/2"
      ]
     },
     "execution_count": 21,
     "metadata": {},
     "output_type": "execute_result"
    }
   ],
   "source": [
    "# The scalar field f and the path C in parameter form are placed in the integrand (in gener. framew. See Prbl. 2)\n",
    "integrand6= integrand.subs([(f, 6*x),\n",
    "                            (x, t),\n",
    "                            (y, t**2),\n",
    "                            (z, 0)]).doit().simplify()\n",
    "sp.integrate(integrand6, (t, -1, 2))                                               "
   ]
  },
  {
   "cell_type": "code",
   "execution_count": 22,
   "id": "d95f78e4",
   "metadata": {},
   "outputs": [
    {
     "data": {
      "text/latex": [
       "$\\displaystyle - \\frac{5 \\sqrt{5}}{2} + \\frac{17 \\sqrt{17}}{2}$"
      ],
      "text/plain": [
       "-5*sqrt(5)/2 + 17*sqrt(17)/2"
      ]
     },
     "execution_count": 22,
     "metadata": {},
     "output_type": "execute_result"
    }
   ],
   "source": [
    "# This can also be integrated using \"SymPy Curve\" (without using 'GENERAL FRAMEWORK')\n",
    "f = 6*t                                                                            # Scalar field need to be parameterized\n",
    "C3 = Curve((t, t**2), (t, -1, 2))                                                  # Parameterized 2D curve\n",
    "vector_integrate(f, C3 )         #.doit().simplify()"
   ]
  },
  {
   "cell_type": "markdown",
   "id": "f75862f1",
   "metadata": {},
   "source": [
    "=========================================================================================================================\n",
    "\n",
    "**Problem 4.** Evaluate $\\displaystyle \\int\\limits_{C}{xy - 4z\\,ds}\\,\\,$ where $C$ is the line segment   &nbsp; from  $\\left( { 1, 1, 0} \\right)$ to $\\left( {2, 3, -2 } \\right)$."
   ]
  },
  {
   "cell_type": "code",
   "execution_count": 23,
   "id": "f374cfd8",
   "metadata": {},
   "outputs": [
    {
     "data": {
      "text/latex": [
       "$\\displaystyle \\frac{43}{2}$"
      ],
      "text/plain": [
       "43/2"
      ]
     },
     "execution_count": 23,
     "metadata": {},
     "output_type": "execute_result"
    }
   ],
   "source": [
    "# With 'sympy.geometry Segment' (no need for 'GENERAL FRAMEWORK')\n",
    "f = C.x*C.y - 4*C.z                                                                # Scalar field in CoordSys3D('C')\n",
    "s = Segment((1,1,0), (2,3,-2))                                                     # 3D line segment\n",
    "vector_integrate(f, s)   #.doit().simplify()                                       # Line integral "
   ]
  },
  {
   "cell_type": "markdown",
   "id": "7a304b8d",
   "metadata": {},
   "source": [
    "=========================================================================================================================\n",
    "\n",
    "**Problem 5.** Evaluate $\\displaystyle \\int\\limits_{C}{x^2y^2\\,ds}\\,\\,$ where $C$ is the circle centered at the origin of radius 2 centered on the $y$-axis at $y = 4. $\n"
   ]
  },
  {
   "attachments": {
    "image.png": {
     "image/png": "[encoded data removed]"
    }
   },
   "cell_type": "markdown",
   "id": "b274032e",
   "metadata": {},
   "source": [
    "![image.png](attachment:image.png)"
   ]
  },
  {
   "cell_type": "code",
   "execution_count": 24,
   "id": "a634e17f",
   "metadata": {},
   "outputs": [
    {
     "data": {
      "text/latex": [
       "$\\displaystyle 128 \\pi$"
      ],
      "text/plain": [
       "128*pi"
      ]
     },
     "execution_count": 24,
     "metadata": {},
     "output_type": "execute_result"
    }
   ],
   "source": [
    "# The  FRAMEWORK\n",
    "t = sp.symbols('t', real=True)                                                 # Parameter variable\n",
    "x, y, z, f = sp.symbols('x y z f', cls=sp.Function, real=True)\n",
    "x = x(t)\n",
    "y = y(t)\n",
    "z = z(t)\n",
    "r = sp.Matrix([x, y, z])                                                       # Position vector to the points on the curve \n",
    "f = f(x,y,z)                                                                   # Scalar field \n",
    "integrand = f*sp.diff(r,t).norm()                                              # From the definition\n",
    "\n",
    "# The scalar field f and the path C in parameter form are placed in the integrand of \n",
    "integrand = integrand.subs([(f, x**2*y**2),\n",
    "                            (x, 2*cos(t)),\n",
    "                            (y, 4),\n",
    "                            (z, -2*sin(t))]).doit().simplify()\n",
    "sp.integrate(integrand, (t, 0, 2*pi))                                     "
   ]
  },
  {
   "cell_type": "markdown",
   "id": "2c554684",
   "metadata": {},
   "source": [
    "=========================================================================================================================\n",
    "\n",
    "**Problem 6.** Evaluate $\\displaystyle \\int\\limits_{C}{16y^5\\,ds}\\,\\,$ where $C$ is the portion of $x = y^4$ from $y = 0$  to $y = 1$ followed by the line segment from $(1, 1)$ to $(1, -2)$ which in turn is followed by the line segment from $(1, -2)$ to $(2, 0)$."
   ]
  },
  {
   "attachments": {
    "image.png": {
     "image/png": "[encoded data removed]"
    }
   },
   "cell_type": "markdown",
   "id": "97f33e5e",
   "metadata": {},
   "source": [
    "![image.png](attachment:image.png)\n",
    "\n",
    "Here we calculate the whole problem with  Curve() and Segment() functions."
   ]
  },
  {
   "cell_type": "code",
   "execution_count": 25,
   "id": "cf4ada67",
   "metadata": {},
   "outputs": [
    {
     "name": "stdout",
     "output_type": "stream",
     "text": [
      "I1 = 604.8171\n"
     ]
    }
   ],
   "source": [
    "#C1: With 'Curve'.    Parameterization x = t^4,  y = t\n",
    "f = 16*t**5                                                                       # Scalar field need to be parameterized\n",
    "C1 = Curve((t**4, t), (t, 0, 1))                                                  # Parameterized 2D curve\n",
    "I1 = sp.N(vector_integrate(f, C3 ), 7)        \n",
    "print('I1 =', I1)"
   ]
  },
  {
   "cell_type": "code",
   "execution_count": 26,
   "id": "2115b48d",
   "metadata": {},
   "outputs": [
    {
     "name": "stdout",
     "output_type": "stream",
     "text": [
      "I2 = -168\n"
     ]
    }
   ],
   "source": [
    "#C2: With 'Segment'  \n",
    "f = 16*C.y**5                                                                      # Scalar field in CoordSys3D('C')\n",
    "s2 = Segment((1,1,0), (1,-2, 0))                                                   # 2D line segment\n",
    "I2 = vector_integrate(f, s2)                                                       # Line integral \n",
    "print('I2 =', I2)"
   ]
  },
  {
   "cell_type": "code",
   "execution_count": 27,
   "id": "6e8a440a",
   "metadata": {},
   "outputs": [
    {
     "name": "stdout",
     "output_type": "stream",
     "text": [
      "I3 = -190.8111\n"
     ]
    }
   ],
   "source": [
    "#C3: With 'sympy.geometry Segment'  \n",
    "f = 16*C.y**5                                                                      # Scalar field in CoordSys3D('C')\n",
    "s3 = Segment((1,-2,0), (2, 0, 0))                                                  # 2D line segment\n",
    "I3 = sp.N(vector_integrate(f, s3), 7)                                              # Line integral \n",
    "print('I3 =', I3)"
   ]
  },
  {
   "cell_type": "code",
   "execution_count": 28,
   "id": "57f593d9",
   "metadata": {},
   "outputs": [
    {
     "name": "stdout",
     "output_type": "stream",
     "text": [
      "I = 246.0060\n"
     ]
    }
   ],
   "source": [
    "# Adding up the three line integrals:\n",
    "print('I =', I1 + I2 + I3)"
   ]
  },
  {
   "cell_type": "markdown",
   "id": "54ba2df6",
   "metadata": {},
   "source": [
    "=========================================================================================================================\n",
    "\n",
    "**Problem 7.** Evaluate $\\displaystyle \\int\\limits_{C}{4y - x}\\,ds\\,\\,$ where $C$ is the upper portion of the circle centered at the origin of radius $3$ from $\\displaystyle\\left( {\\frac{3}{{\\sqrt 2 }},\\frac{3}{{\\sqrt 2 }}} \\right)$ to $\\displaystyle\\left( { - \\frac{3}{{\\sqrt 2 }}, - \\frac{3}{{\\sqrt 2 }}} \\right)$  in the counter clockwise rotation followed by the line segment from $\\displaystyle\\left( { - \\frac{3}{{\\sqrt 2 }}, - \\frac{3}{{\\sqrt 2 }}} \\right)$ to  $\\displaystyle\\left( {4, - \\frac{3}{{\\sqrt 2 }}} \\right)$ which in turn is followed by the line segment from \n",
    "$\\displaystyle\\left( {4, - \\frac{3}{{\\sqrt 2 }}} \\right)$ to $\\left( {4,4} \\right).$"
   ]
  },
  {
   "attachments": {
    "image.png": {
     "image/png": "[encoded data removed]"
    }
   },
   "cell_type": "markdown",
   "id": "dc74c5f4",
   "metadata": {},
   "source": [
    "![image.png](attachment:image.png)"
   ]
  },
  {
   "cell_type": "code",
   "execution_count": 29,
   "id": "ac378cc7",
   "metadata": {},
   "outputs": [
    {
     "data": {
      "text/latex": [
       "$\\displaystyle \\sqrt{\\left|{\\frac{d}{d t} x{\\left(t \\right)}}\\right|^{2} + \\left|{\\frac{d}{d t} y{\\left(t \\right)}}\\right|^{2} + \\left|{\\frac{d}{d t} z{\\left(t \\right)}}\\right|^{2}} f{\\left(x{\\left(t \\right)},y{\\left(t \\right)},z{\\left(t \\right)} \\right)}$"
      ],
      "text/plain": [
       "sqrt(Abs(Derivative(x(t), t))**2 + Abs(Derivative(y(t), t))**2 + Abs(Derivative(z(t), t))**2)*f(x(t), y(t), z(t))"
      ]
     },
     "execution_count": 29,
     "metadata": {},
     "output_type": "execute_result"
    }
   ],
   "source": [
    "# Piecewise integration\n",
    "\n",
    "# The framework for C1\n",
    "t = sp.symbols('t', real=True)                                                 # Parameter variable\n",
    "x, y, z, f = sp.symbols('x y z f', cls=sp.Function, real=True)\n",
    "x = x(t)\n",
    "y = y(t)\n",
    "z = z(t)\n",
    "r = sp.Matrix([x, y, z])                                                       # Position vector to the points on the curve\n",
    "f = f(x,y,z)                                                                   # Scalar field\n",
    "integrand = f*sp.diff(r,t).norm()                                              # From the definition of line integral\n",
    "integrand"
   ]
  },
  {
   "cell_type": "code",
   "execution_count": 30,
   "id": "b9895531",
   "metadata": {},
   "outputs": [
    {
     "name": "stdout",
     "output_type": "stream",
     "text": [
      "The line integral of the function f along the path C1:   I1 ≈ 63.640\n"
     ]
    },
    {
     "data": {
      "text/latex": [
       "$\\displaystyle 45 \\sqrt{2}$"
      ],
      "text/plain": [
       "45*sqrt(2)"
      ]
     },
     "execution_count": 30,
     "metadata": {},
     "output_type": "execute_result"
    }
   ],
   "source": [
    "# The scalar field f and the path C1 in parameter form are placed in the integrand\n",
    "integrand_1 = integrand.subs([(f, 4*y - x),\n",
    "                             (x, 3*cos(t)),\n",
    "                             (y, 3*sin(t)),\n",
    "                             (z, 0)]).doit().simplify()\n",
    "# Integration limits\n",
    "lim1 = sp.atan2(3/sqrt(2), 3/sqrt(2))                                                       # =   pi/4\n",
    "lim2 = sp.atan2(-3/sqrt(2), -3/sqrt(2))                                                     # = -3pi/4 = 5*pi/4  \n",
    "\n",
    "I1 = sp.integrate(integrand_1, (t, lim1, lim2))                                             # Integration with SymPy\n",
    "print('The line integral of the function f along the path C1:   I1 ≈', sp.N(I1, 5))         # 5 digit approximation \n",
    "I1"
   ]
  },
  {
   "cell_type": "code",
   "execution_count": 31,
   "id": "6af227fb",
   "metadata": {},
   "outputs": [
    {
     "name": "stdout",
     "output_type": "stream",
     "text": [
      "I2 ≈ -57.691\n"
     ]
    },
    {
     "data": {
      "text/latex": [
       "$\\displaystyle - 24 \\sqrt{2} - \\frac{95}{4}$"
      ],
      "text/plain": [
       "-24*sqrt(2) - 95/4"
      ]
     },
     "execution_count": 31,
     "metadata": {},
     "output_type": "execute_result"
    }
   ],
   "source": [
    "# C2 and C3 with 'Segment' \n",
    "f = 4*C.y - C.x                                                                        # Scalar field in CoordSys3D('C')\n",
    "C2 = Segment((-3/sqrt(2), -3/sqrt(2)), (4, -3/sqrt(2)))                                # 2D line segment\n",
    "I2 = vector_integrate(f, C2)                                                           \n",
    "print('I2 ≈', sp.N(I2, 5))                                                             # 5 digit approximation   \n",
    "I2       "
   ]
  },
  {
   "cell_type": "code",
   "execution_count": 32,
   "id": "d44019e9",
   "metadata": {},
   "outputs": [
    {
     "name": "stdout",
     "output_type": "stream",
     "text": [
      "I3 ≈ -1.4853\n"
     ]
    },
    {
     "data": {
      "text/latex": [
       "$\\displaystyle 7 - 6 \\sqrt{2}$"
      ],
      "text/plain": [
       "7 - 6*sqrt(2)"
      ]
     },
     "execution_count": 32,
     "metadata": {},
     "output_type": "execute_result"
    }
   ],
   "source": [
    "C3 = Segment((4, -3/sqrt(2)), (4, 4))       \n",
    "I3 = vector_integrate(f, C3)    \n",
    "print('I3 ≈', sp.N(I3, 5))  \n",
    "I3"
   ]
  },
  {
   "cell_type": "code",
   "execution_count": 33,
   "id": "a144f318",
   "metadata": {},
   "outputs": [
    {
     "name": "stdout",
     "output_type": "stream",
     "text": [
      "I  ≈ 4.4632\n"
     ]
    },
    {
     "data": {
      "text/latex": [
       "$\\displaystyle - \\frac{67}{4} + 15 \\sqrt{2}$"
      ],
      "text/plain": [
       "-67/4 + 15*sqrt(2)"
      ]
     },
     "execution_count": 33,
     "metadata": {},
     "output_type": "execute_result"
    }
   ],
   "source": [
    "# Adding up the three line integrals\n",
    "I = I1 + I2 + I3\n",
    "print('I  ≈', sp.N(I, 5) )\n",
    "I"
   ]
  },
  {
   "cell_type": "markdown",
   "id": "52c346d3",
   "metadata": {},
   "source": [
    "=========================================================================================================================\n",
    "\n",
    "**Problem 8.** Evaluate $\\displaystyle \\int\\limits_{C}{y^3 - x^2}\\,ds\\,\\,$for each of the following curves.\n",
    "\n",
    "**(a)** See the picture below "
   ]
  },
  {
   "attachments": {
    "image.png": {
     "image/png": "[encoded data removed]"
    }
   },
   "cell_type": "markdown",
   "id": "976393d9",
   "metadata": {},
   "source": [
    "![image.png](attachment:image.png)"
   ]
  },
  {
   "cell_type": "code",
   "execution_count": 34,
   "id": "fac26f4f",
   "metadata": {},
   "outputs": [
    {
     "name": "stdout",
     "output_type": "stream",
     "text": [
      "I1 ≈ 342.12\n"
     ]
    },
    {
     "data": {
      "text/latex": [
       "$\\displaystyle 153 \\sqrt{5}$"
      ],
      "text/plain": [
       "153*sqrt(5)"
      ]
     },
     "execution_count": 34,
     "metadata": {},
     "output_type": "execute_result"
    }
   ],
   "source": [
    "# C1  with 'sympy.geometry Segment' \n",
    "f = C.y**3 - C.x**2                                                                    # Scalar field in CoordSys3D('C')\n",
    "C1 = Segment((3, 6), (0, 0))                                                           # 2D line segment\n",
    "I1 = vector_integrate(f, C1)                                                         \n",
    "print('I1 ≈', sp.N(I1, 5))                                                             # 5 digit approximation   \n",
    "I1       "
   ]
  },
  {
   "cell_type": "code",
   "execution_count": 35,
   "id": "f71f19d9",
   "metadata": {},
   "outputs": [
    {
     "name": "stdout",
     "output_type": "stream",
     "text": [
      "I2 ≈ -382.37\n"
     ]
    },
    {
     "data": {
      "text/latex": [
       "$\\displaystyle - 171 \\sqrt{5}$"
      ],
      "text/plain": [
       "-171*sqrt(5)"
      ]
     },
     "execution_count": 35,
     "metadata": {},
     "output_type": "execute_result"
    }
   ],
   "source": [
    "# C2  with 'sympy.geometry Segment' \n",
    "f = C.y**3 - C.x**2                                                                    # Scalar field in CoordSys3D('C')\n",
    "C2 = Segment((0, 0), (3, -6))                                                          # 2D line segment\n",
    "I2 = vector_integrate(f, C2)                                                           \n",
    "print('I2 ≈', sp.N(I2, 5))                                                             # 5 digit approximation   \n",
    "I2       "
   ]
  },
  {
   "cell_type": "code",
   "execution_count": 36,
   "id": "3945cb8d",
   "metadata": {},
   "outputs": [
    {
     "name": "stdout",
     "output_type": "stream",
     "text": [
      "I ≈ -40.249\n"
     ]
    },
    {
     "data": {
      "text/latex": [
       "$\\displaystyle - 18 \\sqrt{5}$"
      ],
      "text/plain": [
       "-18*sqrt(5)"
      ]
     },
     "execution_count": 36,
     "metadata": {},
     "output_type": "execute_result"
    }
   ],
   "source": [
    "# The line integral along combined path of C1 and C2\n",
    "I = I1 + I2\n",
    "print('I ≈', sp.N(I, 5))   \n",
    "I"
   ]
  },
  {
   "attachments": {
    "image.png": {
     "image/png": "[encoded data removed]"
    }
   },
   "cell_type": "markdown",
   "id": "17b397b7",
   "metadata": {},
   "source": [
    "**(b)**  As shown directly from the point (3, 6) to (3, -6)\n",
    "\n",
    "![image.png](attachment:image.png)"
   ]
  },
  {
   "cell_type": "code",
   "execution_count": 37,
   "id": "9150dc39",
   "metadata": {},
   "outputs": [
    {
     "name": "stdout",
     "output_type": "stream",
     "text": [
      "I3 ≈ -108.00\n"
     ]
    },
    {
     "data": {
      "text/latex": [
       "$\\displaystyle -108$"
      ],
      "text/plain": [
       "-108"
      ]
     },
     "execution_count": 37,
     "metadata": {},
     "output_type": "execute_result"
    }
   ],
   "source": [
    "# C3:  \n",
    "f = C.y**3 - C.x**2                                                                    # Scalar field in CoordSys3D('C')\n",
    "C3 = Segment((3, 6), (3, -6))                                                          # 2D line segment\n",
    "I3 = vector_integrate(f, C3)                                                           \n",
    "print('I3 ≈', sp.N(I3, 5))                                                             # 5 digit approximation   \n",
    "I3       "
   ]
  },
  {
   "cell_type": "markdown",
   "id": "94911758",
   "metadata": {},
   "source": [
    "=========================================================================================================================\n",
    "\n",
    "**Problem 9.** Evaluate $\\displaystyle \\int\\limits_{C}{4x^2}\\,ds\\,\\,$ for each of the following curves.\n",
    "\n",
    "**(a)** See the picture below \n",
    "\n"
   ]
  },
  {
   "attachments": {
    "image.png": {
     "image/png": "[encoded data removed]"
    }
   },
   "cell_type": "markdown",
   "id": "ed9fdbcf",
   "metadata": {},
   "source": [
    "![image.png](attachment:image.png)"
   ]
  },
  {
   "cell_type": "code",
   "execution_count": 38,
   "id": "c9cddbb3",
   "metadata": {},
   "outputs": [
    {
     "data": {
      "text/latex": [
       "$\\displaystyle \\sqrt{\\left|{\\frac{d}{d t} x{\\left(t \\right)}}\\right|^{2} + \\left|{\\frac{d}{d t} y{\\left(t \\right)}}\\right|^{2} + \\left|{\\frac{d}{d t} z{\\left(t \\right)}}\\right|^{2}} f{\\left(x{\\left(t \\right)},y{\\left(t \\right)},z{\\left(t \\right)} \\right)}$"
      ],
      "text/plain": [
       "sqrt(Abs(Derivative(x(t), t))**2 + Abs(Derivative(y(t), t))**2 + Abs(Derivative(z(t), t))**2)*f(x(t), y(t), z(t))"
      ]
     },
     "execution_count": 38,
     "metadata": {},
     "output_type": "execute_result"
    }
   ],
   "source": [
    "# The framework \n",
    "t = sp.symbols('t', real=True)                                                 # Parameter variable\n",
    "x, y, z, f = sp.symbols('x y z f', cls=sp.Function, real=True)\n",
    "x = x(t)\n",
    "y = y(t)\n",
    "z = z(t)\n",
    "r = sp.Matrix([x, y, z])                                                       # Position vector to the points on the curve\n",
    "f = f(x,y,z)                                                                   # Scalar field\n",
    "integrand = f*sp.diff(r,t).norm()                                              # From the definition of line integral\n",
    "integrand"
   ]
  },
  {
   "cell_type": "code",
   "execution_count": 39,
   "id": "13af32c9",
   "metadata": {},
   "outputs": [
    {
     "name": "stdout",
     "output_type": "stream",
     "text": [
      " Ia ≈ 25.133\n"
     ]
    },
    {
     "data": {
      "text/latex": [
       "$\\displaystyle 8 \\pi$"
      ],
      "text/plain": [
       "8*pi"
      ]
     },
     "execution_count": 39,
     "metadata": {},
     "output_type": "execute_result"
    }
   ],
   "source": [
    "# The scalar field f and the path C in parameter form are placed in the integrand\n",
    "integrand_a = integrand.subs([(f, 4*x**2),\n",
    "                             (x, 2*cos(t)),\n",
    "                             (y, 2*sin(t)),\n",
    "                             (z, 0)]).doit().simplify()\n",
    "\n",
    "Ia = sp.integrate(integrand_a, (t,  0, pi/2,))                                        # Integration with SymPy\n",
    "print(' Ia ≈', sp.N(Ia, 5))                                                           # 5 digit approximation \n",
    "Ia"
   ]
  },
  {
   "attachments": {
    "image.png": {
     "image/png": "[encoded data removed]"
    }
   },
   "cell_type": "markdown",
   "id": "8b343ee4",
   "metadata": {},
   "source": [
    "**(b)** See the picture below \n",
    "\n",
    "![image.png](attachment:image.png)"
   ]
  },
  {
   "cell_type": "code",
   "execution_count": 40,
   "id": "eb9a3716",
   "metadata": {},
   "outputs": [
    {
     "name": "stdout",
     "output_type": "stream",
     "text": [
      "Ib ≈ 15.085\n"
     ]
    },
    {
     "data": {
      "text/latex": [
       "$\\displaystyle \\frac{32 \\sqrt{2}}{3}$"
      ],
      "text/plain": [
       "32*sqrt(2)/3"
      ]
     },
     "execution_count": 40,
     "metadata": {},
     "output_type": "execute_result"
    }
   ],
   "source": [
    "# With 'sympy.geometry Segment' \n",
    "f = 4*C.x**2                                                                        # Scalar field in CoordSys3D('C')\n",
    "Cb = Segment((0, 2), (2, 0))                                                        # 2D line segment\n",
    "Ib = vector_integrate(f, Cb)                                                        # Line integral \n",
    "print('Ib ≈', sp.N(Ib, 5))                                                          # 5 digit approximation   \n",
    "Ib       "
   ]
  },
  {
   "cell_type": "markdown",
   "id": "2d101ada",
   "metadata": {},
   "source": [
    "=========================================================================================================================\n",
    "\n",
    "**Problem 10.** Evaluate $\\displaystyle \\int\\limits_{C}{2x^3}\\,ds\\,\\,$ for each of the following curves.\n",
    "\n",
    "**(a)**  $\\, C$ is the portion  $y = x^3$ from $x = -1$ to $x = 2$.\n",
    "\n"
   ]
  },
  {
   "attachments": {
    "image.png": {
     "image/png": "[encoded data removed]"
    }
   },
   "cell_type": "markdown",
   "id": "a0850aeb",
   "metadata": {},
   "source": [
    "![image.png](attachment:image.png)"
   ]
  },
  {
   "cell_type": "code",
   "execution_count": 41,
   "id": "4f7968dd",
   "metadata": {},
   "outputs": [
    {
     "data": {
      "text/latex": [
       "$\\displaystyle \\sqrt{\\left|{\\frac{d}{d t} x{\\left(t \\right)}}\\right|^{2} + \\left|{\\frac{d}{d t} y{\\left(t \\right)}}\\right|^{2} + \\left|{\\frac{d}{d t} z{\\left(t \\right)}}\\right|^{2}} f{\\left(x{\\left(t \\right)},y{\\left(t \\right)},z{\\left(t \\right)} \\right)}$"
      ],
      "text/plain": [
       "sqrt(Abs(Derivative(x(t), t))**2 + Abs(Derivative(y(t), t))**2 + Abs(Derivative(z(t), t))**2)*f(x(t), y(t), z(t))"
      ]
     },
     "execution_count": 41,
     "metadata": {},
     "output_type": "execute_result"
    }
   ],
   "source": [
    "# The framework \n",
    "t = sp.symbols('t', real=True)                                                 # Parameter variable\n",
    "x, y, z, f = sp.symbols('x y z f', cls=sp.Function, real=True)\n",
    "x = x(t)\n",
    "y = y(t)\n",
    "z = z(t)\n",
    "r = sp.Matrix([x, y, z])                                                       # Position vector to the points on the curve\n",
    "f = f(x,y,z)                                                                   # Scalar field\n",
    "integrand = f*sp.diff(r,t).norm()                                              # From the definition of line integral\n",
    "integrand"
   ]
  },
  {
   "cell_type": "code",
   "execution_count": 42,
   "id": "2b1bcb1b",
   "metadata": {},
   "outputs": [
    {
     "name": "stdout",
     "output_type": "stream",
     "text": [
      "Ia ≈ 63.4966\n"
     ]
    }
   ],
   "source": [
    "# The scalar field f and the path C in parameter form are placed in the integrand\n",
    "integrand_a= integrand.subs([(f, 2*x**3),\n",
    "                             (x, t),\n",
    "                             (y, t**3),\n",
    "                             (z, 0)]).doit().simplify()\n",
    "Ia = sp.integrate(integrand_a, (t, -1, 2))                                         # Integration with SymPy\n",
    "print('Ia ≈', sp.N(Ia, 6))                                                         # 6 digit approximation   "
   ]
  },
  {
   "cell_type": "code",
   "execution_count": 43,
   "id": "09dcb14b",
   "metadata": {},
   "outputs": [
    {
     "name": "stdout",
     "output_type": "stream",
     "text": [
      "Ia = 63.49661\n"
     ]
    }
   ],
   "source": [
    "#a) With 'Curve'.    Parameterization x = t,  y = t^3   (no need for 'FRAMEWORK')\n",
    "f = 2*t**3                                                                         # Scalar field need to be parameterized\n",
    "Ca = Curve((t, t**3), (t, -1, 2))                                                  # Parameterized 2D curve\n",
    "Ia = sp.N(vector_integrate(f, Ca ), 7)        \n",
    "print('Ia =', Ia)"
   ]
  },
  {
   "cell_type": "markdown",
   "id": "7be36346",
   "metadata": {},
   "source": [
    "**(b)** Evaluate the same curve $C$ in the opposite direction, from $x = 2$ to $x = -1$.\n",
    "\n",
    "Here we just need to change the parameterization of the curve by setting $x = -t$ and the integration from $t = -2$ to  $ t = 1.$ \n",
    "In this way as $t$ increases $x$ will go from $x = 2$ to $x = − 1$.\n"
   ]
  },
  {
   "cell_type": "code",
   "execution_count": 44,
   "id": "4ed25431",
   "metadata": {},
   "outputs": [
    {
     "name": "stdout",
     "output_type": "stream",
     "text": [
      "Ib ≈ Integral(sqrt(9*t**4 + 1)*f(-t, -t**3, 0), (t, -2, 1))\n",
      "Exactly the same value as the line integral from the part (a) as it should be.\n"
     ]
    }
   ],
   "source": [
    "# The scalar field f and the path C in parameter form are placed in the integrand\n",
    "integrand_b= integrand.subs([(f, 2*x**3),\n",
    "                             (x, -t),\n",
    "                             (y, (-t)**3),\n",
    "                             (z, 0)]).doit().simplify()\n",
    "Ib = sp.integrate(integrand_b, (t, -2, 1))                                               # Integration with SymPy\n",
    "print('Ib ≈', sp.N(Ib, 6))                                                               # 6 digit approximation  \n",
    "print('Exactly the same value as the line integral from the part (a) as it should be.')"
   ]
  },
  {
   "cell_type": "markdown",
   "id": "f7c79e4d",
   "metadata": {},
   "source": [
    "=================================\n",
    "\n",
    "Codes: Heikki Miettinen 2024\n"
   ]
  }
 ],
 "metadata": {
  "kernelspec": {
   "display_name": "Python 3 (ipykernel)",
   "language": "python",
   "name": "python3"
  },
  "language_info": {
   "codemirror_mode": {
    "name": "ipython",
    "version": 3
   },
   "file_extension": ".py",
   "mimetype": "text/x-python",
   "name": "python",
   "nbconvert_exporter": "python",
   "pygments_lexer": "ipython3",
   "version": "3.11.5"
  }
 },
 "nbformat": 4,
 "nbformat_minor": 5
}
