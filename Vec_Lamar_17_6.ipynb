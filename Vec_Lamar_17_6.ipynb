{
 "cells": [
  {
   "cell_type": "markdown",
   "id": "5b2b9706",
   "metadata": {},
   "source": [
    "========================================================================================================================\n",
    "\n",
    "## Divergence Theorem ##\n",
    " \n",
    " **With Python SymPy**\n",
    " \n",
    " The next Examples and Practice Problems and their images come from **Paul Dawkins** excellent lecture \n",
    "notes: http://tutorial.math.lamar.edu/index.aspx, where you can the find the underlying theory of calculations and the detailed 'paper and pen' solutions. To use this material you must read *'Terms of Use'* from https://tutorial.math.lamar.edu/Terms.aspx. \n",
    "\n",
    "========================================================================================================================"
   ]
  },
  {
   "cell_type": "markdown",
   "id": "6350572c",
   "metadata": {},
   "source": [
    "**Divergence Theorem.** Let *E* be a simple solid region and *S* is the boundary surface of *E* with positive orientation. Let $\\vec{F}$ be a vector field whose components have continuous first order partial derivatives. Then,\n",
    "\n",
    "&nbsp; &nbsp; &nbsp; &nbsp; &nbsp; &nbsp; &nbsp; &nbsp; &nbsp; &nbsp; &nbsp; &nbsp; &nbsp; &nbsp; $\\iint\\limits_{S}{{\\vec F\\centerdot d\\vec S}} = \\iiint\\limits_{E}{{{\\mathop{ \\rm \\nabla \\cdot}\\nolimits} \\vec F\\,dV}}$\n",
    "\n",
    "(Watch YouTube: Dr. Trefor Bazett, Divergence Theorem) \n",
    "\n",
    "Here in all solutions we use SymPy's **ParametricRegion** method.\n",
    "\n",
    "=========================================================================================================================\n"
   ]
  },
  {
   "cell_type": "code",
   "execution_count": 1,
   "id": "7fa77b40",
   "metadata": {},
   "outputs": [],
   "source": [
    "import sympy as sp\n",
    "from sympy import sin, cos, exp, pi, symbols\n",
    "from sympy.vector import CoordSys3D, ParametricRegion, Del, gradient, divergence, vector_integrate\n",
    "                                     \n",
    "from sympy.abc import r, x, y, z, t, theta, phi\n",
    "C = CoordSys3D('C')"
   ]
  },
  {
   "cell_type": "markdown",
   "id": "3526e4a0",
   "metadata": {},
   "source": [
    "========================================================================================================================\n",
    "\n",
    "**SymPy Example. Verifying Divergence Theorem** *[SymPy 1.12 doc]*"
   ]
  },
  {
   "cell_type": "code",
   "execution_count": 2,
   "id": "ea8af01d",
   "metadata": {},
   "outputs": [
    {
     "data": {
      "text/latex": [
       "$\\displaystyle \\frac{12288 \\pi}{5}$"
      ],
      "text/plain": [
       "12288*pi/5"
      ]
     },
     "execution_count": 2,
     "metadata": {},
     "output_type": "execute_result"
    }
   ],
   "source": [
    "# LEFT SIDE: The surface integral across the sphere\n",
    "\n",
    "field = C.x**3*C.i + C.y**3*C.j + C.z**3*C.k                          # Vectorfield in CoordSys3D('C').  Obs. C.x, C.y, C.z!\n",
    "\n",
    "sphere = ParametricRegion((4*sin(phi)*cos(theta),4*sin(phi)*sin(theta), 4*cos(phi)),            # 2D surface\n",
    "                        (phi, 0, pi), (theta, 0, 2*pi))                                         # two parameters for surface\n",
    "vector_integrate(field, sphere)"
   ]
  },
  {
   "cell_type": "code",
   "execution_count": 3,
   "id": "2f9a5ea5",
   "metadata": {},
   "outputs": [
    {
     "data": {
      "text/latex": [
       "$\\displaystyle \\frac{12288 \\pi}{5}$"
      ],
      "text/plain": [
       "12288*pi/5"
      ]
     },
     "execution_count": 3,
     "metadata": {},
     "output_type": "execute_result"
    }
   ],
   "source": [
    "# RIGHT SIDE: The volume intgral across the sphere\n",
    "\n",
    "solidsphere = ParametricRegion((r*sin(phi)*cos(theta),r*sin(phi)*sin(theta), r*cos(phi)),   # 3D solid\n",
    "    (r, 0, 4),(phi, 0, pi), (theta, 0, 2*pi))                                               # three variables for solid 3D\n",
    "vector_integrate(divergence(field), solidsphere)"
   ]
  },
  {
   "cell_type": "markdown",
   "id": "f8f9e5ba",
   "metadata": {},
   "source": [
    "=======================================================================================================================\n",
    "\n",
    "**Example 1.** Use the divergence theorem to evaluate \n",
    "$\\displaystyle \\iint\\limits_{S}{{\\vec F\\centerdot d\\vec S}}$ where $\\vec F = xy\\,\\vec i - \\frac{1}{2}{y^2}\\,\\vec j + z\\,\\vec k$\n",
    " and the surface consists of the three surfaces, $ z = 4 - 3{x^2} - 3{y^2}$, $1 \\le z \\le 4$     on the top, ${x^2} + {y^2} = 1$, $0 \\le z \\le 1$ on the sides and *z = 0* on the bottom.\n"
   ]
  },
  {
   "attachments": {
    "im_5g_prbl1.png": {
     "image/png": "[encoded data removed]"
    }
   },
   "cell_type": "markdown",
   "id": "cf170f1e",
   "metadata": {},
   "source": [
    "![im_5g_prbl1.png](attachment:im_5g_prbl1.png)\n",
    "\n",
    "**Solution 1.** We calculate the integral $ \\iiint\\limits_{E}{{{\\mathop{\\rm div}\\nolimits} \\vec F\\,dV}}$  in the cylindrical coordinates, where $z= 4-3r^2$  &nbsp;  $({x^2} + {y^2} = r )$"
   ]
  },
  {
   "cell_type": "code",
   "execution_count": 4,
   "id": "6d91ae33",
   "metadata": {},
   "outputs": [
    {
     "data": {
      "text/latex": [
       "$\\displaystyle \\frac{5 \\pi}{2}$"
      ],
      "text/plain": [
       "5*pi/2"
      ]
     },
     "execution_count": 4,
     "metadata": {},
     "output_type": "execute_result"
    }
   ],
   "source": [
    "F =  C.x*C.y*C.i - (1/2)*C.y**2*C.j + C.z*C.k                                          # Vectorfield in CoordSys3D('C') \n",
    "divF = divergence(F)\n",
    "\n",
    "# 3D region (volume) in cylindrical coordinates: <x,y,z> parametrized by r, theta and z. (three variables for volume)\n",
    "vol = ParametricRegion((r*cos(theta), r*sin(theta), z),\n",
    "                       (z, 0, 4-3*r**2), (r, 0, 1), (theta, 0, 2*pi))                  # the limits \n",
    "vector_integrate(divF, vol)                                                            # Volume integral"
   ]
  },
  {
   "cell_type": "markdown",
   "id": "5030f25f",
   "metadata": {},
   "source": [
    "===========================\n",
    "\n",
    "**Example 1. solution 2.** SymPy gives us an easy way to calculate the surface integral $\\iint\\limits_{S}{{\\vec F\\centerdot d\\vec S}}$ directly. The integration is performed in the cylindrical coordinate system."
   ]
  },
  {
   "cell_type": "code",
   "execution_count": 5,
   "id": "916eb139",
   "metadata": {},
   "outputs": [
    {
     "data": {
      "text/latex": [
       "$\\displaystyle 2.5 \\pi$"
      ],
      "text/plain": [
       "2.5*pi"
      ]
     },
     "execution_count": 5,
     "metadata": {},
     "output_type": "execute_result"
    }
   ],
   "source": [
    "F =  C.x*C.y*C.i - (1/2)*C.y**2*C.j + C.z*C.k                                          # Obs. C.x, C.y, C.z !!\n",
    "\n",
    "# 2D region in cylindrical coordinates: <x,y,z> parametrized by r and theta. (two variables for surface)\n",
    "surf = ParametricRegion((r*cos(theta), r*sin(theta), 4-3*r**2),\n",
    "                       (r, 0, 1), (theta, 0, 2*pi))                                    # the limits \n",
    "vector_integrate(F, surf)                                                              # Surface integral"
   ]
  },
  {
   "cell_type": "markdown",
   "id": "4b95af7e",
   "metadata": {},
   "source": [
    "=====================================================================================================================\n",
    "\n",
    "**Problem 1.**  Use the Divergence Theorem to evaluate $\\displaystyle \\iint\\limits_{S}{{\\vec F\\centerdot d\\vec S}} \\,$ where  \n",
    "$\\vec F = y{x^2}\\,\\vec i + \\left( {x{y^2} - 3{z^4}} \\right)\\,\\vec j + \\left( {{x^3} + {y^2}} \\right) \\,\\vec k $ and $S$ is the surface of the sphere of radius 4 with $ z ≤ 0 $ and $ y ≤ 0 $. Note that all three surfaces of this solid are included in $S$.\n",
    "\n",
    " **Solution.** We calculate the integral $\\iiint\\limits_{E}{{{\\mathop{ \\rm \\nabla \\cdot}\\nolimits} \\vec F\\,dV}}$  in the spherical coordinate system.\n"
   ]
  },
  {
   "attachments": {
    "im_5g_prbl2.gif": {
     "image/gif": "[encoded data removed]"
    }
   },
   "cell_type": "markdown",
   "id": "90a89c57",
   "metadata": {},
   "source": [
    "![im_5g_prbl2.gif](attachment:im_5g_prbl2.gif)"
   ]
  },
  {
   "cell_type": "code",
   "execution_count": 6,
   "id": "ee13367d",
   "metadata": {},
   "outputs": [
    {
     "data": {
      "text/latex": [
       "$\\displaystyle 0$"
      ],
      "text/plain": [
       "0"
      ]
     },
     "execution_count": 6,
     "metadata": {},
     "output_type": "execute_result"
    }
   ],
   "source": [
    "F = C.y*C.x**2*C.i +(C.x*C.y**2 - 3*C.z**4)*C.j + (C.x**3 + C.y**2)*C.k  \n",
    "divF = divergence (F)                                                                 # Or: Del().dot(F).doit()\n",
    "\n",
    "# 3D solid region in spherical coordinates: ( <x,y,z> -> <r, theta, phi>), (limits) \n",
    "E = ParametricRegion((r*sin(theta)*cos(phi), r*sin(theta)*sin(phi), r*cos(theta)),\n",
    "                       (r, 0, 4),(theta, pi/2, pi), (phi, pi, 2*pi))                  # Three variables for solid 3D\n",
    "\n",
    "vector_integrate(divF, E)                                                             # Volume integral"
   ]
  },
  {
   "cell_type": "markdown",
   "id": "88536f9f",
   "metadata": {},
   "source": [
    "In this problem, the use of the Divergence Theorem was useful, as the surface integral would have to be calculated from three different surfaces and use both a spherical coordinate system and two different polar coordinate systems with their own boundaries. "
   ]
  },
  {
   "cell_type": "markdown",
   "id": "aa287205",
   "metadata": {},
   "source": [
    "===============================================================================================\n",
    "\n",
    "**Problem 2.** Use the Divergence Theorem to evaluate $\\displaystyle \\iint\\limits_{S}{{\\vec F\\centerdot d\\vec S}} \\,$ where  $\\vec F = sin(\\pi x)\\,\\vec i + \\left( {z{y^3}} \\right)\\,\\vec j + \\left( {{z^2} + {4x}} \\right) \\,\\vec k \\, $ and $S$ is the surface of the box with $- 1 \\le x \\le 2$, &nbsp; $ 0 \\le y \\le 1$ and $1 \\le z \\le 4$ Note that all six sides of the box are included in $S$. \n"
   ]
  },
  {
   "attachments": {
    "im_5g_prbl3.gif": {
     "image/gif": "[encoded data removed]"
    }
   },
   "cell_type": "markdown",
   "id": "94d3f6ae",
   "metadata": {},
   "source": [
    "![im_5g_prbl3.gif](attachment:im_5g_prbl3.gif)"
   ]
  },
  {
   "cell_type": "markdown",
   "id": "96678f66",
   "metadata": {},
   "source": [
    " **Solution.** Again, we'd have a lot of surfaces to integrate. So it's helpful to use the Divergence Theorem option to convert it to a volume integral $\\iiint\\limits_{E}{{{\\mathop{ \\rm \\nabla \\cdot}\\nolimits} \\vec F\\,dV}}.$ Here the integration is of course performed in the standard Cartesian coordinates.\n"
   ]
  },
  {
   "cell_type": "code",
   "execution_count": 7,
   "id": "4b78a193",
   "metadata": {},
   "outputs": [
    {
     "data": {
      "text/latex": [
       "$\\displaystyle \\frac{135}{2}$"
      ],
      "text/plain": [
       "135/2"
      ]
     },
     "execution_count": 7,
     "metadata": {},
     "output_type": "execute_result"
    }
   ],
   "source": [
    "F = sp.sin(pi*C.x)*C.i +(C.z*C.y**3 )*C.j + (C.z**2 + 4*C.x**2)*C.k                 # Vector field \n",
    "divF = Del().dot(F).doit()                                                          # Or: divergence(F)\n",
    "E = ParametricRegion((x, y, z),  (x, -1, 2), (y, 0, 1), (z, 1, 4))                  # 3D region\n",
    "vector_integrate(divF, E)                                                           # Volume integral"
   ]
  },
  {
   "cell_type": "markdown",
   "id": "3d015119",
   "metadata": {},
   "source": [
    "============================================================================================\n",
    "\n",
    "**Problem 3.**  Use the Divergence Theorem to evaluate $\\displaystyle \\iint\\limits_{S}{{\\vec F\\centerdot d\\vec S}} \\, \\,$ where \n",
    "$\\vec F = 2xz\\vec i + \\left( {1 - 4x{y^2}} \\right)\\vec j + \\left( {2z - {z^2}} \\right)\\vec k \\, \\, $  and S is the surface of the solid bounded by $z = 6 - 2{x^2} - 2{y^2}$ and the plane \n",
    "$z = 0$. Note that both of the surfaces of this solid included in $S$."
   ]
  },
  {
   "attachments": {
    "im_5f_prbl4.gif": {
     "image/gif": "[encoded data removed]"
    }
   },
   "cell_type": "markdown",
   "id": "0e1777db",
   "metadata": {},
   "source": [
    "![im_5f_prbl4.gif](attachment:im_5f_prbl4.gif)"
   ]
  },
  {
   "cell_type": "markdown",
   "id": "401fe1dc",
   "metadata": {},
   "source": [
    "**Solution.** We calculate the integral $ \\iiint\\limits_{E}{{{\\mathop{ \\rm \\nabla \\cdot}\\nolimits} \\vec F\\,dV}}$ in the cylindrical coordinate system, where $ z = 6 - 2r^2$.  In this task too, it is economical to calculate one volume integral instead of two surface integrals."
   ]
  },
  {
   "cell_type": "code",
   "execution_count": 8,
   "id": "c1b00e1f",
   "metadata": {},
   "outputs": [],
   "source": [
    "from sympy import cos, sin, pi\n",
    "from sympy.vector import CoordSys3D, ParametricRegion, ParametricIntegral\n",
    "from sympy.abc import r, t, theta, phi\n",
    "C = CoordSys3D('C')"
   ]
  },
  {
   "cell_type": "code",
   "execution_count": 9,
   "id": "8f09788e",
   "metadata": {},
   "outputs": [
    {
     "data": {
      "text/latex": [
       "$\\displaystyle 18 \\pi$"
      ],
      "text/plain": [
       "18*pi"
      ]
     },
     "execution_count": 9,
     "metadata": {},
     "output_type": "execute_result"
    }
   ],
   "source": [
    "F = 2*C.x*C.z*C.i + (1 - 4*C.x*C.y**2)*C.j + (2*C.z - C.z**2)*C.k              # Vectorfield in CoordSys3D('C')\n",
    "divF = divergence (F)                                                          # Or: Del().dot(F).doit()\n",
    "\n",
    "# Solid 3D region in cylindrical coordinates:\n",
    "E = ParametricRegion((r*cos(theta), r*sin(theta), z),\n",
    "                     (z, 0, 6-2*r**2), (r, 0, sp.sqrt(3)), (theta, 0, 2*pi))\n",
    "\n",
    "vector_integrate(divF, E)                                                      # As well: ParametricIntegral(divF, E).doit()"
   ]
  },
  {
   "cell_type": "markdown",
   "id": "e0278901",
   "metadata": {},
   "source": [
    "======================\n",
    "\n",
    "Code: Heikki Miettinen 2024"
   ]
  },
  {
   "cell_type": "code",
   "execution_count": null,
   "id": "39cac126",
   "metadata": {},
   "outputs": [],
   "source": []
  }
 ],
 "metadata": {
  "kernelspec": {
   "display_name": "Python 3 (ipykernel)",
   "language": "python",
   "name": "python3"
  },
  "language_info": {
   "codemirror_mode": {
    "name": "ipython",
    "version": 3
   },
   "file_extension": ".py",
   "mimetype": "text/x-python",
   "name": "python",
   "nbconvert_exporter": "python",
   "pygments_lexer": "ipython3",
   "version": "3.11.5"
  }
 },
 "nbformat": 4,
 "nbformat_minor": 5
}
