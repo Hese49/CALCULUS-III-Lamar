{
 "cells": [
  {
   "cell_type": "markdown",
   "id": "9046c8b8",
   "metadata": {},
   "source": [
    "=========================================================================================================================\n",
    "\n",
    "## Surface Integrals of Vector Fields ##\n",
    "\n",
    "**With Python SymPy**\n",
    "\n",
    "The next Examples and Practice Problems and their images come from **Paul Dawkins** excellent lecture \n",
    "notes: http://tutorial.math.lamar.edu/index.aspx, where you can the find the underlying theory of calculations and the detailed 'paper and pen' solutions. To use this material you must read *'Terms of Use'* from https://tutorial.math.lamar.edu/Terms.aspx. \n",
    "\n",
    "====================================================================================================================\n",
    "\n",
    " **The surface integral** of a **vector function** $\\vec{F}(\\vec{r})$  is given by\n",
    " $$  \\iint_S \\vec{F} \\cdot \\vec{dS}  = \\iint_S \\vec{F} \\cdot \\vec{n } dS =  \n",
    "\\iint_S \\vec{F}(\\vec{r}(u,v)) \\cdot \\left(\\frac{d\\vec{r}}{du} \\times \\frac{d\\vec{r}} {dv}\\right) du dv, $$\n",
    " \n",
    "where *u* and *v* are the surface variables.  This is also know as the **flux** of the vector field $\\vec{F}$ across the surface $S$.\n",
    "\n",
    "Note that we must write the unit vector in the **correct orientation** to meet the requirements of the problem (see theory).\n",
    "\n",
    "=====================================================================================================================\n",
    "\n",
    "In the following solutions we see three different formalisms/methods: **&nbsp; Sympy Matrix,  &nbsp;  Vectors in\n",
    "CoordSys3D('C') &nbsp; and &nbsp; ParametricRegion.**\n",
    "\n",
    "\n"
   ]
  },
  {
   "cell_type": "code",
   "execution_count": 1,
   "id": "79c7a9b1",
   "metadata": {},
   "outputs": [],
   "source": [
    "# INIT\n",
    "import numpy as np\n",
    "import sympy as sp\n",
    "x, y, z, G = sp.symbols('x y z G', real=True)\n",
    "from sympy import sin, cos, exp, pi, symbols\n",
    "from sympy.abc import r, x, y, z, theta, phi\n",
    "from sympy.vector import CoordSys3D, ParametricRegion,  vector_integrate\n",
    "from sympy.vector import *\n",
    "C = CoordSys3D('C')\n",
    "#import matplotlib.pyplot as plt\n",
    "#from scipy.integrate import quad\n",
    "#from scipy.integrate import quad_vec\n",
    "\n",
    "#x, y, z = sp.symbols('x y z')\n",
    "#x, y, z, c1, c2, c3, t, p = sp.symbols('x y z c1 c2, c3 t  p')\n"
   ]
  },
  {
   "cell_type": "markdown",
   "id": "69ef1722",
   "metadata": {},
   "source": [
    "**Example 1.** Evaluate   $ \\iint_{S_1} \\vec{F} \\cdot \\vec{dS} $   where  $ \\vec{F} = y\\vec{j} - z\\vec{k} $   and $S_1$  is the surface given by the paraboloid  $y = x^2 + z^2 $, &nbsp; $   0 ≤ y ≤ 1 $   and the disk $S_2$:   $ x^2 +z^2 ≤ 1 $ at $y = 1.$      Assume that S has positive orientation."
   ]
  },
  {
   "attachments": {
    "im_5e_Ex1.png": {
     "image/png": "[encoded data removed]"
    }
   },
   "cell_type": "markdown",
   "id": "94b633d4",
   "metadata": {},
   "source": [
    "![im_5e_Ex1.png](attachment:im_5e_Ex1.png)"
   ]
  },
  {
   "cell_type": "markdown",
   "id": "be1ccfde",
   "metadata": {},
   "source": [
    "**S1: The Paraboloid**\n",
    "\n",
    "**Ex1. solution 1  for $S_1$: Using matrix representation**"
   ]
  },
  {
   "cell_type": "code",
   "execution_count": 2,
   "id": "c097a590",
   "metadata": {},
   "outputs": [
    {
     "name": "stdout",
     "output_type": "stream",
     "text": [
      "The flux across S1 is\n"
     ]
    },
    {
     "data": {
      "text/latex": [
       "$\\displaystyle - \\pi$"
      ],
      "text/plain": [
       "-pi"
      ]
     },
     "execution_count": 2,
     "metadata": {},
     "output_type": "execute_result"
    }
   ],
   "source": [
    "# INPUT\n",
    "# Select the 3D coordinate system to use; Cylindrical, Spherical, Parabolic, ...):\n",
    "# Define the variables and functions for your coordinate system:\n",
    "rho, the = sp.symbols(r'\\rho \\theta', pos=True, real=True)              # variables\n",
    "x, y, z, = sp.symbols('x y z ', cls=sp.Function, real=True)             # functions\n",
    "\n",
    "# Define 3D coordinate transformations from <x,y,z> (x and z are transformed to polar coordinates in xz-plane)\n",
    "# In the flux formula we have chosen the surface parameters u and v to be r and theta.\n",
    "x = rho*sp.cos(the)\n",
    "y = rho**2\n",
    "z = rho*sp.sin(the)\n",
    "\n",
    "# Set the limits of the surface parameters:\n",
    "lim = [(the, 0, 2*sp.pi), (rho, 0, 1)]  \n",
    "\n",
    "# Set the vectorfield <x,y,z) coordinate functions for field F (Fluid velocity, electric field, magnetic field, ...)\n",
    "F = sp.Matrix([0, y, -z])      \n",
    "#...................................................................................\n",
    "\n",
    "# CALCULATE\n",
    "r = sp.Matrix([x, y, z])                                                # Position vector to the surface points \n",
    "integrand = F.dot(sp.diff(r,rho).cross(sp.diff(r,the))).simplify()      # F*(dr/dϕ)x(dr/dφ) (* = dot)\n",
    "integrand\n",
    "\n",
    "flux = sp.integrate(integrand, lim[0], lim[1] )                         # Integration with limits\n",
    "# OR  flux = vector_integrate(integrand , lim[0], lim[1])\n",
    "#....................................................................................\n",
    "# OUTPUT\n",
    "print('The flux across S1 is')\n",
    "flux "
   ]
  },
  {
   "cell_type": "markdown",
   "id": "0701ac8c",
   "metadata": {},
   "source": [
    ":::::::::::::::::::::::::::::::\n",
    "\n",
    "**Ex1. solution 2  for $S_1$: Using vector representation**"
   ]
  },
  {
   "cell_type": "code",
   "execution_count": 3,
   "id": "7314bf17",
   "metadata": {},
   "outputs": [
    {
     "name": "stdout",
     "output_type": "stream",
     "text": [
      "The flux across S1 is\n"
     ]
    },
    {
     "data": {
      "text/latex": [
       "$\\displaystyle - \\pi$"
      ],
      "text/plain": [
       "-pi"
      ]
     },
     "execution_count": 3,
     "metadata": {},
     "output_type": "execute_result"
    }
   ],
   "source": [
    "rho, the = sp.symbols( r'\\rho \\theta',  real=True)                       # variables\n",
    "x, y, z, = sp.symbols('x y z ', real=True)                               # variables\n",
    "\n",
    "r = C.x*C.i + C.y*C.j + C.z*C.k                                          # position vector\n",
    "F = C.y*C.j - C.z*C.k                                                    # vectorfield\n",
    "\n",
    "# Coordinate transformations \n",
    "r = r.subs([(C.x, rho*sp.cos(the)), (C.y, rho**2), (C.z, rho*sp.sin(the))])            \n",
    "F = F.subs([(C.x, rho*sp.cos(the)), (C.y, rho**2), (C.z, rho*sp.sin(the))])              \n",
    "             \n",
    "integrand  = F.dot(sp.diff(r,rho).cross(sp.diff(r,the))).simplify()      # F*(dr/dϕ)x(dr/dφ) (* = dot)\n",
    "lim = [(the, 0, 2*sp.pi), (rho, 0, 1)]                                   # integration limits\n",
    "\n",
    "flux = sp.integrate(integrand , lim[0], lim[1] )                         # integration with limits\n",
    "#  OR flux = vector_integrate(integrand , lim[0], lim[1])\n",
    "print('The flux across S1 is'); flux\n"
   ]
  },
  {
   "cell_type": "markdown",
   "id": "40ef6a7b",
   "metadata": {},
   "source": [
    ":::::::::::::::::::::::::::::::::::\n",
    "\n",
    "**Ex1. solution 3  for $S_1$: Using SymPy's ParametricRegion method.**"
   ]
  },
  {
   "cell_type": "code",
   "execution_count": 4,
   "id": "933f5412",
   "metadata": {},
   "outputs": [
    {
     "name": "stdout",
     "output_type": "stream",
     "text": [
      "The flux across S1 is\n"
     ]
    },
    {
     "data": {
      "text/latex": [
       "$\\displaystyle - \\pi$"
      ],
      "text/plain": [
       "-pi"
      ]
     },
     "execution_count": 4,
     "metadata": {},
     "output_type": "execute_result"
    }
   ],
   "source": [
    "from sympy import sin, cos, exp, pi, symbols\n",
    "from sympy.vector import CoordSys3D, ParametricRegion, ImplicitRegion, vector_integrate\n",
    "from sympy.abc import r, x, y, z, theta, phi\n",
    "C = CoordSys3D('C')\n",
    "\n",
    "# Area definition: Tuple to define base scalars in terms of parameters  and \n",
    "# the lower and upper bounds for integration parameters.\n",
    "S1 = ParametricRegion((r*cos(theta), r**2, r*sin(theta)),\\\n",
    "                         (r, 0, 1), (theta, 0, 2*pi))\n",
    "\n",
    "# Vector field in vector form as a parameter representation\n",
    "F =  r**2*C.j - r*sin(theta)*C.k\n",
    "\n",
    "flux = vector_integrate(F, S1)\n",
    "print('The flux across S1 is')\n",
    "flux"
   ]
  },
  {
   "cell_type": "markdown",
   "id": "8c63a8c9",
   "metadata": {},
   "source": [
    "===============================\n",
    "\n",
    "**S2:  The Cap of the Paraboloid**\n",
    "\n",
    "**Ex1. solution 1 for $S_2$: Using matrix formulation**"
   ]
  },
  {
   "cell_type": "code",
   "execution_count": 5,
   "id": "cc9861d9",
   "metadata": {},
   "outputs": [
    {
     "name": "stdout",
     "output_type": "stream",
     "text": [
      "The flux across S2 is\n"
     ]
    },
    {
     "data": {
      "text/latex": [
       "$\\displaystyle \\pi$"
      ],
      "text/plain": [
       "pi"
      ]
     },
     "execution_count": 5,
     "metadata": {},
     "output_type": "execute_result"
    }
   ],
   "source": [
    "# INPUT\n",
    "# Define 3D coordinate transformations from <x,y,z>\n",
    "# Polar coordinates at the distance 1 in y-direction:\n",
    "x = rho*sp.cos(the)                                          # ρcos(Θ)\n",
    "y = 1\n",
    "z = rho*sp.sin(the)                                          # ρsin(Θ)\n",
    "                        \n",
    "# Set the limits of the integration:\n",
    "lim = [(the, 0, 2*sp.pi), (rho, 0, 1)]  \n",
    "# Set the vectorfield (Fluid velocity, electric or magnetic field, ...)\n",
    "F = sp.Matrix([0, y, -z])      \n",
    "\n",
    "# CALCULATE\n",
    "r = sp.Matrix([x, y, z])                                      # Position vector \n",
    "integrand = F.dot(sp.diff(r,the).cross(sp.diff(r,rho)))       # F.(dr/dΘ)x(dr/dρ)     \n",
    "flux = sp.integrate(integrand, lim[0], lim[1] )               # Integration with limits\n",
    "\n",
    "# OUTPUT\n",
    "print('The flux across S2 is')\n",
    "flux "
   ]
  },
  {
   "cell_type": "markdown",
   "id": "02d27ae4",
   "metadata": {},
   "source": [
    "::::::::::::::::::::::::::::::::::::::::::\n",
    "\n",
    "**Ex1. solution 2  for $S_2$: Using vector representation**\n",
    "\n",
    "$$ Flux  = \\iint_S \\vec{F} \\cdot \\vec{n } dS $$"
   ]
  },
  {
   "cell_type": "code",
   "execution_count": 6,
   "id": "e65db73c",
   "metadata": {},
   "outputs": [],
   "source": [
    "from sympy import sin, cos, exp, pi, symbols\n",
    "from sympy.vector import CoordSys3D, ParametricRegion, ImplicitRegion, vector_integrate\n",
    "from sympy.abc import r, x, y, z, theta, phi\n",
    "C = CoordSys3D('C')"
   ]
  },
  {
   "cell_type": "code",
   "execution_count": 7,
   "id": "7003eb29",
   "metadata": {},
   "outputs": [
    {
     "data": {
      "text/latex": [
       "$\\displaystyle y$"
      ],
      "text/plain": [
       "y"
      ]
     },
     "execution_count": 7,
     "metadata": {},
     "output_type": "execute_result"
    }
   ],
   "source": [
    "n = C.j                              # In the direction of positive y-axis\n",
    "F = y*C.j - z*C.k                    # Vector field presented in CoordSys3D('C') \n",
    "Fn = F.dot(n)                        # The integrand  F.n\n",
    "Fn"
   ]
  },
  {
   "cell_type": "markdown",
   "id": "7de9ef39",
   "metadata": {},
   "source": [
    "We have $\\vec{F} \\cdot \\vec{n } = y = 1$ in the cap and the area is the area of a circle of radius 1. So the flux will be only the area of this circle and we can use *ParametricRegion function* to calculate it. "
   ]
  },
  {
   "cell_type": "code",
   "execution_count": 8,
   "id": "f088ba86",
   "metadata": {},
   "outputs": [
    {
     "name": "stdout",
     "output_type": "stream",
     "text": [
      "The flux across S2 is\n"
     ]
    },
    {
     "data": {
      "text/latex": [
       "$\\displaystyle \\pi$"
      ],
      "text/plain": [
       "pi"
      ]
     },
     "execution_count": 8,
     "metadata": {},
     "output_type": "execute_result"
    }
   ],
   "source": [
    "cap_circle = ParametricRegion((r*cos(theta), r*sin(theta)), (r, 0, 1), (theta, 0, 2*pi))\n",
    "print('The flux across S2 is')\n",
    "vector_integrate(1, cap_circle)"
   ]
  },
  {
   "cell_type": "markdown",
   "id": "44d537de",
   "metadata": {},
   "source": [
    "::::::::::::::::::::::::::::::::::::::::::\n",
    "\n",
    "**Ex1. solution 3  for $S_2$: Using SymPy's ParametricRegion method.**"
   ]
  },
  {
   "cell_type": "code",
   "execution_count": 9,
   "id": "a5c0babb",
   "metadata": {},
   "outputs": [
    {
     "name": "stdout",
     "output_type": "stream",
     "text": [
      "The flux across S2 is\n"
     ]
    },
    {
     "data": {
      "text/latex": [
       "$\\displaystyle \\pi$"
      ],
      "text/plain": [
       "pi"
      ]
     },
     "execution_count": 9,
     "metadata": {},
     "output_type": "execute_result"
    }
   ],
   "source": [
    "from sympy import sin, cos, exp, pi, symbols\n",
    "from sympy.vector import CoordSys3D, ParametricRegion, ImplicitRegion, vector_integrate\n",
    "from sympy.abc import r, x, y, z, theta, phi\n",
    "C = CoordSys3D('C')\n",
    "\n",
    "# Area definition: Tuple to define base scalars <x,y,z> in terms of parameters (r and theta) and \n",
    "# the lower and upper bounds for integration parameters.\n",
    "S2 = ParametricRegion((r*cos(theta), 1, r*sin(theta)),\\\n",
    "                        (theta, 0, 2*pi), (r, 0, 1))\n",
    "\n",
    "# Vector field in vector form as a parameter representation\n",
    "F =  C.j - r*sin(theta)*C.k                                         # CoordSys3D('C')\n",
    "flux = vector_integrate(F, S2)\n",
    "print('The flux across S2 is')\n",
    "flux"
   ]
  },
  {
   "cell_type": "markdown",
   "id": "7bad67ce",
   "metadata": {},
   "source": [
    " =============================================================================================\n",
    "\n",
    "**Example 2.** Evaluate the flux $ \\iint_S \\vec{F} \\cdot \\vec{dS} $ where $ \\vec{F} = x\\vec{i} + y\\vec{i} + z^4\\vec{k} $ and *S*, which is the upper half of the sphere \n",
    "$x^2 + y^2 + z^2 = 9 $ and the disk $x^2 + y^2 = 9$ in the plane *z = 0*. Assume that \n",
    "S has the positive orientation."
   ]
  },
  {
   "attachments": {
    "im_5e_Ex2.png": {
     "image/png": "[encoded data removed]"
    }
   },
   "cell_type": "markdown",
   "id": "49bd8e5c",
   "metadata": {},
   "source": [
    "![im_5e_Ex2.png](attachment:im_5e_Ex2.png)"
   ]
  },
  {
   "cell_type": "markdown",
   "id": "6de882f6",
   "metadata": {},
   "source": [
    "**The Semisphere $S_1$.**   We use the spherical coordinates $(\\rho, \\theta, \\phi)$ and calculate the flux from the integral\n",
    "$$ \\iint_{S_1} \\vec{F} \\cdot \\vec{dS} = \\iint_{S_1} \\vec{F} \\cdot \\vec{n } dS =\\iint_{S_1} F(\\vec{r}(u,v)) \\cdot (\\frac{d\\vec{r}}{du} \\times \\frac{d\\vec{r}}{dv})  du dv, $$ \n",
    " where $\\rho = 3$ , $u = \\theta$ and $ v = \\phi.$ \n",
    " \n",
    "**Solution 1  for $S_1$: using matrix representation**"
   ]
  },
  {
   "cell_type": "code",
   "execution_count": 10,
   "id": "9c4bbe29",
   "metadata": {},
   "outputs": [
    {
     "name": "stdout",
     "output_type": "stream",
     "text": [
      "The flux across S1 is\n"
     ]
    },
    {
     "data": {
      "text/latex": [
       "$\\displaystyle 279 \\pi$"
      ],
      "text/plain": [
       "279*pi"
      ]
     },
     "execution_count": 10,
     "metadata": {},
     "output_type": "execute_result"
    }
   ],
   "source": [
    "# INPUT\n",
    "# Select the 3D coordinate system to use; Cylindrical, Spherical, Parabolic, ...):\n",
    "# Define the variables and functions for your coordinate system:\n",
    "rho, the, phi = sp.symbols(r'\\rho \\theta \\phi', pos=True, real=True)    # variables\n",
    "x, y, z, = sp.symbols('x y z ', cls=sp.Function, real=True)             # functions\n",
    "\n",
    "# Define 3D coordinate transformations from <x,y,z> --> ?\n",
    "# Spherical coordinates: \n",
    "x = 3*sp.sin(the)*sp.cos(phi)                                           \n",
    "y = 3*sp.sin(the)*sp.sin(phi)\n",
    "z = 3*sp.cos(the)\n",
    "\n",
    "# Make the choice of  surface/integration variables u and v:\n",
    "u = the\n",
    "v = phi\n",
    "sbs = (rho, 3)                                                          # This limits the 3D space to the spherical surface\n",
    "# Set the limits of the integration (defines a upper half portion of the sphere surface):\n",
    "lim = [(the, 0, sp.pi/2), (phi, 0, 2*sp.pi)]  \n",
    "\n",
    "# Set the vectorfield (Fluid velocity, electric or magnetic field, ...)\n",
    "F = sp.Matrix([x, y, z**4])      \n",
    "\n",
    "\n",
    "# CALCULATE\n",
    "r = sp.Matrix([x, y, z])                                                # Position vector \n",
    "integrand = F.dot(sp.diff(r,u).cross(sp.diff(r,v))).simplify()          # F.(dr/dϕ)x(dr/dφ)  \n",
    "\n",
    "flux = sp.integrate(integrand, lim[0], lim[1] )                         # Integration with limits\n",
    "flux = flux.subs([sbs])                                                 # rho get its value 3\n",
    "\n",
    "\n",
    "# OUTPUT\n",
    "print('The flux across S1 is')\n",
    "flux \n"
   ]
  },
  {
   "cell_type": "code",
   "execution_count": 11,
   "id": "85d6bbac",
   "metadata": {},
   "outputs": [
    {
     "data": {
      "text/latex": [
       "$\\displaystyle \\left[\\begin{matrix}3 \\cos{\\left(\\phi \\right)} \\cos{\\left(\\theta \\right)}\\\\3 \\sin{\\left(\\phi \\right)} \\cos{\\left(\\theta \\right)}\\\\- 3 \\sin{\\left(\\theta \\right)}\\end{matrix}\\right]$"
      ],
      "text/plain": [
       "Matrix([\n",
       "[3*cos(\\phi)*cos(\\theta)],\n",
       "[3*sin(\\phi)*cos(\\theta)],\n",
       "[         -3*sin(\\theta)]])"
      ]
     },
     "execution_count": 11,
     "metadata": {},
     "output_type": "execute_result"
    }
   ],
   "source": [
    "# Let's look at the variables\n",
    "#x\n",
    "#u\n",
    "#F1\n",
    "#r\n",
    "sp.diff(r,u)\n",
    "#integrand\n"
   ]
  },
  {
   "cell_type": "markdown",
   "id": "39d486b0",
   "metadata": {},
   "source": [
    ":::::::::::::::::::::::::::::::::::::::::\n",
    "\n",
    "**Solution 2  for $S_1$:  using ParametricRegion method.**"
   ]
  },
  {
   "cell_type": "code",
   "execution_count": 12,
   "id": "7c34a6c5",
   "metadata": {},
   "outputs": [],
   "source": [
    "from sympy import sin, cos, exp, pi, symbols\n",
    "from sympy.vector import CoordSys3D, ParametricRegion, ImplicitRegion, vector_integrate\n",
    "from sympy.abc import a, r, x, y, z, theta, phi\n",
    "C = CoordSys3D('C')"
   ]
  },
  {
   "cell_type": "code",
   "execution_count": 13,
   "id": "136b360b",
   "metadata": {},
   "outputs": [
    {
     "name": "stdout",
     "output_type": "stream",
     "text": [
      "The flux is\n"
     ]
    },
    {
     "data": {
      "text/latex": [
       "$\\displaystyle 279 \\pi$"
      ],
      "text/plain": [
       "279*pi"
      ]
     },
     "execution_count": 13,
     "metadata": {},
     "output_type": "execute_result"
    }
   ],
   "source": [
    "# Area definition: Tuple of length 3 to define base scalars x,y,z in terms of parameters and\n",
    "# then the lower and upper bounds of these parameters.\n",
    "semisphere = ParametricRegion((3*sin(theta)*cos(phi), 3*sin(theta)*sin(phi), 3*cos(theta)),\\\n",
    "                             (theta, 0, pi/2), (phi, 0, 2*pi))\n",
    "#print(semisphere.dimensions)    \n",
    "\n",
    "A = 3*sin(theta)*cos(phi)*C.i  + 3*sin(theta)*sin(phi)*C.j + (3*cos(theta))**4*C.k          # Vectorfield parametrized\n",
    "flux = vector_integrate(A, semisphere)\n",
    "\n",
    "print('The flux is')\n",
    "flux"
   ]
  },
  {
   "cell_type": "markdown",
   "id": "5c99f5f0",
   "metadata": {},
   "source": [
    "===============\n",
    "\n",
    "**The Bottom of the Hemi-Sphere**. Here we know that $\\vec{n} = -\\vec{k}$ and use the formula\n",
    "\n",
    "$$ \\iint_S \\vec{F} \\cdot \\vec{dS} = \\iint_S \\vec{F} \\cdot \\vec{n }dS.$$\n",
    "\n",
    "The flux is easily calculated in Cartesian Coordinates"
   ]
  },
  {
   "cell_type": "code",
   "execution_count": 14,
   "id": "9822b046",
   "metadata": {},
   "outputs": [
    {
     "data": {
      "text/latex": [
       "$\\displaystyle - z^{4}$"
      ],
      "text/plain": [
       "-z**4"
      ]
     },
     "execution_count": 14,
     "metadata": {},
     "output_type": "execute_result"
    }
   ],
   "source": [
    "x, y, z = sp.symbols('x y z', real=True)\n",
    "\n",
    "F = sp.Matrix([x, y, z**4])\n",
    "n = sp.Matrix([0, 0, -1])\n",
    "Fn = F.dot(n)                                     # Integrand  F.n\n",
    "Fn"
   ]
  },
  {
   "cell_type": "markdown",
   "id": "b56049eb",
   "metadata": {},
   "source": [
    "In the xy -plane, where  *z = 0*,  the z component ($z^4)$ of field *F*  is zero and the field has no  component in the z direction. The field vectors lie in the xy plane.  The flux across S2 is\n",
    "\n",
    "$$ \\iint_{S_2} \\vec{F} \\cdot \\vec{n } dS =  \\iint_{S_2} -z^4 dS = \\iint_{S_2} 0 dS  = 0$$\n"
   ]
  },
  {
   "cell_type": "markdown",
   "id": "f6bc7614",
   "metadata": {},
   "source": [
    "==================================================================================================================\n",
    "\n",
    "**Problem 1.** Evaluate the flux  $ \\iint_S \\vec{F} \\cdot \\vec{dS} $  where  $ \\vec F = 3x\\,\\vec i + 2z\\,\\vec j + \\left( {1 - {y^2}} \\right)\\vec k $  and *S* is the portion of $z = 2 - 3y + {x^2}$ that lies over the triangle in the\n",
    "xy-plane with vertices (0,0), (2,0) and (2,-4) oriented in the negative z-axis direction."
   ]
  },
  {
   "attachments": {
    "im_5e_prb1a.png": {
     "image/png": "[encoded data removed]"
    }
   },
   "cell_type": "markdown",
   "id": "0ab779bb",
   "metadata": {},
   "source": [
    "Region $D$ is the projection of the region $S$ in the $xy$-plane.\n",
    "![im_5e_prb1a.png](attachment:im_5e_prb1a.png)"
   ]
  },
  {
   "cell_type": "markdown",
   "id": "3cccdeb0",
   "metadata": {},
   "source": [
    "According to theory (https://tutorial.math.lamar.edu/Classes/CalcIII/SurfIntVectorField.aspx)\n",
    "\n",
    "\\begin{align*}\\iint\\limits_{S}{{\\vec F\\centerdot d\\vec S}} & = \\iint\\limits_{S}{{\\vec F\\centerdot \\vec n\\,dS}}\\\\ &  = \\iint\\limits_{D}{{\\left( {P\\,\\vec i + Q\\,\\vec j + R\\,\\vec k} \\right)\\centerdot \\left( {\\frac{{ - {g_x}\\,\\vec i - {g_y}\\,\\vec j + \\vec k}}{{\\sqrt {{{\\left( {{g_x}} \\right)}^2} + {{\\left( {{g_y}} \\right)}^2} + 1} }}} \\right)}}\\sqrt {{{\\left( {{g_x}} \\right)}^2} + {{\\left( {{g_y}} \\right)}^2} + 1} \\,dA\\\\ &  = \\iint\\limits_{D}{{\\left( {P\\,\\vec i + Q\\,\\vec j + R\\,\\vec k} \\right)\\centerdot \\left( { - {g_x}\\,\\vec i - {g_y}\\,\\vec j + \\vec k} \\right)}}\\,dA\\\\ & \\end{align*}\n",
    "\n",
    "where  $z = g\\left( {x,y} \\right)$ and assumed the “upward” orientation. We’d needed the “downward” orientation, and  we would need to change the signs on the normal vector. \n",
    "\n",
    "**Prbl 1. solution 1: Using matrix representation**"
   ]
  },
  {
   "cell_type": "code",
   "execution_count": 15,
   "id": "950793c0",
   "metadata": {},
   "outputs": [
    {
     "data": {
      "text/latex": [
       "$\\displaystyle y^{2} + 18 y - 13$"
      ],
      "text/plain": [
       "y**2 + 18*y - 13"
      ]
     },
     "execution_count": 15,
     "metadata": {},
     "output_type": "execute_result"
    }
   ],
   "source": [
    "g =  x**2 - 3*y + 2                                 # z = g(x,y)\n",
    "gx = sp.diff(g, x )\n",
    "gy = sp.diff(g, y )\n",
    "gg = -sp.Matrix([-gx, -gy, 1])                       # - sign because of the negative orientation \n",
    "\n",
    "F = sp.Matrix([3*x, 2*g, 1-y**2])                   # In y-coordinate z is substituted by z = g(x,y) \n",
    "integrand = F.dot(gg).simplify()\n",
    "integrand\n"
   ]
  },
  {
   "cell_type": "code",
   "execution_count": 16,
   "id": "1af9ee37",
   "metadata": {},
   "outputs": [
    {
     "data": {
      "text/latex": [
       "$\\displaystyle - \\frac{412}{3}$"
      ],
      "text/plain": [
       "-412/3"
      ]
     },
     "execution_count": 16,
     "metadata": {},
     "output_type": "execute_result"
    }
   ],
   "source": [
    "lim = [(y, -2*x, 0), (x, 0, 2)]  \n",
    "flux = sp.integrate(integrand, lim[0], lim[1] ) \n",
    "flux"
   ]
  },
  {
   "cell_type": "markdown",
   "id": "783bac9e",
   "metadata": {},
   "source": [
    ":::::::::::::::::::::::::::::::\n",
    "\n",
    "**Prbl 1. solution 2: Using ParametricRegion method.**"
   ]
  },
  {
   "cell_type": "code",
   "execution_count": 17,
   "id": "86f03231",
   "metadata": {},
   "outputs": [],
   "source": [
    "from sympy import sin, cos, exp, pi, symbols\n",
    "from sympy.vector import CoordSys3D, ParametricRegion, vector_integrate\n",
    "from sympy.abc import a, r, x, y, z, theta, phi\n",
    "C = CoordSys3D('C')"
   ]
  },
  {
   "cell_type": "code",
   "execution_count": 18,
   "id": "f5dd08eb",
   "metadata": {},
   "outputs": [
    {
     "data": {
      "text/latex": [
       "$\\displaystyle - \\frac{412}{3}$"
      ],
      "text/plain": [
       "-412/3"
      ]
     },
     "execution_count": 18,
     "metadata": {},
     "output_type": "execute_result"
    }
   ],
   "source": [
    "triangle = ParametricRegion((x, y, x**2 - 3*y + 2),   (x, 0, 2), (y, -2*x, 0))   # <x,y,z> expressed as parameters x and y\n",
    "F = 3*C.x*C.i + 2*C.z*C.j + (1 -C.y**2)*C.k                                      # Vector field in CoordSys3D('C')\n",
    "flux = vector_integrate(F, triangle)\n",
    "flux "
   ]
  },
  {
   "cell_type": "markdown",
   "id": "f505f145",
   "metadata": {},
   "source": [
    "======================================================================================================================\n",
    "\n",
    "**Problem 2.** Evaluate the flux $ \\, \\iint_S \\vec{F} \\cdot \\vec{dS} \\,\\, $  where  $ \\,\\, \\vec F = -x\\,\\vec i + 2y\\,\\vec j -z\\,\\vec k \\,$  and *S* is the portion of $y = 3{x^2} + 3{z^2}$ that lies behind $y = 6$ oriented in the positive y-axis direction. Note that the surface in this problem is only the elliptic paraboloid and does not include the “cap” at y = 6.\n"
   ]
  },
  {
   "attachments": {
    "image.png": {
     "image/png": "[encoded data removed]"
    }
   },
   "cell_type": "markdown",
   "id": "1176e293",
   "metadata": {},
   "source": [
    "![image.png](attachment:image.png)\n",
    "\n",
    "\n",
    "The equation of the surface is $\\,\\,f\\left( {x,y,z} \\right) = 3{x^2} + 3{z^2} - y = 0. \\,\\,$\n",
    "\n",
    "At  $y = 6$  we have $ \\,\\,6 = 3{x^2} + 3{z^2}\\hspace{0.2in} \\Rightarrow \\hspace{0.2in}{x^2} + {z^2} = 2$.\n",
    "So the radius of the circle at $\\, y = 6\\,$ is $\\,\\sqrt{2}\\,.$  Here it is favorable to use the polar coordinate system for integration. We set\n",
    "$$ x = r\\cos \\theta \\hspace{0.2in}\\hspace{0.2in}z = r\\sin \\theta \\hspace{0.2in}\\hspace{0.2in}{x^2} + {z^2} = {r^2} $$\n",
    "\n",
    "and the limits of the polar variables are\n",
    "$ \\, \\, 0 \\le \\theta  \\le 2\\pi,  \\hspace{0.2 in} 0 \\le r \\le \\sqrt 2. $\n",
    "\n",
    "\n"
   ]
  },
  {
   "cell_type": "code",
   "execution_count": 19,
   "id": "b548f07b",
   "metadata": {},
   "outputs": [],
   "source": [
    "from sympy import sin, cos, exp, pi, symbols\n",
    "from sympy.vector import CoordSys3D, ParametricRegion, vector_integrate, gradient\n",
    "from sympy.abc import r, x, y, z, theta, phi\n",
    "C = CoordSys3D('C')"
   ]
  },
  {
   "cell_type": "code",
   "execution_count": 20,
   "id": "1ab412eb",
   "metadata": {},
   "outputs": [
    {
     "name": "stdout",
     "output_type": "stream",
     "text": [
      "The gradient (normal) of surface S is\n"
     ]
    },
    {
     "data": {
      "text/latex": [
       "$\\displaystyle \\left(6 \\mathbf{{x}_{C}}\\right)\\mathbf{\\hat{i}_{C}} - \\mathbf{\\hat{j}_{C}} + \\left(6 \\mathbf{{z}_{C}}\\right)\\mathbf{\\hat{k}_{C}}$"
      ],
      "text/plain": [
       "6*C.x*C.i + (-1)*C.j + 6*C.z*C.k"
      ]
     },
     "execution_count": 20,
     "metadata": {},
     "output_type": "execute_result"
    }
   ],
   "source": [
    "f = 3*C.x**2 + 3*C.z**2 - C.y                                                   # From the equation of the surface S\n",
    "grd_f = gradient(f)                                                             # The gradient of f  is normal to S\n",
    "print( 'The gradient (normal) of surface S is')\n",
    "grd_f"
   ]
  },
  {
   "cell_type": "markdown",
   "id": "3d8aff78",
   "metadata": {},
   "source": [
    "We see that the y-component of the gradient ( $-\\vec{j}$) points to the negative y-axis direction. But according to the problem statement it should point to the positive direction. We need to take this into account by changing the sign of the normal (or at the latest by changing the sign of the result)."
   ]
  },
  {
   "cell_type": "markdown",
   "id": "6ef598c3",
   "metadata": {},
   "source": [
    "**Prbl 2. solution 1: Using matrix representation**"
   ]
  },
  {
   "cell_type": "code",
   "execution_count": 21,
   "id": "0154728c",
   "metadata": {},
   "outputs": [],
   "source": [
    "rho, the = sp.symbols(r'\\rho \\theta', pos=True, real=True)              # variables\n",
    "x, y, z, = sp.symbols('x y z ', cls=sp.Function, real=True)             # functions"
   ]
  },
  {
   "cell_type": "code",
   "execution_count": 22,
   "id": "9436694c",
   "metadata": {},
   "outputs": [
    {
     "data": {
      "text/latex": [
       "$\\displaystyle \\left[\\begin{matrix}6 \\rho^{2} \\cos{\\left(\\theta \\right)}\\\\- \\rho \\sin^{2}{\\left(\\theta \\right)} - \\rho \\cos^{2}{\\left(\\theta \\right)}\\\\6 \\rho^{2} \\sin{\\left(\\theta \\right)}\\end{matrix}\\right]$"
      ],
      "text/plain": [
       "Matrix([\n",
       "[                     6*\\rho**2*cos(\\theta)],\n",
       "[-\\rho*sin(\\theta)**2 - \\rho*cos(\\theta)**2],\n",
       "[                     6*\\rho**2*sin(\\theta)]])"
      ]
     },
     "execution_count": 22,
     "metadata": {},
     "output_type": "execute_result"
    }
   ],
   "source": [
    "# Coordinate transformations \n",
    "x = rho*sp.cos(the)                                                     # xz-polar coordinates\n",
    "y = 3*rho**2                                                            # for the paraboloid\n",
    "z = rho*sp.sin(the)                                                     # xz-polar coordinates\n",
    "\n",
    "F = sp.Matrix([-x, 2*y, -z])                                            # vectorfield\n",
    "r = sp.Matrix([x, y, z])                                                # position vector\n",
    "crss = sp.diff(r,rho).cross(sp.diff(r,the))                             # The cross product of the position vector deriva-\n",
    "crss                                                                    # tives gives us the normal of the surface S."
   ]
  },
  {
   "cell_type": "markdown",
   "id": "58e43730",
   "metadata": {},
   "source": [
    "Also here we can see that the y-component of the normal (the middle component) points to the negative y-axis direction. So we have to change the sign of the cross product."
   ]
  },
  {
   "cell_type": "code",
   "execution_count": 23,
   "id": "5a3c97b7",
   "metadata": {},
   "outputs": [
    {
     "data": {
      "text/latex": [
       "$\\displaystyle 24 \\pi$"
      ],
      "text/plain": [
       "24*pi"
      ]
     },
     "execution_count": 23,
     "metadata": {},
     "output_type": "execute_result"
    }
   ],
   "source": [
    "integrand = F.dot(-crss).simplify()                                           # Obs! -crss for the correct orientation\n",
    "flux = sp.integrate(integrand, (rho, 0, sp.sqrt(2)), (the, 0, 2*sp.pi) )      # Integration with limits\n",
    "flux"
   ]
  },
  {
   "cell_type": "markdown",
   "id": "549e004f",
   "metadata": {},
   "source": [
    ":::::::::::::::::::::::::::::::\n",
    "\n",
    "**Prbl 2. solution 2: Using vector representation**"
   ]
  },
  {
   "cell_type": "code",
   "execution_count": 24,
   "id": "5224e98e",
   "metadata": {},
   "outputs": [
    {
     "data": {
      "text/latex": [
       "$\\displaystyle \\left(6 \\rho^{2} \\cos{\\left(\\theta \\right)}\\right)\\mathbf{\\hat{i}_{C}} + \\left(- \\rho\\right)\\mathbf{\\hat{j}_{C}} + \\left(6 \\rho^{2} \\sin{\\left(\\theta \\right)}\\right)\\mathbf{\\hat{k}_{C}}$"
      ],
      "text/plain": [
       "(6*\\rho**2*cos(\\theta))*C.i + (-\\rho)*C.j + (6*\\rho**2*sin(\\theta))*C.k"
      ]
     },
     "execution_count": 24,
     "metadata": {},
     "output_type": "execute_result"
    }
   ],
   "source": [
    "rho, the = sp.symbols( r'\\rho \\theta',  real=True)                              # variables\n",
    "x, y, z, = sp.symbols('x y z ', real=True)                                      # variables\n",
    "\n",
    "r =  C.x*C.i + C.y*C.j + C.z*C.k                                                # position vector in CoordSys3D('C')\n",
    "F = -C.x*C.i + 2*C.y*C.j - C.z*C.k                                              # vectorfield in CoordSys3D('C')\n",
    "                \n",
    "r = r.subs([(C.x, rho*sp.cos(the)), (C.y, 3*rho**2), (C.z, rho*sp.sin(the))])   # position vector parameterized (rho, the)\n",
    "F = F.subs([(C.x, rho*sp.cos(the)), (C.y, 3*rho**2), (C.z, rho*sp.sin(the))])   # vectorfield parameterized     (rho, the)\n",
    "\n",
    "crs = sp.diff(r,rho).cross(sp.diff(r,the)).simplify()                           # The cross product of the position vector..\n",
    "crs                                                                             # derivatives gives us the normal."
   ]
  },
  {
   "cell_type": "markdown",
   "id": "0925d7c0",
   "metadata": {},
   "source": [
    "Here we see again that the y-component of the normal  $(−𝜌 \\vec{j}) $ points to the negative y-axis direction. So we have to change the sign of the cross product."
   ]
  },
  {
   "cell_type": "code",
   "execution_count": 25,
   "id": "ab4713f1",
   "metadata": {},
   "outputs": [
    {
     "data": {
      "text/latex": [
       "$\\displaystyle 24 \\pi$"
      ],
      "text/plain": [
       "24*pi"
      ]
     },
     "execution_count": 25,
     "metadata": {},
     "output_type": "execute_result"
    }
   ],
   "source": [
    "integrand = F.dot(-crs).simplify()                                               # Obs! -crs for the correct orientation\n",
    "flux = vector_integrate(integrand , (the, 0, 2*sp.pi), (rho, 0, sp.sqrt(2)))     # integration with limits\n",
    "#   OR: flux = sp.integrate(integrand, (the, 0, 2*sp.pi), (rho, 0, sp.sqrt(2)))         \n",
    "\n",
    "flux"
   ]
  },
  {
   "cell_type": "markdown",
   "id": "2d27b932",
   "metadata": {},
   "source": [
    "::::::::::::::::::::::::::::::::::::::::::\n",
    "\n",
    "**Prbl 2. solution 3: Using ParametricRegion**"
   ]
  },
  {
   "cell_type": "code",
   "execution_count": 26,
   "id": "2d0de657",
   "metadata": {},
   "outputs": [],
   "source": [
    "from sympy import sin, cos, exp, pi, symbols\n",
    "from sympy.vector import CoordSys3D, ParametricRegion, vector_integrate, gradient\n",
    "from sympy.abc import r, x, y, z, theta, phi\n",
    "C = CoordSys3D('C')\n"
   ]
  },
  {
   "cell_type": "code",
   "execution_count": 27,
   "id": "dd0c93c3",
   "metadata": {},
   "outputs": [
    {
     "data": {
      "text/latex": [
       "$\\displaystyle 24 \\pi$"
      ],
      "text/plain": [
       "24*pi"
      ]
     },
     "execution_count": 27,
     "metadata": {},
     "output_type": "execute_result"
    }
   ],
   "source": [
    "# Area definition: Tuple to define base scalars <x,y,z> in terms of parameters  and \n",
    "# the lower and upper bounds for integration.\n",
    "S = ParametricRegion((r*cos(theta), 3*r**2, r*sin(theta)),\\\n",
    "                          (r,  0, sp.sqrt(2)), (theta, 0, 2*pi) )\n",
    "\n",
    "# Vector field in vector form as a parameter representation\n",
    "F = -r*cos(theta)*C.i +  2*3*r**2*C.j - r*sin(theta)*C.k\n",
    "\n",
    "flux = -vector_integrate(F, S)                      # Note the change of sign to get the correct orientation.\n",
    "flux"
   ]
  },
  {
   "cell_type": "markdown",
   "id": "db5f7378",
   "metadata": {},
   "source": [
    "======================================================================================================================\n",
    "\n",
    "**Problem 3.** Evaluate  $ \\, \\iint_S \\vec{F} \\cdot \\vec{dS} \\,\\, $  where  $ \\,\\, \\vec F = x^2\\,\\vec i + 2z\\,\\vec j -3y\\,\\vec k \\,$  and *S* is the portion of ${y^2} + {z^2} = 4$ between x = 0 and x = 3 - z oriented outwards."
   ]
  },
  {
   "attachments": {
    "image.png": {
     "image/png": "[encoded data removed]"
    }
   },
   "cell_type": "markdown",
   "id": "84627b1f",
   "metadata": {},
   "source": [
    "![image.png](attachment:image.png)\n",
    "\n",
    "Note that the surface in this problem is only the cylinder itself. The “caps” of the cylinder are not part of this surface despite the red “cap” in the sketch. "
   ]
  },
  {
   "cell_type": "markdown",
   "id": "b02da146",
   "metadata": {},
   "source": [
    "**Solution by ParametricRegion**"
   ]
  },
  {
   "cell_type": "code",
   "execution_count": 28,
   "id": "9cac340f",
   "metadata": {},
   "outputs": [],
   "source": [
    "from sympy import cos, sin, pi\n",
    "from sympy.vector import CoordSys3D, ParametricRegion,  vector_integrate\n",
    "from sympy.abc import x, y, z, r,  theta\n",
    "C = CoordSys3D('C')\n"
   ]
  },
  {
   "cell_type": "code",
   "execution_count": 29,
   "id": "b5cd2bf1",
   "metadata": {},
   "outputs": [
    {
     "data": {
      "text/latex": [
       "$\\displaystyle 0$"
      ],
      "text/plain": [
       "0"
      ]
     },
     "execution_count": 29,
     "metadata": {},
     "output_type": "execute_result"
    }
   ],
   "source": [
    "S = ParametricRegion((x, 2*sin(theta), 2*cos(theta)),                     # Surface definition: (x,y,z) parameterization,\n",
    "                     (x, 0, 3-2*cos(theta)), (theta, 0, 2*pi),)           # limits\n",
    "\n",
    "F = C.x**2*C.i - 2*2*cos(theta)*C.j - 3*2*sin(theta)*C.k                  # Vector field\n",
    "\n",
    "vector_integrate(F, S) \n"
   ]
  },
  {
   "cell_type": "markdown",
   "id": "76b454c8",
   "metadata": {},
   "source": [
    "=======================================================================================================================\n",
    "\n",
    "**Problem 4.** Evaluate  $ \\, \\iint_S \\vec{F} \\cdot \\vec{dS} \\,\\, $  where  $ \\,\\, \\vec F = \\,\\vec i + z\\,\\vec j + 6x\\,\\vec k \\,$  and *S* is the portion of the sphere  of radius 3 with $ x \\le 0, y \\ge 0$ and $ z \\ge 0 $  oriented inward."
   ]
  },
  {
   "attachments": {
    "image.png": {
     "image/png": "[encoded data removed]"
    }
   },
   "cell_type": "markdown",
   "id": "bba9e305",
   "metadata": {},
   "source": [
    "![image.png](attachment:image.png)\n",
    "\n",
    "Note that the surface in this problem is only the part of the sphere itself, not the greenish 'edges'. "
   ]
  },
  {
   "cell_type": "code",
   "execution_count": 30,
   "id": "29ec5687",
   "metadata": {},
   "outputs": [],
   "source": [
    "from sympy import sin, cos, exp, pi, symbols\n",
    "from sympy.vector import CoordSys3D, ParametricRegion, vector_integrate\n",
    "from sympy.abc import r, x, y, z, theta, phi\n",
    "C = CoordSys3D('C')"
   ]
  },
  {
   "cell_type": "code",
   "execution_count": 31,
   "id": "72b1fc21",
   "metadata": {},
   "outputs": [
    {
     "data": {
      "text/latex": [
       "$\\displaystyle \\frac{9 \\pi}{4} + 45$"
      ],
      "text/plain": [
       "9*pi/4 + 45"
      ]
     },
     "execution_count": 31,
     "metadata": {},
     "output_type": "execute_result"
    }
   ],
   "source": [
    "S = ParametricRegion((3*sin(theta)*cos(phi), 3*sin(theta)*sin(phi), 3*cos(theta)),  # Surface def: (x,y,z) parameterization,\n",
    "                       (theta, 0, pi/2), (phi, pi/2, pi))                           # limits\n",
    "\n",
    "F = C.i + C.z*C.j + 6*C.x*C.k                                                       # Vector field\n",
    "\n",
    "I = -vector_integrate(F, S)                                                 # - sign beacause of inward surface orientation\n",
    "I                                                                                 "
   ]
  },
  {
   "cell_type": "markdown",
   "id": "5e5c40b5",
   "metadata": {},
   "source": [
    "=======================================================================================================================\n",
    "\n",
    "**Problem 5.** Evaluate  $ \\, \\iint_S \\vec{F} \\cdot \\vec{dS} \\,\\, $  where  $ \\,\\, \\vec F = \\,y\\,\\vec i + 2x\\,\\vec j + (z-8)\\,\\vec k \\,$  where $S$ is the surface of the solid bounded by &nbsp; $ 4x + 2y + z = 8 $, &nbsp; z = 0 y = 0 and x = 0. Note that all four surfaces of this solid are included in  $S$."
   ]
  },
  {
   "attachments": {
    "image.png": {
     "image/png": "[encoded data removed]"
    }
   },
   "cell_type": "markdown",
   "id": "134ccc0f",
   "metadata": {},
   "source": [
    "![image.png](attachment:image.png)"
   ]
  },
  {
   "attachments": {
    "image.png": {
     "image/png": "[encoded data removed]"
    }
   },
   "cell_type": "markdown",
   "id": "e67c49be",
   "metadata": {},
   "source": [
    "![image.png](attachment:image.png)"
   ]
  },
  {
   "cell_type": "code",
   "execution_count": 32,
   "id": "be2148d1",
   "metadata": {},
   "outputs": [],
   "source": [
    "import numpy as np\n",
    "import sympy as sp\n",
    "x, y, z = sp.symbols('x y z', real=True)\n",
    "from sympy.vector import CoordSys3D, ParametricRegion, vector_integrate\n",
    "C = CoordSys3D('C')"
   ]
  },
  {
   "cell_type": "markdown",
   "id": "2286d6f0",
   "metadata": {},
   "source": [
    "We recall that\n",
    " $$  \\iint_S \\vec{F} \\cdot \\vec{dS} = \\iint_S \\vec{F} \\cdot \\vec{n } dS  = \\iint_S \\vec{F}(\\vec{r}(u,v)) \\cdot \\left(\\frac{d\\vec{r}}{du} \\times \\frac{d\\vec{r}} {dv}\\right) du dv, $$\n",
    " \n",
    "**S1** Plane given by 4x + 2y + z = 8   (the top of the solid)\n",
    "\n",
    "**Solution in vector representation.** \n",
    "Here the equation of the plane is $f\\left( {x,y,z} \\right) = 4x + 2y + z - 8 = 0$ and\n",
    "the normal of the surface  $\\vec n =  - \\vec j = \\left\\langle {0, - 1,0} \\right\\rangle.$\n",
    " \n",
    " "
   ]
  },
  {
   "cell_type": "code",
   "execution_count": 33,
   "id": "c70b7f90",
   "metadata": {},
   "outputs": [
    {
     "data": {
      "text/latex": [
       "$\\displaystyle \\left(\\mathbf{{y}_{C}}\\right)\\mathbf{\\hat{i}_{C}} + \\left(2 \\mathbf{{x}_{C}}\\right)\\mathbf{\\hat{j}_{C}} + \\left(- 4 \\mathbf{{x}_{C}} - 2 \\mathbf{{y}_{C}}\\right)\\mathbf{\\hat{k}_{C}}$"
      ],
      "text/plain": [
       "C.y*C.i + 2*C.x*C.j + (-4*C.x - 2*C.y)*C.k"
      ]
     },
     "execution_count": 33,
     "metadata": {},
     "output_type": "execute_result"
    }
   ],
   "source": [
    "F = C.y*C.i + 2*C.x*C.j + (C.z-8)*C.k           # Vector field in CoordSys3D('C')\n",
    "F = F.subs(C.z,  (8 - 4*C.x - 2*C.y))           # Substitution of z from the surface equation leaves two parameters left \n",
    "F"
   ]
  },
  {
   "cell_type": "code",
   "execution_count": 34,
   "id": "f7803dc5",
   "metadata": {},
   "outputs": [
    {
     "data": {
      "text/latex": [
       "$\\displaystyle \\left(4\\right)\\mathbf{\\hat{i}_{C}} + \\left(2\\right)\\mathbf{\\hat{j}_{C}} + \\mathbf{\\hat{k}_{C}}$"
      ],
      "text/plain": [
       "4*C.i + 2*C.j + C.k"
      ]
     },
     "execution_count": 34,
     "metadata": {},
     "output_type": "execute_result"
    }
   ],
   "source": [
    "r = C.x*C.i + C.y*C.j + (8 - 4*C.x - 2*C.y)*C.k                    # Position vector for the surface S1\n",
    "dr_dx = sp.diff(r, C.x)                                            # dr/du\n",
    "dr_dy = sp.diff(r, C.y)                                            # dr/dv\n",
    "cross = dr_dx.cross(dr_dy)                                         # dr/du x dr/dv\n",
    "cross"
   ]
  },
  {
   "cell_type": "code",
   "execution_count": 35,
   "id": "5beddb21",
   "metadata": {},
   "outputs": [
    {
     "data": {
      "text/latex": [
       "$\\displaystyle 2 \\mathbf{{y}_{C}}$"
      ],
      "text/plain": [
       "2*C.y"
      ]
     },
     "execution_count": 35,
     "metadata": {},
     "output_type": "execute_result"
    }
   ],
   "source": [
    "integrand1 = F.dot(cross).simplify()\n",
    "integrand1"
   ]
  },
  {
   "cell_type": "code",
   "execution_count": 36,
   "id": "332cdcd6",
   "metadata": {},
   "outputs": [
    {
     "data": {
      "text/latex": [
       "$\\displaystyle \\frac{32}{3}$"
      ],
      "text/plain": [
       "32/3"
      ]
     },
     "execution_count": 36,
     "metadata": {},
     "output_type": "execute_result"
    }
   ],
   "source": [
    "I1 = sp.integrate(integrand1, (C.y, 0, 4-2*C.x), (C.x, 0, 2)).simplify()\n",
    "I1"
   ]
  },
  {
   "cell_type": "markdown",
   "id": "e2f96d0f",
   "metadata": {},
   "source": [
    "**S2** Plane given by y = 0   (the triangle on right side of the solid) \n",
    "\n",
    "**Solution with matrices**"
   ]
  },
  {
   "cell_type": "code",
   "execution_count": 37,
   "id": "cbe16a06",
   "metadata": {},
   "outputs": [
    {
     "data": {
      "text/latex": [
       "$\\displaystyle - 2 x$"
      ],
      "text/plain": [
       "-2*x"
      ]
     },
     "execution_count": 37,
     "metadata": {},
     "output_type": "execute_result"
    }
   ],
   "source": [
    "F = sp.Matrix([0, 2*x, z - 8])                                          # Vector field is substituted by y = 0\n",
    "n = sp.Matrix([0, -1, 0])                                               # n = -j,  |n|  = 1 \n",
    "Fn = F.dot(n)\n",
    "Fn\n"
   ]
  },
  {
   "cell_type": "code",
   "execution_count": 38,
   "id": "a7a08ffd",
   "metadata": {},
   "outputs": [
    {
     "data": {
      "text/latex": [
       "$\\displaystyle - \\frac{32}{3}$"
      ],
      "text/plain": [
       "-32/3"
      ]
     },
     "execution_count": 38,
     "metadata": {},
     "output_type": "execute_result"
    }
   ],
   "source": [
    "I2 = sp.integrate(Fn, (z, 0, 8-4*x), (x, 0, 2))                        \n",
    "I2"
   ]
  },
  {
   "cell_type": "markdown",
   "id": "e6597bff",
   "metadata": {},
   "source": [
    "**S3** Plane given by x = 0 (the triangle at back of the solid  -  not shown in sketch) \n",
    "\n",
    "**Solution with ParametricRegion**"
   ]
  },
  {
   "cell_type": "code",
   "execution_count": 39,
   "id": "591ad46d",
   "metadata": {},
   "outputs": [
    {
     "data": {
      "text/latex": [
       "$\\displaystyle - \\frac{64}{3}$"
      ],
      "text/plain": [
       "-64/3"
      ]
     },
     "execution_count": 39,
     "metadata": {},
     "output_type": "execute_result"
    }
   ],
   "source": [
    "S3 = ParametricRegion((0, y, z), (z, 0, 8 - 2*y), (y, 0, 4))            # <x,y,z> as parameters and their limits\n",
    "F = C.y*C.i  + (C.z - 8)*C.k                                            # Vector field in CoordSys3D('C'), C.x = 0\n",
    "I3 = vector_integrate(F, S3)\n",
    "I3"
   ]
  },
  {
   "cell_type": "markdown",
   "id": "0f954e90",
   "metadata": {},
   "source": [
    "**S4** Plane given by z  = 0 (the triangle on bottom of the solid  -  not shown in sketch)\n",
    "\n",
    "**Solution in vector representation.** \n",
    " $\\,\\,\\,  \\iint_S \\vec{F} \\cdot \\vec{dS}  = \\iint_S \\vec{F} \\cdot \\vec{n } dS $"
   ]
  },
  {
   "cell_type": "code",
   "execution_count": 40,
   "id": "c3593eb1",
   "metadata": {},
   "outputs": [
    {
     "data": {
      "text/latex": [
       "$\\displaystyle 32$"
      ],
      "text/plain": [
       "32"
      ]
     },
     "execution_count": 40,
     "metadata": {},
     "output_type": "execute_result"
    }
   ],
   "source": [
    "F = C.y*C.i + 2*C.x*C.j + (-8)*C.k                                      # Vector field in CoordSys3D('C'), C.z = 0\n",
    "n = -C.k                                                                # n = -k,  |n|=1\n",
    "Fn = F.dot(n)\n",
    "I4 = sp.integrate(Fn, (y, 0, 4-2*x), (x, 0, 2))                         # dS = 1*dA = dydx\n",
    "I4"
   ]
  },
  {
   "cell_type": "markdown",
   "id": "7a25147a",
   "metadata": {},
   "source": [
    "**The final result**"
   ]
  },
  {
   "cell_type": "code",
   "execution_count": 41,
   "id": "4a4064c4",
   "metadata": {},
   "outputs": [
    {
     "data": {
      "text/latex": [
       "$\\displaystyle \\frac{32}{3}$"
      ],
      "text/plain": [
       "32/3"
      ]
     },
     "execution_count": 41,
     "metadata": {},
     "output_type": "execute_result"
    }
   ],
   "source": [
    " # The asked integral \n",
    "I = I1 + I2 + I3 + I4                                             \n",
    "I"
   ]
  },
  {
   "cell_type": "markdown",
   "id": "a5c5d325",
   "metadata": {},
   "source": [
    "=======================================================================================================================\n",
    "\n",
    "**Problem 6.** Evaluate  $ \\, \\iint_S \\vec{F} \\cdot \\vec{dS} \\,\\, $  where  $ \\,\\, \\vec F = \\,yz\\,\\vec i + x\\,\\vec j + 3y^2\\,\\vec k \\,$  where $S$ is the surface of the solid bounded by &nbsp; $ x^2 + y^2  = 4 $, &nbsp; $z = x - 3 \\,$   and $z = x + 2.$ Note that all three surfaces of this solid are included in $S$."
   ]
  },
  {
   "attachments": {
    "image.png": {
     "image/png": "[encoded data removed]"
    }
   },
   "cell_type": "markdown",
   "id": "170385a3",
   "metadata": {},
   "source": [
    "![image.png](attachment:image.png)"
   ]
  },
  {
   "attachments": {
    "image.png": {
     "image/png": "[encoded data removed]"
    }
   },
   "cell_type": "markdown",
   "id": "ff432769",
   "metadata": {},
   "source": [
    "![image.png](attachment:image.png)"
   ]
  },
  {
   "cell_type": "code",
   "execution_count": 42,
   "id": "5d4aa815",
   "metadata": {},
   "outputs": [],
   "source": [
    "from sympy import sin, cos, exp, pi, symbols\n",
    "from sympy.vector import CoordSys3D, ParametricRegion, vector_integrate, gradient\n",
    "from sympy.abc import r, x, y, z, theta, phi\n",
    "C = CoordSys3D('C')"
   ]
  },
  {
   "cell_type": "markdown",
   "id": "6a98b3b6",
   "metadata": {},
   "source": [
    "**S1.**   $ {\\mbox{ Cylinder given by }}{x^2} + {y^2} = 4\\,\\,\\,\\left( {i.e{\\mbox{ the walls of the solid}}} \\right)$ \n",
    "\n",
    "ParametricRegion method"
   ]
  },
  {
   "cell_type": "code",
   "execution_count": 43,
   "id": "00962df9",
   "metadata": {},
   "outputs": [
    {
     "data": {
      "text/latex": [
       "$\\displaystyle 0$"
      ],
      "text/plain": [
       "0"
      ]
     },
     "execution_count": 43,
     "metadata": {},
     "output_type": "execute_result"
    }
   ],
   "source": [
    "# Area definition: Base scalars <x,y,z> in terms of parameters z and theta (cylindrical coordinates, rho=2)   and\n",
    "# then corresponding lower and upper bounds of these parameters.\n",
    "S1 = ParametricRegion((2*cos(theta), 2*sin(theta), z),   \n",
    "                     (z, 2*cos(theta)-3, 2*cos(theta)+2), (theta, 0, 2*pi)) \n",
    "\n",
    "F = C.y*C.z*C.i  + C.x*C.j + 3*C.y**2*C.k                                 # Vector field in CoordSys3D('C')\n",
    "F\n",
    "I1 = vector_integrate(F, S1)\n",
    "I1"
   ]
  },
  {
   "cell_type": "markdown",
   "id": "bb10d71a",
   "metadata": {},
   "source": [
    "**S2.**  ${\\mbox{ Plane given by }}z = x + 2 \\,\\,\\, {\\rm{ }}  \\left( {i.e{\\mbox{ the top cap of the cylinder}}} \\right)$\n",
    "\n",
    "Vector representation, integration in polar coordinates"
   ]
  },
  {
   "cell_type": "code",
   "execution_count": 44,
   "id": "6f1caff1",
   "metadata": {},
   "outputs": [
    {
     "data": {
      "text/latex": [
       "$\\displaystyle \\left(\\mathbf{{y}_{C}} \\left(\\mathbf{{x}_{C}} + 2\\right)\\right)\\mathbf{\\hat{i}_{C}} + \\left(\\mathbf{{x}_{C}}\\right)\\mathbf{\\hat{j}_{C}} + \\left(3 \\mathbf{{y}_{C}}^{2}\\right)\\mathbf{\\hat{k}_{C}}$"
      ],
      "text/plain": [
       "(C.y*(C.x + 2))*C.i + C.x*C.j + 3*C.y**2*C.k"
      ]
     },
     "execution_count": 44,
     "metadata": {},
     "output_type": "execute_result"
    }
   ],
   "source": [
    "\n",
    "F = C.y*C.z*C.i  + C.x*C.j + 3*C.y**2*C.k                   # Vector field in CoordSys3D('C')\n",
    "F2 = F.subs(C.z, C.x + 2)                                   # Vector field in CoordSys3D('C'), in the plane S2  (z = x+2)\n",
    "F2                                                         "
   ]
  },
  {
   "cell_type": "code",
   "execution_count": 45,
   "id": "7aa91cae",
   "metadata": {},
   "outputs": [
    {
     "data": {
      "text/latex": [
       "$\\displaystyle - 3 \\mathbf{{y}_{C}}^{2} + \\mathbf{{y}_{C}} \\left(\\mathbf{{x}_{C}} + 2\\right)$"
      ],
      "text/plain": [
       "-3*C.y**2 + C.y*(C.x + 2)"
      ]
     },
     "execution_count": 45,
     "metadata": {},
     "output_type": "execute_result"
    }
   ],
   "source": [
    "f2 = C.z - C.x - 2            # The equation for the plane S2: f2 = z - x - 2 = 0\n",
    "grd = -gradient(f2)           # The gradient gives us the normal. Negative orientation in the problem statement -> (-) sign\n",
    "integrand2 = F2.dot(grd)      # F.n  There is no need to normalize the normal, see theory.\n",
    "integrand2                    # in CoordSys3D('C')"
   ]
  },
  {
   "cell_type": "code",
   "execution_count": 46,
   "id": "312aa28d",
   "metadata": {},
   "outputs": [
    {
     "data": {
      "text/latex": [
       "$\\displaystyle r \\left(- 3 r^{2} \\sin^{2}{\\left(\\theta \\right)} + r \\left(r \\cos{\\left(\\theta \\right)} + 2\\right) \\sin{\\left(\\theta \\right)}\\right)$"
      ],
      "text/plain": [
       "r*(-3*r**2*sin(theta)**2 + r*(r*cos(theta) + 2)*sin(theta))"
      ]
     },
     "execution_count": 46,
     "metadata": {},
     "output_type": "execute_result"
    }
   ],
   "source": [
    "# For integration, we switch to polar coordinates.\n",
    "# For area transformation we must include the Jacobian (extra (r) at the end)\n",
    "integrand2 = (integrand2.subs([(C.y, r*sin(theta)), (C.x, r*cos(theta))]))*(r)     # (Note multible substitions as a list)\n",
    "integrand2"
   ]
  },
  {
   "cell_type": "code",
   "execution_count": 47,
   "id": "0267ad81",
   "metadata": {},
   "outputs": [
    {
     "data": {
      "text/latex": [
       "$\\displaystyle - 12 \\pi$"
      ],
      "text/plain": [
       "-12*pi"
      ]
     },
     "execution_count": 47,
     "metadata": {},
     "output_type": "execute_result"
    }
   ],
   "source": [
    "I2  = vector_integrate(integrand2, (r, 0, 2), (theta, 0, 2*pi))\n",
    "I2"
   ]
  },
  {
   "cell_type": "markdown",
   "id": "9a4239f9",
   "metadata": {},
   "source": [
    "**S3.** ${\\mbox{ Plane given by }}z = x - 3  \\,\\,\\, {\\rm{ }}\\left( {i.e{\\mbox{ the bottom cap of the cylinder}}} \\right)$\n",
    "\n",
    "**a)** By vector representation, integration in polar coordinates. The solution proceeds as in the previous case of surface S2."
   ]
  },
  {
   "cell_type": "code",
   "execution_count": 48,
   "id": "dfe35914",
   "metadata": {},
   "outputs": [],
   "source": [
    "from sympy import sin, cos, exp, pi, symbols\n",
    "from sympy.vector import CoordSys3D, ParametricRegion, vector_integrate, gradient\n",
    "from sympy.abc import r, x, y, z, theta, phi\n",
    "C = CoordSys3D('C')"
   ]
  },
  {
   "cell_type": "code",
   "execution_count": 49,
   "id": "6b71f419",
   "metadata": {},
   "outputs": [
    {
     "data": {
      "text/latex": [
       "$\\displaystyle \\left(\\mathbf{{y}_{C}} \\left(\\mathbf{{x}_{C}} - 3\\right)\\right)\\mathbf{\\hat{i}_{C}} + \\left(\\mathbf{{x}_{C}}\\right)\\mathbf{\\hat{j}_{C}} + \\left(3 \\mathbf{{y}_{C}}^{2}\\right)\\mathbf{\\hat{k}_{C}}$"
      ],
      "text/plain": [
       "(C.y*(C.x - 3))*C.i + C.x*C.j + 3*C.y**2*C.k"
      ]
     },
     "execution_count": 49,
     "metadata": {},
     "output_type": "execute_result"
    }
   ],
   "source": [
    "F = C.y*C.z*C.i  + C.x*C.j + 3*C.y**2*C.k                   # Vector field in CoordSys3D('C')\n",
    "F3 = F.subs(C.z, C.x -3)                                    # Vector field in CoordSys3D('C') in the plane S3  (z = x-3)\n",
    "F3                                                          "
   ]
  },
  {
   "cell_type": "code",
   "execution_count": 50,
   "id": "c25197f7",
   "metadata": {},
   "outputs": [
    {
     "data": {
      "text/latex": [
       "$\\displaystyle 3 \\mathbf{{y}_{C}}^{2} - \\mathbf{{y}_{C}} \\left(\\mathbf{{x}_{C}} - 3\\right)$"
      ],
      "text/plain": [
       "3*C.y**2 - C.y*(C.x - 3)"
      ]
     },
     "execution_count": 50,
     "metadata": {},
     "output_type": "execute_result"
    }
   ],
   "source": [
    "f3 = C.z - C.x + 3            # The equation for the plane S2: f3 = z - x + 3 = 0\n",
    "grd = gradient(f3)            # The gradient gives us the normal. (correct orientation)\n",
    "integrand3 = F3.dot(grd)      # F.n  There is no need to normalize the normal, see theory.\n",
    "integrand3                    # in CoordSys3D('C')"
   ]
  },
  {
   "cell_type": "code",
   "execution_count": 51,
   "id": "64fa7a02",
   "metadata": {},
   "outputs": [
    {
     "data": {
      "text/latex": [
       "$\\displaystyle r \\left(3 r^{2} \\sin^{2}{\\left(\\theta \\right)} - r \\left(r \\cos{\\left(\\theta \\right)} - 3\\right) \\sin{\\left(\\theta \\right)}\\right)$"
      ],
      "text/plain": [
       "r*(3*r**2*sin(theta)**2 - r*(r*cos(theta) - 3)*sin(theta))"
      ]
     },
     "execution_count": 51,
     "metadata": {},
     "output_type": "execute_result"
    }
   ],
   "source": [
    "# For integration, we switch to polar coordinates.\n",
    "# For area transformation we must include the Jacobian (extra (r) at the end)\n",
    "integrand3 = (integrand3.subs([(C.y, r*sin(theta)), (C.x, r*cos(theta))]))*(r)     # (Note multible substitions as a list)\n",
    "integrand3"
   ]
  },
  {
   "cell_type": "code",
   "execution_count": 52,
   "id": "c2d9126b",
   "metadata": {},
   "outputs": [
    {
     "data": {
      "text/latex": [
       "$\\displaystyle 12 \\pi$"
      ],
      "text/plain": [
       "12*pi"
      ]
     },
     "execution_count": 52,
     "metadata": {},
     "output_type": "execute_result"
    }
   ],
   "source": [
    "I3  = vector_integrate(integrand3, (r, 0, 2), (theta, 0, 2*pi))\n",
    "I3"
   ]
  },
  {
   "cell_type": "markdown",
   "id": "57fc9f89",
   "metadata": {},
   "source": [
    "**S3. b)**  By ParametricRegion using polar coordinates."
   ]
  },
  {
   "cell_type": "code",
   "execution_count": 53,
   "id": "ab1a22c1",
   "metadata": {},
   "outputs": [
    {
     "data": {
      "text/latex": [
       "$\\displaystyle 12 \\pi$"
      ],
      "text/plain": [
       "12*pi"
      ]
     },
     "execution_count": 53,
     "metadata": {},
     "output_type": "execute_result"
    }
   ],
   "source": [
    "# Area definition: Base scalars <x,y,z> in polar coordinates (z = x - 3)..  \n",
    "# and then bounds of the parameters r and theta.\n",
    "S3 = ParametricRegion((r*cos(theta), r*sin(theta), r*cos(theta) - 3),   \n",
    "                     (r, 0, 2), (theta, 0, 2*pi)) \n",
    "\n",
    "F3 = C.y*C.z*C.i  + C.x*C.j + 3*C.y**2*C.k                                             # Vector field in CoordSys3D('C')\n",
    "F3 = (F3.subs([(C.y, r*sin(theta)), (C.x, r*cos(theta)), (C.z, r*cos(theta) - 3)]))    # Field to polar coordinates\n",
    "\n",
    "'Note that here we do not need to explicitly include the Jacobian (r)'\n",
    "\n",
    "I3 = vector_integrate(F3, S3)\n",
    "I3"
   ]
  },
  {
   "cell_type": "markdown",
   "id": "baa2f4b9",
   "metadata": {},
   "source": [
    "**The final result**"
   ]
  },
  {
   "cell_type": "code",
   "execution_count": 54,
   "id": "388705f7",
   "metadata": {},
   "outputs": [
    {
     "name": "stdout",
     "output_type": "stream",
     "text": [
      "I = 0 + -12*pi + 12*pi = 0\n"
     ]
    }
   ],
   "source": [
    "# The asked integral \n",
    "I = I1 + I2 + I3 \n",
    "print('I =', I1,'+', I2,'+', I3, '=', I)"
   ]
  },
  {
   "cell_type": "markdown",
   "id": "80ccde9c",
   "metadata": {},
   "source": [
    "======================================\n",
    "\n",
    "Codes: Heikki Miettinen 2024"
   ]
  }
 ],
 "metadata": {
  "kernelspec": {
   "display_name": "Python 3 (ipykernel)",
   "language": "python",
   "name": "python3"
  },
  "language_info": {
   "codemirror_mode": {
    "name": "ipython",
    "version": 3
   },
   "file_extension": ".py",
   "mimetype": "text/x-python",
   "name": "python",
   "nbconvert_exporter": "python",
   "pygments_lexer": "ipython3",
   "version": "3.11.5"
  }
 },
 "nbformat": 4,
 "nbformat_minor": 5
}
